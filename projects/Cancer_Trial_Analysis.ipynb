{
  "nbformat": 4,
  "nbformat_minor": 0,
  "metadata": {
    "colab": {
      "provenance": []
    },
    "kernelspec": {
      "name": "python3",
      "display_name": "Python 3"
    },
    "language_info": {
      "name": "python"
    }
  },
  "cells": [
    {
      "cell_type": "markdown",
      "source": [
        "## Overview\n",
        "\n",
        "Cancer is the second common cause of death in the US and has major impacts on societies across the world. There are over 100 different types of cancers. Each has unique characteristics that influence its behavior and response to treatment, making it crucial to understand the different cancer types. Though there are many studies conducted on cancer and cancer treatments, there are still many cancer types of which doctors and scientists know little about."
      ],
      "metadata": {
        "id": "_6KyIcApvmuJ"
      }
    },
    {
      "cell_type": "markdown",
      "source": [
        "## Data"
      ],
      "metadata": {
        "id": "5UDFTXoDv7Fh"
      }
    },
    {
      "cell_type": "markdown",
      "source": [
        "### Data Overview\n",
        "\n",
        " This dataset published by ClinicalTrials.gov and adopted by Noah Rippner and published to data.world in 2016 and is open to public. The data ranges from 2010 to 2016. Data collection is preformed by govenment agency through trial approvals and reports.\n",
        "   - Source URL: https://data.world/nrippner/cancer-trials/workspace/file?filename=study_fields.csv\n",
        "\n",
        "This dataset contains 10686 rows of data. Each row represents a trial with a unique title and NTC number.\n",
        "\n",
        "A list of variable and variable discriptions is listed below:\n",
        "1. **Rank**: Numerical (ordinal). Represents the ranking of the clinical trial in the dataset.\n",
        "2. **NCT Number**: Categorical (ID). A unique identifier for each clinical trial.\n",
        "3. **Title**: Categorical (text). The title or name of the clinical trial.\n",
        "4. **Recruitment**: Categorical (Recruiting, Completed, Not Yet Recruiting, etc.). Indicates the current recruitment status of the trial.\n",
        "5. **Study Results**: Categorical (Available, Not Available). Reflects whether the trial results have been posted.\n",
        "6. **Conditions**: Categorical (text). Lists the medical conditions being studied in the trial.\n",
        "7. **Interventions**: Categorical (text). Describes the treatments or interventions being tested in the trial.\n",
        "8. **Sponsor/Collaborators**: Categorical (text). Organizations or institutions that sponsor or collaborate on the trial.\n",
        "9. **Gender**: Categorical (Male, Female, Both). Indicates the eligible gender(s) for participation in the trial.\n",
        "10. **Age Groups**: Categorical (Child, Adult, Senior). The age groups eligible to participate in the trial.\n",
        "11. **First Received, Start Date, Completion Date**: Date (timestamp). Key dates related to the trial, such as when it was first received, started, and completed.\n",
        "12. **Outcome Measures**: Categorical (text). Metrics used to evaluate the effectiveness or safety of the interventions.\n",
        "13. **URL**: Categorical (URL). A link to more detailed information about the clinical trial on a public database.\n"
      ],
      "metadata": {
        "id": "6DVc_ZSxwJkJ"
      }
    },
    {
      "cell_type": "markdown",
      "source": [
        "### Data Details"
      ],
      "metadata": {
        "id": "CqpvoWEUwNeW"
      }
    },
    {
      "cell_type": "code",
      "source": [
        "# load the data\n",
        "import pandas as pd\n",
        "import plotly.express as px\n",
        "df = pd.read_csv('study_fields.csv')\n",
        "df.info()\n",
        "df.describe()"
      ],
      "metadata": {
        "id": "WQIyQBvnvywo",
        "colab": {
          "base_uri": "https://localhost:8080/",
          "height": 873
        },
        "outputId": "7e03aa2a-c324-47d0-cbd5-c34ba31c5597"
      },
      "execution_count": 2,
      "outputs": [
        {
          "output_type": "stream",
          "name": "stdout",
          "text": [
            "<class 'pandas.core.frame.DataFrame'>\n",
            "RangeIndex: 10686 entries, 0 to 10685\n",
            "Data columns (total 26 columns):\n",
            " #   Column                   Non-Null Count  Dtype  \n",
            "---  ------                   --------------  -----  \n",
            " 0   Rank                     10686 non-null  int64  \n",
            " 1   NCT Number               10686 non-null  object \n",
            " 2   Title                    10686 non-null  object \n",
            " 3   Recruitment              10686 non-null  object \n",
            " 4   Study Results            10686 non-null  object \n",
            " 5   Conditions               10686 non-null  object \n",
            " 6   Interventions            9887 non-null   object \n",
            " 7   Sponsor/Collaborators    10686 non-null  object \n",
            " 8   Gender                   10685 non-null  object \n",
            " 9   Age Groups               10686 non-null  object \n",
            " 10  Phases                   7314 non-null   object \n",
            " 11  Enrollment               10612 non-null  float64\n",
            " 12  Funded Bys               10686 non-null  object \n",
            " 13  Study Types              10686 non-null  object \n",
            " 14  Study Designs            10582 non-null  object \n",
            " 15  Other IDs                10685 non-null  object \n",
            " 16  First Received           10686 non-null  object \n",
            " 17  Start Date               10613 non-null  object \n",
            " 18  Completion Date          8257 non-null   object \n",
            " 19  Last Updated             10686 non-null  object \n",
            " 20  Last Verified            10686 non-null  object \n",
            " 21  Results First Received   10686 non-null  object \n",
            " 22  Acronym                  1492 non-null   object \n",
            " 23  Primary Completion Date  10532 non-null  object \n",
            " 24  Outcome Measures         10519 non-null  object \n",
            " 25  URL                      10686 non-null  object \n",
            "dtypes: float64(1), int64(1), object(24)\n",
            "memory usage: 2.1+ MB\n"
          ]
        },
        {
          "output_type": "execute_result",
          "data": {
            "text/plain": [
              "               Rank    Enrollment\n",
              "count  10686.000000  1.061200e+04\n",
              "mean    5343.500000  1.253972e+04\n",
              "std     3084.926822  9.910954e+05\n",
              "min        1.000000  0.000000e+00\n",
              "25%     2672.250000  2.200000e+01\n",
              "50%     5343.500000  4.800000e+01\n",
              "75%     8014.750000  1.200000e+02\n",
              "max    10686.000000  1.000000e+08"
            ],
            "text/html": [
              "\n",
              "  <div id=\"df-97756358-a015-4d55-9a64-559071a4fa1f\" class=\"colab-df-container\">\n",
              "    <div>\n",
              "<style scoped>\n",
              "    .dataframe tbody tr th:only-of-type {\n",
              "        vertical-align: middle;\n",
              "    }\n",
              "\n",
              "    .dataframe tbody tr th {\n",
              "        vertical-align: top;\n",
              "    }\n",
              "\n",
              "    .dataframe thead th {\n",
              "        text-align: right;\n",
              "    }\n",
              "</style>\n",
              "<table border=\"1\" class=\"dataframe\">\n",
              "  <thead>\n",
              "    <tr style=\"text-align: right;\">\n",
              "      <th></th>\n",
              "      <th>Rank</th>\n",
              "      <th>Enrollment</th>\n",
              "    </tr>\n",
              "  </thead>\n",
              "  <tbody>\n",
              "    <tr>\n",
              "      <th>count</th>\n",
              "      <td>10686.000000</td>\n",
              "      <td>1.061200e+04</td>\n",
              "    </tr>\n",
              "    <tr>\n",
              "      <th>mean</th>\n",
              "      <td>5343.500000</td>\n",
              "      <td>1.253972e+04</td>\n",
              "    </tr>\n",
              "    <tr>\n",
              "      <th>std</th>\n",
              "      <td>3084.926822</td>\n",
              "      <td>9.910954e+05</td>\n",
              "    </tr>\n",
              "    <tr>\n",
              "      <th>min</th>\n",
              "      <td>1.000000</td>\n",
              "      <td>0.000000e+00</td>\n",
              "    </tr>\n",
              "    <tr>\n",
              "      <th>25%</th>\n",
              "      <td>2672.250000</td>\n",
              "      <td>2.200000e+01</td>\n",
              "    </tr>\n",
              "    <tr>\n",
              "      <th>50%</th>\n",
              "      <td>5343.500000</td>\n",
              "      <td>4.800000e+01</td>\n",
              "    </tr>\n",
              "    <tr>\n",
              "      <th>75%</th>\n",
              "      <td>8014.750000</td>\n",
              "      <td>1.200000e+02</td>\n",
              "    </tr>\n",
              "    <tr>\n",
              "      <th>max</th>\n",
              "      <td>10686.000000</td>\n",
              "      <td>1.000000e+08</td>\n",
              "    </tr>\n",
              "  </tbody>\n",
              "</table>\n",
              "</div>\n",
              "    <div class=\"colab-df-buttons\">\n",
              "\n",
              "  <div class=\"colab-df-container\">\n",
              "    <button class=\"colab-df-convert\" onclick=\"convertToInteractive('df-97756358-a015-4d55-9a64-559071a4fa1f')\"\n",
              "            title=\"Convert this dataframe to an interactive table.\"\n",
              "            style=\"display:none;\">\n",
              "\n",
              "  <svg xmlns=\"http://www.w3.org/2000/svg\" height=\"24px\" viewBox=\"0 -960 960 960\">\n",
              "    <path d=\"M120-120v-720h720v720H120Zm60-500h600v-160H180v160Zm220 220h160v-160H400v160Zm0 220h160v-160H400v160ZM180-400h160v-160H180v160Zm440 0h160v-160H620v160ZM180-180h160v-160H180v160Zm440 0h160v-160H620v160Z\"/>\n",
              "  </svg>\n",
              "    </button>\n",
              "\n",
              "  <style>\n",
              "    .colab-df-container {\n",
              "      display:flex;\n",
              "      gap: 12px;\n",
              "    }\n",
              "\n",
              "    .colab-df-convert {\n",
              "      background-color: #E8F0FE;\n",
              "      border: none;\n",
              "      border-radius: 50%;\n",
              "      cursor: pointer;\n",
              "      display: none;\n",
              "      fill: #1967D2;\n",
              "      height: 32px;\n",
              "      padding: 0 0 0 0;\n",
              "      width: 32px;\n",
              "    }\n",
              "\n",
              "    .colab-df-convert:hover {\n",
              "      background-color: #E2EBFA;\n",
              "      box-shadow: 0px 1px 2px rgba(60, 64, 67, 0.3), 0px 1px 3px 1px rgba(60, 64, 67, 0.15);\n",
              "      fill: #174EA6;\n",
              "    }\n",
              "\n",
              "    .colab-df-buttons div {\n",
              "      margin-bottom: 4px;\n",
              "    }\n",
              "\n",
              "    [theme=dark] .colab-df-convert {\n",
              "      background-color: #3B4455;\n",
              "      fill: #D2E3FC;\n",
              "    }\n",
              "\n",
              "    [theme=dark] .colab-df-convert:hover {\n",
              "      background-color: #434B5C;\n",
              "      box-shadow: 0px 1px 3px 1px rgba(0, 0, 0, 0.15);\n",
              "      filter: drop-shadow(0px 1px 2px rgba(0, 0, 0, 0.3));\n",
              "      fill: #FFFFFF;\n",
              "    }\n",
              "  </style>\n",
              "\n",
              "    <script>\n",
              "      const buttonEl =\n",
              "        document.querySelector('#df-97756358-a015-4d55-9a64-559071a4fa1f button.colab-df-convert');\n",
              "      buttonEl.style.display =\n",
              "        google.colab.kernel.accessAllowed ? 'block' : 'none';\n",
              "\n",
              "      async function convertToInteractive(key) {\n",
              "        const element = document.querySelector('#df-97756358-a015-4d55-9a64-559071a4fa1f');\n",
              "        const dataTable =\n",
              "          await google.colab.kernel.invokeFunction('convertToInteractive',\n",
              "                                                    [key], {});\n",
              "        if (!dataTable) return;\n",
              "\n",
              "        const docLinkHtml = 'Like what you see? Visit the ' +\n",
              "          '<a target=\"_blank\" href=https://colab.research.google.com/notebooks/data_table.ipynb>data table notebook</a>'\n",
              "          + ' to learn more about interactive tables.';\n",
              "        element.innerHTML = '';\n",
              "        dataTable['output_type'] = 'display_data';\n",
              "        await google.colab.output.renderOutput(dataTable, element);\n",
              "        const docLink = document.createElement('div');\n",
              "        docLink.innerHTML = docLinkHtml;\n",
              "        element.appendChild(docLink);\n",
              "      }\n",
              "    </script>\n",
              "  </div>\n",
              "\n",
              "\n",
              "<div id=\"df-951b98e2-83da-48c9-b5f8-1461ee1a8c9e\">\n",
              "  <button class=\"colab-df-quickchart\" onclick=\"quickchart('df-951b98e2-83da-48c9-b5f8-1461ee1a8c9e')\"\n",
              "            title=\"Suggest charts\"\n",
              "            style=\"display:none;\">\n",
              "\n",
              "<svg xmlns=\"http://www.w3.org/2000/svg\" height=\"24px\"viewBox=\"0 0 24 24\"\n",
              "     width=\"24px\">\n",
              "    <g>\n",
              "        <path d=\"M19 3H5c-1.1 0-2 .9-2 2v14c0 1.1.9 2 2 2h14c1.1 0 2-.9 2-2V5c0-1.1-.9-2-2-2zM9 17H7v-7h2v7zm4 0h-2V7h2v10zm4 0h-2v-4h2v4z\"/>\n",
              "    </g>\n",
              "</svg>\n",
              "  </button>\n",
              "\n",
              "<style>\n",
              "  .colab-df-quickchart {\n",
              "      --bg-color: #E8F0FE;\n",
              "      --fill-color: #1967D2;\n",
              "      --hover-bg-color: #E2EBFA;\n",
              "      --hover-fill-color: #174EA6;\n",
              "      --disabled-fill-color: #AAA;\n",
              "      --disabled-bg-color: #DDD;\n",
              "  }\n",
              "\n",
              "  [theme=dark] .colab-df-quickchart {\n",
              "      --bg-color: #3B4455;\n",
              "      --fill-color: #D2E3FC;\n",
              "      --hover-bg-color: #434B5C;\n",
              "      --hover-fill-color: #FFFFFF;\n",
              "      --disabled-bg-color: #3B4455;\n",
              "      --disabled-fill-color: #666;\n",
              "  }\n",
              "\n",
              "  .colab-df-quickchart {\n",
              "    background-color: var(--bg-color);\n",
              "    border: none;\n",
              "    border-radius: 50%;\n",
              "    cursor: pointer;\n",
              "    display: none;\n",
              "    fill: var(--fill-color);\n",
              "    height: 32px;\n",
              "    padding: 0;\n",
              "    width: 32px;\n",
              "  }\n",
              "\n",
              "  .colab-df-quickchart:hover {\n",
              "    background-color: var(--hover-bg-color);\n",
              "    box-shadow: 0 1px 2px rgba(60, 64, 67, 0.3), 0 1px 3px 1px rgba(60, 64, 67, 0.15);\n",
              "    fill: var(--button-hover-fill-color);\n",
              "  }\n",
              "\n",
              "  .colab-df-quickchart-complete:disabled,\n",
              "  .colab-df-quickchart-complete:disabled:hover {\n",
              "    background-color: var(--disabled-bg-color);\n",
              "    fill: var(--disabled-fill-color);\n",
              "    box-shadow: none;\n",
              "  }\n",
              "\n",
              "  .colab-df-spinner {\n",
              "    border: 2px solid var(--fill-color);\n",
              "    border-color: transparent;\n",
              "    border-bottom-color: var(--fill-color);\n",
              "    animation:\n",
              "      spin 1s steps(1) infinite;\n",
              "  }\n",
              "\n",
              "  @keyframes spin {\n",
              "    0% {\n",
              "      border-color: transparent;\n",
              "      border-bottom-color: var(--fill-color);\n",
              "      border-left-color: var(--fill-color);\n",
              "    }\n",
              "    20% {\n",
              "      border-color: transparent;\n",
              "      border-left-color: var(--fill-color);\n",
              "      border-top-color: var(--fill-color);\n",
              "    }\n",
              "    30% {\n",
              "      border-color: transparent;\n",
              "      border-left-color: var(--fill-color);\n",
              "      border-top-color: var(--fill-color);\n",
              "      border-right-color: var(--fill-color);\n",
              "    }\n",
              "    40% {\n",
              "      border-color: transparent;\n",
              "      border-right-color: var(--fill-color);\n",
              "      border-top-color: var(--fill-color);\n",
              "    }\n",
              "    60% {\n",
              "      border-color: transparent;\n",
              "      border-right-color: var(--fill-color);\n",
              "    }\n",
              "    80% {\n",
              "      border-color: transparent;\n",
              "      border-right-color: var(--fill-color);\n",
              "      border-bottom-color: var(--fill-color);\n",
              "    }\n",
              "    90% {\n",
              "      border-color: transparent;\n",
              "      border-bottom-color: var(--fill-color);\n",
              "    }\n",
              "  }\n",
              "</style>\n",
              "\n",
              "  <script>\n",
              "    async function quickchart(key) {\n",
              "      const quickchartButtonEl =\n",
              "        document.querySelector('#' + key + ' button');\n",
              "      quickchartButtonEl.disabled = true;  // To prevent multiple clicks.\n",
              "      quickchartButtonEl.classList.add('colab-df-spinner');\n",
              "      try {\n",
              "        const charts = await google.colab.kernel.invokeFunction(\n",
              "            'suggestCharts', [key], {});\n",
              "      } catch (error) {\n",
              "        console.error('Error during call to suggestCharts:', error);\n",
              "      }\n",
              "      quickchartButtonEl.classList.remove('colab-df-spinner');\n",
              "      quickchartButtonEl.classList.add('colab-df-quickchart-complete');\n",
              "    }\n",
              "    (() => {\n",
              "      let quickchartButtonEl =\n",
              "        document.querySelector('#df-951b98e2-83da-48c9-b5f8-1461ee1a8c9e button');\n",
              "      quickchartButtonEl.style.display =\n",
              "        google.colab.kernel.accessAllowed ? 'block' : 'none';\n",
              "    })();\n",
              "  </script>\n",
              "</div>\n",
              "\n",
              "    </div>\n",
              "  </div>\n"
            ],
            "application/vnd.google.colaboratory.intrinsic+json": {
              "type": "dataframe",
              "summary": "{\n  \"name\": \"df\",\n  \"rows\": 8,\n  \"fields\": [\n    {\n      \"column\": \"Rank\",\n      \"properties\": {\n        \"dtype\": \"number\",\n        \"std\": 3850.98130522709,\n        \"min\": 1.0,\n        \"max\": 10686.0,\n        \"num_unique_values\": 6,\n        \"samples\": [\n          10686.0,\n          5343.5,\n          8014.75\n        ],\n        \"semantic_type\": \"\",\n        \"description\": \"\"\n      }\n    },\n    {\n      \"column\": \"Enrollment\",\n      \"properties\": {\n        \"dtype\": \"number\",\n        \"std\": 35305792.3260866,\n        \"min\": 0.0,\n        \"max\": 99999999.0,\n        \"num_unique_values\": 8,\n        \"samples\": [\n          12539.719656992085,\n          48.0,\n          10612.0\n        ],\n        \"semantic_type\": \"\",\n        \"description\": \"\"\n      }\n    }\n  ]\n}"
            }
          },
          "metadata": {},
          "execution_count": 2
        }
      ]
    },
    {
      "cell_type": "markdown",
      "source": [
        "### Most Frequently Studied Cancer Conditions\n",
        "We are interested as to **what conditions are most frequently studied.**"
      ],
      "metadata": {
        "id": "xfM9HNaFwbuU"
      }
    },
    {
      "cell_type": "markdown",
      "source": [
        "#### Implementation"
      ],
      "metadata": {
        "id": "TlNyUywEwCwG"
      }
    },
    {
      "cell_type": "code",
      "source": [
        "# Filtered data set only includes necenssary columns\n",
        "df_conditions = df[['NCT Number','Conditions','Gender','Age Groups']]\n",
        "# Exploding dataset by conditions\n",
        "conditions_exploded = df_conditions.assign(Conditions=df_conditions.Conditions.str.split('|')).explode('Conditions')\n",
        "print(f'Number of Rows in conditions_exploded: {len(conditions_exploded)}')\n",
        "\n",
        "top_10_conditions = conditions_exploded['Conditions'].value_counts().head(10)\n",
        "print(top_10_conditions)"
      ],
      "metadata": {
        "id": "UALFNVHwr2jJ",
        "colab": {
          "base_uri": "https://localhost:8080/"
        },
        "outputId": "4682ea7f-b6b1-4661-94c9-7d85cce80a30"
      },
      "execution_count": 14,
      "outputs": [
        {
          "output_type": "stream",
          "name": "stdout",
          "text": [
            "Number of Rows in conditions_exploded: 28666\n",
            "Conditions\n",
            "Breast Cancer        872\n",
            "Prostate Cancer      500\n",
            "Cancer               349\n",
            "Multiple Myeloma     332\n",
            "Lung Cancer          221\n",
            "Melanoma             220\n",
            "Lymphoma             209\n",
            "Pancreatic Cancer    207\n",
            "Colorectal Cancer    205\n",
            "Leukemia             184\n",
            "Name: count, dtype: int64\n"
          ]
        }
      ]
    },
    {
      "cell_type": "code",
      "source": [
        "import plotly.express as px\n",
        "fig = px.bar(top_10_conditions,\n",
        "             x=top_10_conditions.index,\n",
        "             y= top_10_conditions.values,\n",
        "             text_auto=True,\n",
        "             labels = {'x':'Conditions','y':'Number of Trials'},\n",
        "             title='Top 10 Most Frequently Studied Cancer Conditions From 2010 To 2016')\n",
        "fig.show()"
      ],
      "metadata": {
        "id": "1N8j4jMDwrGd",
        "colab": {
          "base_uri": "https://localhost:8080/",
          "height": 542
        },
        "outputId": "1be83f9a-e0df-42cc-e073-0702a1ba2358"
      },
      "execution_count": 16,
      "outputs": [
        {
          "output_type": "display_data",
          "data": {
            "text/html": [
              "<html>\n",
              "<head><meta charset=\"utf-8\" /></head>\n",
              "<body>\n",
              "    <div>            <script src=\"https://cdnjs.cloudflare.com/ajax/libs/mathjax/2.7.5/MathJax.js?config=TeX-AMS-MML_SVG\"></script><script type=\"text/javascript\">if (window.MathJax && window.MathJax.Hub && window.MathJax.Hub.Config) {window.MathJax.Hub.Config({SVG: {font: \"STIX-Web\"}});}</script>                <script type=\"text/javascript\">window.PlotlyConfig = {MathJaxConfig: 'local'};</script>\n",
              "        <script charset=\"utf-8\" src=\"https://cdn.plot.ly/plotly-2.35.2.min.js\"></script>                <div id=\"85bdfdd6-0025-4b32-aedf-6adc48649e28\" class=\"plotly-graph-div\" style=\"height:525px; width:100%;\"></div>            <script type=\"text/javascript\">                                    window.PLOTLYENV=window.PLOTLYENV || {};                                    if (document.getElementById(\"85bdfdd6-0025-4b32-aedf-6adc48649e28\")) {                    Plotly.newPlot(                        \"85bdfdd6-0025-4b32-aedf-6adc48649e28\",                        [{\"alignmentgroup\":\"True\",\"hovertemplate\":\"Conditions=%{x}\\u003cbr\\u003eNumber of Trials=%{y}\\u003cextra\\u003e\\u003c\\u002fextra\\u003e\",\"legendgroup\":\"\",\"marker\":{\"color\":\"#636efa\",\"pattern\":{\"shape\":\"\"}},\"name\":\"\",\"offsetgroup\":\"\",\"orientation\":\"v\",\"showlegend\":false,\"textposition\":\"auto\",\"texttemplate\":\"%{y}\",\"x\":[\"Breast Cancer\",\"Prostate Cancer\",\"Cancer\",\"Multiple Myeloma\",\"Lung Cancer\",\"Melanoma\",\"Lymphoma\",\"Pancreatic Cancer\",\"Colorectal Cancer\",\"Leukemia\"],\"xaxis\":\"x\",\"y\":[872,500,349,332,221,220,209,207,205,184],\"yaxis\":\"y\",\"type\":\"bar\"}],                        {\"template\":{\"data\":{\"histogram2dcontour\":[{\"type\":\"histogram2dcontour\",\"colorbar\":{\"outlinewidth\":0,\"ticks\":\"\"},\"colorscale\":[[0.0,\"#0d0887\"],[0.1111111111111111,\"#46039f\"],[0.2222222222222222,\"#7201a8\"],[0.3333333333333333,\"#9c179e\"],[0.4444444444444444,\"#bd3786\"],[0.5555555555555556,\"#d8576b\"],[0.6666666666666666,\"#ed7953\"],[0.7777777777777778,\"#fb9f3a\"],[0.8888888888888888,\"#fdca26\"],[1.0,\"#f0f921\"]]}],\"choropleth\":[{\"type\":\"choropleth\",\"colorbar\":{\"outlinewidth\":0,\"ticks\":\"\"}}],\"histogram2d\":[{\"type\":\"histogram2d\",\"colorbar\":{\"outlinewidth\":0,\"ticks\":\"\"},\"colorscale\":[[0.0,\"#0d0887\"],[0.1111111111111111,\"#46039f\"],[0.2222222222222222,\"#7201a8\"],[0.3333333333333333,\"#9c179e\"],[0.4444444444444444,\"#bd3786\"],[0.5555555555555556,\"#d8576b\"],[0.6666666666666666,\"#ed7953\"],[0.7777777777777778,\"#fb9f3a\"],[0.8888888888888888,\"#fdca26\"],[1.0,\"#f0f921\"]]}],\"heatmap\":[{\"type\":\"heatmap\",\"colorbar\":{\"outlinewidth\":0,\"ticks\":\"\"},\"colorscale\":[[0.0,\"#0d0887\"],[0.1111111111111111,\"#46039f\"],[0.2222222222222222,\"#7201a8\"],[0.3333333333333333,\"#9c179e\"],[0.4444444444444444,\"#bd3786\"],[0.5555555555555556,\"#d8576b\"],[0.6666666666666666,\"#ed7953\"],[0.7777777777777778,\"#fb9f3a\"],[0.8888888888888888,\"#fdca26\"],[1.0,\"#f0f921\"]]}],\"heatmapgl\":[{\"type\":\"heatmapgl\",\"colorbar\":{\"outlinewidth\":0,\"ticks\":\"\"},\"colorscale\":[[0.0,\"#0d0887\"],[0.1111111111111111,\"#46039f\"],[0.2222222222222222,\"#7201a8\"],[0.3333333333333333,\"#9c179e\"],[0.4444444444444444,\"#bd3786\"],[0.5555555555555556,\"#d8576b\"],[0.6666666666666666,\"#ed7953\"],[0.7777777777777778,\"#fb9f3a\"],[0.8888888888888888,\"#fdca26\"],[1.0,\"#f0f921\"]]}],\"contourcarpet\":[{\"type\":\"contourcarpet\",\"colorbar\":{\"outlinewidth\":0,\"ticks\":\"\"}}],\"contour\":[{\"type\":\"contour\",\"colorbar\":{\"outlinewidth\":0,\"ticks\":\"\"},\"colorscale\":[[0.0,\"#0d0887\"],[0.1111111111111111,\"#46039f\"],[0.2222222222222222,\"#7201a8\"],[0.3333333333333333,\"#9c179e\"],[0.4444444444444444,\"#bd3786\"],[0.5555555555555556,\"#d8576b\"],[0.6666666666666666,\"#ed7953\"],[0.7777777777777778,\"#fb9f3a\"],[0.8888888888888888,\"#fdca26\"],[1.0,\"#f0f921\"]]}],\"surface\":[{\"type\":\"surface\",\"colorbar\":{\"outlinewidth\":0,\"ticks\":\"\"},\"colorscale\":[[0.0,\"#0d0887\"],[0.1111111111111111,\"#46039f\"],[0.2222222222222222,\"#7201a8\"],[0.3333333333333333,\"#9c179e\"],[0.4444444444444444,\"#bd3786\"],[0.5555555555555556,\"#d8576b\"],[0.6666666666666666,\"#ed7953\"],[0.7777777777777778,\"#fb9f3a\"],[0.8888888888888888,\"#fdca26\"],[1.0,\"#f0f921\"]]}],\"mesh3d\":[{\"type\":\"mesh3d\",\"colorbar\":{\"outlinewidth\":0,\"ticks\":\"\"}}],\"scatter\":[{\"fillpattern\":{\"fillmode\":\"overlay\",\"size\":10,\"solidity\":0.2},\"type\":\"scatter\"}],\"parcoords\":[{\"type\":\"parcoords\",\"line\":{\"colorbar\":{\"outlinewidth\":0,\"ticks\":\"\"}}}],\"scatterpolargl\":[{\"type\":\"scatterpolargl\",\"marker\":{\"colorbar\":{\"outlinewidth\":0,\"ticks\":\"\"}}}],\"bar\":[{\"error_x\":{\"color\":\"#2a3f5f\"},\"error_y\":{\"color\":\"#2a3f5f\"},\"marker\":{\"line\":{\"color\":\"#E5ECF6\",\"width\":0.5},\"pattern\":{\"fillmode\":\"overlay\",\"size\":10,\"solidity\":0.2}},\"type\":\"bar\"}],\"scattergeo\":[{\"type\":\"scattergeo\",\"marker\":{\"colorbar\":{\"outlinewidth\":0,\"ticks\":\"\"}}}],\"scatterpolar\":[{\"type\":\"scatterpolar\",\"marker\":{\"colorbar\":{\"outlinewidth\":0,\"ticks\":\"\"}}}],\"histogram\":[{\"marker\":{\"pattern\":{\"fillmode\":\"overlay\",\"size\":10,\"solidity\":0.2}},\"type\":\"histogram\"}],\"scattergl\":[{\"type\":\"scattergl\",\"marker\":{\"colorbar\":{\"outlinewidth\":0,\"ticks\":\"\"}}}],\"scatter3d\":[{\"type\":\"scatter3d\",\"line\":{\"colorbar\":{\"outlinewidth\":0,\"ticks\":\"\"}},\"marker\":{\"colorbar\":{\"outlinewidth\":0,\"ticks\":\"\"}}}],\"scattermapbox\":[{\"type\":\"scattermapbox\",\"marker\":{\"colorbar\":{\"outlinewidth\":0,\"ticks\":\"\"}}}],\"scatterternary\":[{\"type\":\"scatterternary\",\"marker\":{\"colorbar\":{\"outlinewidth\":0,\"ticks\":\"\"}}}],\"scattercarpet\":[{\"type\":\"scattercarpet\",\"marker\":{\"colorbar\":{\"outlinewidth\":0,\"ticks\":\"\"}}}],\"carpet\":[{\"aaxis\":{\"endlinecolor\":\"#2a3f5f\",\"gridcolor\":\"white\",\"linecolor\":\"white\",\"minorgridcolor\":\"white\",\"startlinecolor\":\"#2a3f5f\"},\"baxis\":{\"endlinecolor\":\"#2a3f5f\",\"gridcolor\":\"white\",\"linecolor\":\"white\",\"minorgridcolor\":\"white\",\"startlinecolor\":\"#2a3f5f\"},\"type\":\"carpet\"}],\"table\":[{\"cells\":{\"fill\":{\"color\":\"#EBF0F8\"},\"line\":{\"color\":\"white\"}},\"header\":{\"fill\":{\"color\":\"#C8D4E3\"},\"line\":{\"color\":\"white\"}},\"type\":\"table\"}],\"barpolar\":[{\"marker\":{\"line\":{\"color\":\"#E5ECF6\",\"width\":0.5},\"pattern\":{\"fillmode\":\"overlay\",\"size\":10,\"solidity\":0.2}},\"type\":\"barpolar\"}],\"pie\":[{\"automargin\":true,\"type\":\"pie\"}]},\"layout\":{\"autotypenumbers\":\"strict\",\"colorway\":[\"#636efa\",\"#EF553B\",\"#00cc96\",\"#ab63fa\",\"#FFA15A\",\"#19d3f3\",\"#FF6692\",\"#B6E880\",\"#FF97FF\",\"#FECB52\"],\"font\":{\"color\":\"#2a3f5f\"},\"hovermode\":\"closest\",\"hoverlabel\":{\"align\":\"left\"},\"paper_bgcolor\":\"white\",\"plot_bgcolor\":\"#E5ECF6\",\"polar\":{\"bgcolor\":\"#E5ECF6\",\"angularaxis\":{\"gridcolor\":\"white\",\"linecolor\":\"white\",\"ticks\":\"\"},\"radialaxis\":{\"gridcolor\":\"white\",\"linecolor\":\"white\",\"ticks\":\"\"}},\"ternary\":{\"bgcolor\":\"#E5ECF6\",\"aaxis\":{\"gridcolor\":\"white\",\"linecolor\":\"white\",\"ticks\":\"\"},\"baxis\":{\"gridcolor\":\"white\",\"linecolor\":\"white\",\"ticks\":\"\"},\"caxis\":{\"gridcolor\":\"white\",\"linecolor\":\"white\",\"ticks\":\"\"}},\"coloraxis\":{\"colorbar\":{\"outlinewidth\":0,\"ticks\":\"\"}},\"colorscale\":{\"sequential\":[[0.0,\"#0d0887\"],[0.1111111111111111,\"#46039f\"],[0.2222222222222222,\"#7201a8\"],[0.3333333333333333,\"#9c179e\"],[0.4444444444444444,\"#bd3786\"],[0.5555555555555556,\"#d8576b\"],[0.6666666666666666,\"#ed7953\"],[0.7777777777777778,\"#fb9f3a\"],[0.8888888888888888,\"#fdca26\"],[1.0,\"#f0f921\"]],\"sequentialminus\":[[0.0,\"#0d0887\"],[0.1111111111111111,\"#46039f\"],[0.2222222222222222,\"#7201a8\"],[0.3333333333333333,\"#9c179e\"],[0.4444444444444444,\"#bd3786\"],[0.5555555555555556,\"#d8576b\"],[0.6666666666666666,\"#ed7953\"],[0.7777777777777778,\"#fb9f3a\"],[0.8888888888888888,\"#fdca26\"],[1.0,\"#f0f921\"]],\"diverging\":[[0,\"#8e0152\"],[0.1,\"#c51b7d\"],[0.2,\"#de77ae\"],[0.3,\"#f1b6da\"],[0.4,\"#fde0ef\"],[0.5,\"#f7f7f7\"],[0.6,\"#e6f5d0\"],[0.7,\"#b8e186\"],[0.8,\"#7fbc41\"],[0.9,\"#4d9221\"],[1,\"#276419\"]]},\"xaxis\":{\"gridcolor\":\"white\",\"linecolor\":\"white\",\"ticks\":\"\",\"title\":{\"standoff\":15},\"zerolinecolor\":\"white\",\"automargin\":true,\"zerolinewidth\":2},\"yaxis\":{\"gridcolor\":\"white\",\"linecolor\":\"white\",\"ticks\":\"\",\"title\":{\"standoff\":15},\"zerolinecolor\":\"white\",\"automargin\":true,\"zerolinewidth\":2},\"scene\":{\"xaxis\":{\"backgroundcolor\":\"#E5ECF6\",\"gridcolor\":\"white\",\"linecolor\":\"white\",\"showbackground\":true,\"ticks\":\"\",\"zerolinecolor\":\"white\",\"gridwidth\":2},\"yaxis\":{\"backgroundcolor\":\"#E5ECF6\",\"gridcolor\":\"white\",\"linecolor\":\"white\",\"showbackground\":true,\"ticks\":\"\",\"zerolinecolor\":\"white\",\"gridwidth\":2},\"zaxis\":{\"backgroundcolor\":\"#E5ECF6\",\"gridcolor\":\"white\",\"linecolor\":\"white\",\"showbackground\":true,\"ticks\":\"\",\"zerolinecolor\":\"white\",\"gridwidth\":2}},\"shapedefaults\":{\"line\":{\"color\":\"#2a3f5f\"}},\"annotationdefaults\":{\"arrowcolor\":\"#2a3f5f\",\"arrowhead\":0,\"arrowwidth\":1},\"geo\":{\"bgcolor\":\"white\",\"landcolor\":\"#E5ECF6\",\"subunitcolor\":\"white\",\"showland\":true,\"showlakes\":true,\"lakecolor\":\"white\"},\"title\":{\"x\":0.05},\"mapbox\":{\"style\":\"light\"}}},\"xaxis\":{\"anchor\":\"y\",\"domain\":[0.0,1.0],\"title\":{\"text\":\"Conditions\"}},\"yaxis\":{\"anchor\":\"x\",\"domain\":[0.0,1.0],\"title\":{\"text\":\"Number of Trials\"}},\"legend\":{\"tracegroupgap\":0},\"title\":{\"text\":\"Top 10 Most Frequently Studied Cancer Conditions From 2010 To 2016\"},\"barmode\":\"relative\"},                        {\"responsive\": true}                    ).then(function(){\n",
              "                            \n",
              "var gd = document.getElementById('85bdfdd6-0025-4b32-aedf-6adc48649e28');\n",
              "var x = new MutationObserver(function (mutations, observer) {{\n",
              "        var display = window.getComputedStyle(gd).display;\n",
              "        if (!display || display === 'none') {{\n",
              "            console.log([gd, 'removed!']);\n",
              "            Plotly.purge(gd);\n",
              "            observer.disconnect();\n",
              "        }}\n",
              "}});\n",
              "\n",
              "// Listen for the removal of the full notebook cells\n",
              "var notebookContainer = gd.closest('#notebook-container');\n",
              "if (notebookContainer) {{\n",
              "    x.observe(notebookContainer, {childList: true});\n",
              "}}\n",
              "\n",
              "// Listen for the clearing of the current output cell\n",
              "var outputEl = gd.closest('.output');\n",
              "if (outputEl) {{\n",
              "    x.observe(outputEl, {childList: true});\n",
              "}}\n",
              "\n",
              "                        })                };                            </script>        </div>\n",
              "</body>\n",
              "</html>"
            ]
          },
          "metadata": {}
        }
      ]
    },
    {
      "cell_type": "markdown",
      "source": [
        "Visualization Description: The plot above visualizes the top 10 most studied cancer conditions. We needed to filter the dataset, explode the conditions column, and find the top 10 conditions.\n",
        "\n",
        "The dataset is filtered to include only nessensary values; including unnessensary information in the dataset will slow down operation. The variable 'Conditions' includes many values for each trial, therefore the condition column is exploded."
      ],
      "metadata": {
        "id": "Z_szHacddAm5"
      }
    },
    {
      "cell_type": "markdown",
      "source": [
        "### Age Equality in Cancer Trials\n",
        "We are interested to know **the age distribution across cancer clinical trials for the top 10 cancer types**.\n",
        "\n",
        "At first we exploded the dataset by age group and explored the age group distribution in all clinical cancer trials."
      ],
      "metadata": {
        "id": "NhpqKepUwrnB"
      }
    },
    {
      "cell_type": "code",
      "source": [
        "# Create a copy of the original dataframe\n",
        "age_exploded = conditions_exploded.copy()\n",
        "\n",
        "# explode\n",
        "age_exploded['Age Groups'] = age_exploded['Age Groups'].str.split('|')\n",
        "age_exploded = age_exploded.explode('Age Groups')\n",
        "\n",
        "# Modify the age columns\n",
        "adult_trials_df = age_exploded[age_exploded['Age Groups'] == 'Adult']\n",
        "child_trials_df= age_exploded[age_exploded['Age Groups'] == 'Child']\n",
        "senior_trials_df = age_exploded[age_exploded['Age Groups'] == 'Senior']\n",
        "\n",
        "print(age_exploded.head())\n",
        "print(age_exploded.info())\n",
        "\n",
        "# calculate counts for each age group\n",
        "adult_count = adult_trials_df.shape[0]\n",
        "child_count = child_trials_df.shape[0]\n",
        "senior_count = senior_trials_df.shape[0]\n",
        "\n",
        "# Output\n",
        "print(f\"Number of child entries: {child_count}\")\n",
        "print(f\"Number of adult entries: {adult_count}\")\n",
        "print(f\"Number of senior entries: {senior_count}\")"
      ],
      "metadata": {
        "id": "B3sDJINuw2it",
        "colab": {
          "base_uri": "https://localhost:8080/"
        },
        "outputId": "2a800e61-e91f-45a9-a0d9-e4e17fc9a3d4"
      },
      "execution_count": 17,
      "outputs": [
        {
          "output_type": "stream",
          "name": "stdout",
          "text": [
            "    NCT Number         Conditions Gender Age Groups\n",
            "0  NCT02012699  Pancreatic Cancer   Both      Adult\n",
            "0  NCT02012699  Pancreatic Cancer   Both     Senior\n",
            "0  NCT02012699     Thyroid Cancer   Both      Adult\n",
            "0  NCT02012699     Thyroid Cancer   Both     Senior\n",
            "0  NCT02012699        Lung Cancer   Both      Adult\n",
            "<class 'pandas.core.frame.DataFrame'>\n",
            "Index: 57938 entries, 0 to 10685\n",
            "Data columns (total 4 columns):\n",
            " #   Column      Non-Null Count  Dtype \n",
            "---  ------      --------------  ----- \n",
            " 0   NCT Number  57938 non-null  object\n",
            " 1   Conditions  57938 non-null  object\n",
            " 2   Gender      57936 non-null  object\n",
            " 3   Age Groups  57938 non-null  object\n",
            "dtypes: object(4)\n",
            "memory usage: 2.2+ MB\n",
            "None\n",
            "Number of child entries: 4401\n",
            "Number of adult entries: 28262\n",
            "Number of senior entries: 25275\n"
          ]
        }
      ]
    },
    {
      "cell_type": "code",
      "source": [
        "age_groups = ['Child', 'Adult', 'Senior']\n",
        "trial_counts = [child_count, adult_count, senior_count]\n",
        "\n",
        "# Create a dataframe using age_group and Trial_counts\n",
        "data = pd.DataFrame({'Age Groups': age_groups, 'Number of Trials': trial_counts})\n",
        "\n",
        "fig = px.bar(data, x='Age Groups', y='Number of Trials',\n",
        "             title='Age Distribution in U.S. Cancer Trials from 2010 to 2016',\n",
        "             color='Age Groups',\n",
        "             color_discrete_sequence=['blue', 'green', 'orange'],\n",
        "             text_auto=True)\n",
        "\n",
        "# Add labels\n",
        "fig.update_layout(xaxis_title='Age Groups', yaxis_title='Number of Trials')\n",
        "\n",
        "fig.show()"
      ],
      "metadata": {
        "id": "gzs945KfsdoX",
        "colab": {
          "base_uri": "https://localhost:8080/",
          "height": 542
        },
        "outputId": "cccaec45-3757-4e4e-893c-3096d5aaf074"
      },
      "execution_count": 22,
      "outputs": [
        {
          "output_type": "display_data",
          "data": {
            "text/html": [
              "<html>\n",
              "<head><meta charset=\"utf-8\" /></head>\n",
              "<body>\n",
              "    <div>            <script src=\"https://cdnjs.cloudflare.com/ajax/libs/mathjax/2.7.5/MathJax.js?config=TeX-AMS-MML_SVG\"></script><script type=\"text/javascript\">if (window.MathJax && window.MathJax.Hub && window.MathJax.Hub.Config) {window.MathJax.Hub.Config({SVG: {font: \"STIX-Web\"}});}</script>                <script type=\"text/javascript\">window.PlotlyConfig = {MathJaxConfig: 'local'};</script>\n",
              "        <script charset=\"utf-8\" src=\"https://cdn.plot.ly/plotly-2.35.2.min.js\"></script>                <div id=\"46b2c376-a0b3-4a23-990b-94b8fcb54d21\" class=\"plotly-graph-div\" style=\"height:525px; width:100%;\"></div>            <script type=\"text/javascript\">                                    window.PLOTLYENV=window.PLOTLYENV || {};                                    if (document.getElementById(\"46b2c376-a0b3-4a23-990b-94b8fcb54d21\")) {                    Plotly.newPlot(                        \"46b2c376-a0b3-4a23-990b-94b8fcb54d21\",                        [{\"alignmentgroup\":\"True\",\"hovertemplate\":\"Age Groups=%{x}\\u003cbr\\u003eNumber of Trials=%{y}\\u003cextra\\u003e\\u003c\\u002fextra\\u003e\",\"legendgroup\":\"Child\",\"marker\":{\"color\":\"blue\",\"pattern\":{\"shape\":\"\"}},\"name\":\"Child\",\"offsetgroup\":\"Child\",\"orientation\":\"v\",\"showlegend\":true,\"textposition\":\"auto\",\"texttemplate\":\"%{y}\",\"x\":[\"Child\"],\"xaxis\":\"x\",\"y\":[4401],\"yaxis\":\"y\",\"type\":\"bar\"},{\"alignmentgroup\":\"True\",\"hovertemplate\":\"Age Groups=%{x}\\u003cbr\\u003eNumber of Trials=%{y}\\u003cextra\\u003e\\u003c\\u002fextra\\u003e\",\"legendgroup\":\"Adult\",\"marker\":{\"color\":\"green\",\"pattern\":{\"shape\":\"\"}},\"name\":\"Adult\",\"offsetgroup\":\"Adult\",\"orientation\":\"v\",\"showlegend\":true,\"textposition\":\"auto\",\"texttemplate\":\"%{y}\",\"x\":[\"Adult\"],\"xaxis\":\"x\",\"y\":[28262],\"yaxis\":\"y\",\"type\":\"bar\"},{\"alignmentgroup\":\"True\",\"hovertemplate\":\"Age Groups=%{x}\\u003cbr\\u003eNumber of Trials=%{y}\\u003cextra\\u003e\\u003c\\u002fextra\\u003e\",\"legendgroup\":\"Senior\",\"marker\":{\"color\":\"orange\",\"pattern\":{\"shape\":\"\"}},\"name\":\"Senior\",\"offsetgroup\":\"Senior\",\"orientation\":\"v\",\"showlegend\":true,\"textposition\":\"auto\",\"texttemplate\":\"%{y}\",\"x\":[\"Senior\"],\"xaxis\":\"x\",\"y\":[25275],\"yaxis\":\"y\",\"type\":\"bar\"}],                        {\"template\":{\"data\":{\"histogram2dcontour\":[{\"type\":\"histogram2dcontour\",\"colorbar\":{\"outlinewidth\":0,\"ticks\":\"\"},\"colorscale\":[[0.0,\"#0d0887\"],[0.1111111111111111,\"#46039f\"],[0.2222222222222222,\"#7201a8\"],[0.3333333333333333,\"#9c179e\"],[0.4444444444444444,\"#bd3786\"],[0.5555555555555556,\"#d8576b\"],[0.6666666666666666,\"#ed7953\"],[0.7777777777777778,\"#fb9f3a\"],[0.8888888888888888,\"#fdca26\"],[1.0,\"#f0f921\"]]}],\"choropleth\":[{\"type\":\"choropleth\",\"colorbar\":{\"outlinewidth\":0,\"ticks\":\"\"}}],\"histogram2d\":[{\"type\":\"histogram2d\",\"colorbar\":{\"outlinewidth\":0,\"ticks\":\"\"},\"colorscale\":[[0.0,\"#0d0887\"],[0.1111111111111111,\"#46039f\"],[0.2222222222222222,\"#7201a8\"],[0.3333333333333333,\"#9c179e\"],[0.4444444444444444,\"#bd3786\"],[0.5555555555555556,\"#d8576b\"],[0.6666666666666666,\"#ed7953\"],[0.7777777777777778,\"#fb9f3a\"],[0.8888888888888888,\"#fdca26\"],[1.0,\"#f0f921\"]]}],\"heatmap\":[{\"type\":\"heatmap\",\"colorbar\":{\"outlinewidth\":0,\"ticks\":\"\"},\"colorscale\":[[0.0,\"#0d0887\"],[0.1111111111111111,\"#46039f\"],[0.2222222222222222,\"#7201a8\"],[0.3333333333333333,\"#9c179e\"],[0.4444444444444444,\"#bd3786\"],[0.5555555555555556,\"#d8576b\"],[0.6666666666666666,\"#ed7953\"],[0.7777777777777778,\"#fb9f3a\"],[0.8888888888888888,\"#fdca26\"],[1.0,\"#f0f921\"]]}],\"heatmapgl\":[{\"type\":\"heatmapgl\",\"colorbar\":{\"outlinewidth\":0,\"ticks\":\"\"},\"colorscale\":[[0.0,\"#0d0887\"],[0.1111111111111111,\"#46039f\"],[0.2222222222222222,\"#7201a8\"],[0.3333333333333333,\"#9c179e\"],[0.4444444444444444,\"#bd3786\"],[0.5555555555555556,\"#d8576b\"],[0.6666666666666666,\"#ed7953\"],[0.7777777777777778,\"#fb9f3a\"],[0.8888888888888888,\"#fdca26\"],[1.0,\"#f0f921\"]]}],\"contourcarpet\":[{\"type\":\"contourcarpet\",\"colorbar\":{\"outlinewidth\":0,\"ticks\":\"\"}}],\"contour\":[{\"type\":\"contour\",\"colorbar\":{\"outlinewidth\":0,\"ticks\":\"\"},\"colorscale\":[[0.0,\"#0d0887\"],[0.1111111111111111,\"#46039f\"],[0.2222222222222222,\"#7201a8\"],[0.3333333333333333,\"#9c179e\"],[0.4444444444444444,\"#bd3786\"],[0.5555555555555556,\"#d8576b\"],[0.6666666666666666,\"#ed7953\"],[0.7777777777777778,\"#fb9f3a\"],[0.8888888888888888,\"#fdca26\"],[1.0,\"#f0f921\"]]}],\"surface\":[{\"type\":\"surface\",\"colorbar\":{\"outlinewidth\":0,\"ticks\":\"\"},\"colorscale\":[[0.0,\"#0d0887\"],[0.1111111111111111,\"#46039f\"],[0.2222222222222222,\"#7201a8\"],[0.3333333333333333,\"#9c179e\"],[0.4444444444444444,\"#bd3786\"],[0.5555555555555556,\"#d8576b\"],[0.6666666666666666,\"#ed7953\"],[0.7777777777777778,\"#fb9f3a\"],[0.8888888888888888,\"#fdca26\"],[1.0,\"#f0f921\"]]}],\"mesh3d\":[{\"type\":\"mesh3d\",\"colorbar\":{\"outlinewidth\":0,\"ticks\":\"\"}}],\"scatter\":[{\"fillpattern\":{\"fillmode\":\"overlay\",\"size\":10,\"solidity\":0.2},\"type\":\"scatter\"}],\"parcoords\":[{\"type\":\"parcoords\",\"line\":{\"colorbar\":{\"outlinewidth\":0,\"ticks\":\"\"}}}],\"scatterpolargl\":[{\"type\":\"scatterpolargl\",\"marker\":{\"colorbar\":{\"outlinewidth\":0,\"ticks\":\"\"}}}],\"bar\":[{\"error_x\":{\"color\":\"#2a3f5f\"},\"error_y\":{\"color\":\"#2a3f5f\"},\"marker\":{\"line\":{\"color\":\"#E5ECF6\",\"width\":0.5},\"pattern\":{\"fillmode\":\"overlay\",\"size\":10,\"solidity\":0.2}},\"type\":\"bar\"}],\"scattergeo\":[{\"type\":\"scattergeo\",\"marker\":{\"colorbar\":{\"outlinewidth\":0,\"ticks\":\"\"}}}],\"scatterpolar\":[{\"type\":\"scatterpolar\",\"marker\":{\"colorbar\":{\"outlinewidth\":0,\"ticks\":\"\"}}}],\"histogram\":[{\"marker\":{\"pattern\":{\"fillmode\":\"overlay\",\"size\":10,\"solidity\":0.2}},\"type\":\"histogram\"}],\"scattergl\":[{\"type\":\"scattergl\",\"marker\":{\"colorbar\":{\"outlinewidth\":0,\"ticks\":\"\"}}}],\"scatter3d\":[{\"type\":\"scatter3d\",\"line\":{\"colorbar\":{\"outlinewidth\":0,\"ticks\":\"\"}},\"marker\":{\"colorbar\":{\"outlinewidth\":0,\"ticks\":\"\"}}}],\"scattermapbox\":[{\"type\":\"scattermapbox\",\"marker\":{\"colorbar\":{\"outlinewidth\":0,\"ticks\":\"\"}}}],\"scatterternary\":[{\"type\":\"scatterternary\",\"marker\":{\"colorbar\":{\"outlinewidth\":0,\"ticks\":\"\"}}}],\"scattercarpet\":[{\"type\":\"scattercarpet\",\"marker\":{\"colorbar\":{\"outlinewidth\":0,\"ticks\":\"\"}}}],\"carpet\":[{\"aaxis\":{\"endlinecolor\":\"#2a3f5f\",\"gridcolor\":\"white\",\"linecolor\":\"white\",\"minorgridcolor\":\"white\",\"startlinecolor\":\"#2a3f5f\"},\"baxis\":{\"endlinecolor\":\"#2a3f5f\",\"gridcolor\":\"white\",\"linecolor\":\"white\",\"minorgridcolor\":\"white\",\"startlinecolor\":\"#2a3f5f\"},\"type\":\"carpet\"}],\"table\":[{\"cells\":{\"fill\":{\"color\":\"#EBF0F8\"},\"line\":{\"color\":\"white\"}},\"header\":{\"fill\":{\"color\":\"#C8D4E3\"},\"line\":{\"color\":\"white\"}},\"type\":\"table\"}],\"barpolar\":[{\"marker\":{\"line\":{\"color\":\"#E5ECF6\",\"width\":0.5},\"pattern\":{\"fillmode\":\"overlay\",\"size\":10,\"solidity\":0.2}},\"type\":\"barpolar\"}],\"pie\":[{\"automargin\":true,\"type\":\"pie\"}]},\"layout\":{\"autotypenumbers\":\"strict\",\"colorway\":[\"#636efa\",\"#EF553B\",\"#00cc96\",\"#ab63fa\",\"#FFA15A\",\"#19d3f3\",\"#FF6692\",\"#B6E880\",\"#FF97FF\",\"#FECB52\"],\"font\":{\"color\":\"#2a3f5f\"},\"hovermode\":\"closest\",\"hoverlabel\":{\"align\":\"left\"},\"paper_bgcolor\":\"white\",\"plot_bgcolor\":\"#E5ECF6\",\"polar\":{\"bgcolor\":\"#E5ECF6\",\"angularaxis\":{\"gridcolor\":\"white\",\"linecolor\":\"white\",\"ticks\":\"\"},\"radialaxis\":{\"gridcolor\":\"white\",\"linecolor\":\"white\",\"ticks\":\"\"}},\"ternary\":{\"bgcolor\":\"#E5ECF6\",\"aaxis\":{\"gridcolor\":\"white\",\"linecolor\":\"white\",\"ticks\":\"\"},\"baxis\":{\"gridcolor\":\"white\",\"linecolor\":\"white\",\"ticks\":\"\"},\"caxis\":{\"gridcolor\":\"white\",\"linecolor\":\"white\",\"ticks\":\"\"}},\"coloraxis\":{\"colorbar\":{\"outlinewidth\":0,\"ticks\":\"\"}},\"colorscale\":{\"sequential\":[[0.0,\"#0d0887\"],[0.1111111111111111,\"#46039f\"],[0.2222222222222222,\"#7201a8\"],[0.3333333333333333,\"#9c179e\"],[0.4444444444444444,\"#bd3786\"],[0.5555555555555556,\"#d8576b\"],[0.6666666666666666,\"#ed7953\"],[0.7777777777777778,\"#fb9f3a\"],[0.8888888888888888,\"#fdca26\"],[1.0,\"#f0f921\"]],\"sequentialminus\":[[0.0,\"#0d0887\"],[0.1111111111111111,\"#46039f\"],[0.2222222222222222,\"#7201a8\"],[0.3333333333333333,\"#9c179e\"],[0.4444444444444444,\"#bd3786\"],[0.5555555555555556,\"#d8576b\"],[0.6666666666666666,\"#ed7953\"],[0.7777777777777778,\"#fb9f3a\"],[0.8888888888888888,\"#fdca26\"],[1.0,\"#f0f921\"]],\"diverging\":[[0,\"#8e0152\"],[0.1,\"#c51b7d\"],[0.2,\"#de77ae\"],[0.3,\"#f1b6da\"],[0.4,\"#fde0ef\"],[0.5,\"#f7f7f7\"],[0.6,\"#e6f5d0\"],[0.7,\"#b8e186\"],[0.8,\"#7fbc41\"],[0.9,\"#4d9221\"],[1,\"#276419\"]]},\"xaxis\":{\"gridcolor\":\"white\",\"linecolor\":\"white\",\"ticks\":\"\",\"title\":{\"standoff\":15},\"zerolinecolor\":\"white\",\"automargin\":true,\"zerolinewidth\":2},\"yaxis\":{\"gridcolor\":\"white\",\"linecolor\":\"white\",\"ticks\":\"\",\"title\":{\"standoff\":15},\"zerolinecolor\":\"white\",\"automargin\":true,\"zerolinewidth\":2},\"scene\":{\"xaxis\":{\"backgroundcolor\":\"#E5ECF6\",\"gridcolor\":\"white\",\"linecolor\":\"white\",\"showbackground\":true,\"ticks\":\"\",\"zerolinecolor\":\"white\",\"gridwidth\":2},\"yaxis\":{\"backgroundcolor\":\"#E5ECF6\",\"gridcolor\":\"white\",\"linecolor\":\"white\",\"showbackground\":true,\"ticks\":\"\",\"zerolinecolor\":\"white\",\"gridwidth\":2},\"zaxis\":{\"backgroundcolor\":\"#E5ECF6\",\"gridcolor\":\"white\",\"linecolor\":\"white\",\"showbackground\":true,\"ticks\":\"\",\"zerolinecolor\":\"white\",\"gridwidth\":2}},\"shapedefaults\":{\"line\":{\"color\":\"#2a3f5f\"}},\"annotationdefaults\":{\"arrowcolor\":\"#2a3f5f\",\"arrowhead\":0,\"arrowwidth\":1},\"geo\":{\"bgcolor\":\"white\",\"landcolor\":\"#E5ECF6\",\"subunitcolor\":\"white\",\"showland\":true,\"showlakes\":true,\"lakecolor\":\"white\"},\"title\":{\"x\":0.05},\"mapbox\":{\"style\":\"light\"}}},\"xaxis\":{\"anchor\":\"y\",\"domain\":[0.0,1.0],\"title\":{\"text\":\"Age Groups\"},\"categoryorder\":\"array\",\"categoryarray\":[\"Child\",\"Adult\",\"Senior\"]},\"yaxis\":{\"anchor\":\"x\",\"domain\":[0.0,1.0],\"title\":{\"text\":\"Number of Trials\"}},\"legend\":{\"title\":{\"text\":\"Age Groups\"},\"tracegroupgap\":0},\"title\":{\"text\":\"Age Distribution in Cancer Trials from 2010 to 2016\"},\"barmode\":\"relative\"},                        {\"responsive\": true}                    ).then(function(){\n",
              "                            \n",
              "var gd = document.getElementById('46b2c376-a0b3-4a23-990b-94b8fcb54d21');\n",
              "var x = new MutationObserver(function (mutations, observer) {{\n",
              "        var display = window.getComputedStyle(gd).display;\n",
              "        if (!display || display === 'none') {{\n",
              "            console.log([gd, 'removed!']);\n",
              "            Plotly.purge(gd);\n",
              "            observer.disconnect();\n",
              "        }}\n",
              "}});\n",
              "\n",
              "// Listen for the removal of the full notebook cells\n",
              "var notebookContainer = gd.closest('#notebook-container');\n",
              "if (notebookContainer) {{\n",
              "    x.observe(notebookContainer, {childList: true});\n",
              "}}\n",
              "\n",
              "// Listen for the clearing of the current output cell\n",
              "var outputEl = gd.closest('.output');\n",
              "if (outputEl) {{\n",
              "    x.observe(outputEl, {childList: true});\n",
              "}}\n",
              "\n",
              "                        })                };                            </script>        </div>\n",
              "</body>\n",
              "</html>"
            ]
          },
          "metadata": {}
        }
      ]
    },
    {
      "cell_type": "markdown",
      "source": [
        "When exploring the data, a bar graph of the number of trials conducted on child, adult, and seniors is made. This graph help understand the overall age distribution among all the clinical trials in the dataset."
      ],
      "metadata": {
        "id": "gxV8BXjMtD-d"
      }
    },
    {
      "cell_type": "code",
      "source": [
        "# Combine the age trial data\n",
        "combined_df = pd.concat([adult_trials_df, senior_trials_df, child_trials_df], ignore_index=True)\n",
        "# Count the occurrences of each condition and get the top 10\n",
        "top_conditions = combined_df['Conditions'].value_counts().nlargest(10).index\n",
        "\n",
        "# Filter the DataFrame for the top 10 conditions\n",
        "filtered_df = combined_df[combined_df['Conditions'].isin(top_conditions)]\n",
        "print(filtered_df.head())\n",
        "# Count the occurrences of each condition\n",
        "condition_counts = filtered_df['Conditions'].value_counts()\n",
        "# Create an ordered list of conditions from highest to lowest\n",
        "ordered_conditions = condition_counts.index.tolist()"
      ],
      "metadata": {
        "colab": {
          "base_uri": "https://localhost:8080/"
        },
        "id": "y8W5XEHFjyrp",
        "outputId": "32a8c967-75d2-457c-bf82-bf9a621c1055"
      },
      "execution_count": 25,
      "outputs": [
        {
          "output_type": "stream",
          "name": "stdout",
          "text": [
            "     NCT Number         Conditions Gender Age Groups\n",
            "0   NCT02012699  Pancreatic Cancer   Both      Adult\n",
            "2   NCT02012699        Lung Cancer   Both      Adult\n",
            "21  NCT02012699    Prostate Cancer   Both      Adult\n",
            "38  NCT01631552  Colorectal Cancer   Both      Adult\n",
            "55  NCT01391143    Prostate Cancer   Both      Adult\n"
          ]
        }
      ]
    },
    {
      "cell_type": "code",
      "source": [
        "fig = px.histogram(filtered_df, x='Conditions',\n",
        "                   color ='Age Groups',\n",
        "    title='Age Distribution in Top 10 Most Frequently Studied Cancer Conditions from 2010 to 2016',\n",
        "                    color_discrete_sequence=['blue', 'green', 'orange'],\n",
        "                   text_auto=True,\n",
        "                   barmode = 'group',\n",
        "                   category_orders={'Conditions': ordered_conditions})\n",
        "\n",
        "# Show the plot\n",
        "fig.show()"
      ],
      "metadata": {
        "colab": {
          "base_uri": "https://localhost:8080/",
          "height": 542
        },
        "id": "6806WQncpsUz",
        "outputId": "fda29957-cd84-474c-b951-e557a860ab57"
      },
      "execution_count": 24,
      "outputs": [
        {
          "output_type": "display_data",
          "data": {
            "text/html": [
              "<html>\n",
              "<head><meta charset=\"utf-8\" /></head>\n",
              "<body>\n",
              "    <div>            <script src=\"https://cdnjs.cloudflare.com/ajax/libs/mathjax/2.7.5/MathJax.js?config=TeX-AMS-MML_SVG\"></script><script type=\"text/javascript\">if (window.MathJax && window.MathJax.Hub && window.MathJax.Hub.Config) {window.MathJax.Hub.Config({SVG: {font: \"STIX-Web\"}});}</script>                <script type=\"text/javascript\">window.PlotlyConfig = {MathJaxConfig: 'local'};</script>\n",
              "        <script charset=\"utf-8\" src=\"https://cdn.plot.ly/plotly-2.35.2.min.js\"></script>                <div id=\"5a187f90-eeb2-4a83-8e7e-66388f5a05ef\" class=\"plotly-graph-div\" style=\"height:525px; width:100%;\"></div>            <script type=\"text/javascript\">                                    window.PLOTLYENV=window.PLOTLYENV || {};                                    if (document.getElementById(\"5a187f90-eeb2-4a83-8e7e-66388f5a05ef\")) {                    Plotly.newPlot(                        \"5a187f90-eeb2-4a83-8e7e-66388f5a05ef\",                        [{\"alignmentgroup\":\"True\",\"bingroup\":\"x\",\"hovertemplate\":\"Age Groups=Adult\\u003cbr\\u003eConditions=%{x}\\u003cbr\\u003ecount=%{y}\\u003cextra\\u003e\\u003c\\u002fextra\\u003e\",\"legendgroup\":\"Adult\",\"marker\":{\"color\":\"blue\",\"pattern\":{\"shape\":\"\"}},\"name\":\"Adult\",\"offsetgroup\":\"Adult\",\"orientation\":\"v\",\"showlegend\":true,\"texttemplate\":\"%{value}\",\"x\":[\"Pancreatic Cancer\",\"Lung Cancer\",\"Prostate Cancer\",\"Colorectal Cancer\",\"Prostate Cancer\",\"Melanoma\",\"Breast Cancer\",\"Prostate Cancer\",\"Breast Cancer\",\"Lymphoma\",\"Multiple Myeloma\",\"Leukemia\",\"Melanoma\",\"Breast Cancer\",\"Melanoma\",\"Pancreatic Cancer\",\"Prostate Cancer\",\"Breast Cancer\",\"Breast Cancer\",\"Breast Cancer\",\"Colorectal Cancer\",\"Cancer\",\"Multiple Myeloma\",\"Breast Cancer\",\"Colorectal Cancer\",\"Lung Cancer\",\"Melanoma\",\"Prostate Cancer\",\"Breast Cancer\",\"Colorectal Cancer\",\"Lung Cancer\",\"Lymphoma\",\"Prostate Cancer\",\"Prostate Cancer\",\"Colorectal Cancer\",\"Prostate Cancer\",\"Cancer\",\"Prostate Cancer\",\"Colorectal Cancer\",\"Melanoma\",\"Breast Cancer\",\"Leukemia\",\"Lymphoma\",\"Melanoma\",\"Melanoma\",\"Pancreatic Cancer\",\"Prostate Cancer\",\"Cancer\",\"Melanoma\",\"Breast Cancer\",\"Prostate Cancer\",\"Colorectal Cancer\",\"Pancreatic Cancer\",\"Breast Cancer\",\"Colorectal Cancer\",\"Prostate Cancer\",\"Lung Cancer\",\"Leukemia\",\"Lymphoma\",\"Prostate Cancer\",\"Breast Cancer\",\"Colorectal Cancer\",\"Breast Cancer\",\"Cancer\",\"Lymphoma\",\"Breast Cancer\",\"Lung Cancer\",\"Colorectal Cancer\",\"Lung Cancer\",\"Pancreatic Cancer\",\"Pancreatic Cancer\",\"Melanoma\",\"Melanoma\",\"Leukemia\",\"Colorectal Cancer\",\"Colorectal Cancer\",\"Breast Cancer\",\"Melanoma\",\"Lymphoma\",\"Melanoma\",\"Pancreatic Cancer\",\"Breast Cancer\",\"Multiple Myeloma\",\"Melanoma\",\"Breast Cancer\",\"Pancreatic Cancer\",\"Breast Cancer\",\"Melanoma\",\"Colorectal Cancer\",\"Prostate Cancer\",\"Cancer\",\"Multiple Myeloma\",\"Prostate Cancer\",\"Prostate Cancer\",\"Multiple Myeloma\",\"Lung Cancer\",\"Colorectal Cancer\",\"Colorectal Cancer\",\"Colorectal Cancer\",\"Cancer\",\"Melanoma\",\"Lung Cancer\",\"Breast Cancer\",\"Lung Cancer\",\"Colorectal Cancer\",\"Breast Cancer\",\"Breast Cancer\",\"Breast Cancer\",\"Lung Cancer\",\"Colorectal Cancer\",\"Cancer\",\"Melanoma\",\"Colorectal Cancer\",\"Colorectal Cancer\",\"Breast Cancer\",\"Prostate Cancer\",\"Prostate Cancer\",\"Leukemia\",\"Lymphoma\",\"Breast Cancer\",\"Prostate Cancer\",\"Prostate Cancer\",\"Prostate Cancer\",\"Breast Cancer\",\"Prostate Cancer\",\"Prostate Cancer\",\"Breast Cancer\",\"Pancreatic Cancer\",\"Breast Cancer\",\"Melanoma\",\"Colorectal Cancer\",\"Breast Cancer\",\"Breast Cancer\",\"Breast Cancer\",\"Breast Cancer\",\"Breast Cancer\",\"Breast Cancer\",\"Colorectal Cancer\",\"Breast Cancer\",\"Prostate Cancer\",\"Breast Cancer\",\"Pancreatic Cancer\",\"Breast Cancer\",\"Breast Cancer\",\"Breast Cancer\",\"Breast Cancer\",\"Breast Cancer\",\"Breast Cancer\",\"Breast Cancer\",\"Lung Cancer\",\"Colorectal Cancer\",\"Prostate Cancer\",\"Prostate Cancer\",\"Lung Cancer\",\"Cancer\",\"Prostate Cancer\",\"Breast Cancer\",\"Breast Cancer\",\"Breast Cancer\",\"Melanoma\",\"Pancreatic Cancer\",\"Breast Cancer\",\"Breast Cancer\",\"Breast Cancer\",\"Prostate Cancer\",\"Lung Cancer\",\"Colorectal Cancer\",\"Lung Cancer\",\"Breast Cancer\",\"Breast Cancer\",\"Colorectal Cancer\",\"Prostate Cancer\",\"Breast Cancer\",\"Multiple Myeloma\",\"Lung Cancer\",\"Lung Cancer\",\"Prostate Cancer\",\"Breast Cancer\",\"Colorectal Cancer\",\"Cancer\",\"Pancreatic Cancer\",\"Pancreatic Cancer\",\"Prostate Cancer\",\"Lung Cancer\",\"Prostate Cancer\",\"Breast Cancer\",\"Prostate Cancer\",\"Breast Cancer\",\"Lung Cancer\",\"Colorectal Cancer\",\"Lung Cancer\",\"Breast Cancer\",\"Lymphoma\",\"Colorectal Cancer\",\"Breast Cancer\",\"Colorectal Cancer\",\"Prostate Cancer\",\"Breast Cancer\",\"Prostate Cancer\",\"Colorectal Cancer\",\"Prostate Cancer\",\"Prostate Cancer\",\"Prostate Cancer\",\"Colorectal Cancer\",\"Breast Cancer\",\"Colorectal Cancer\",\"Breast Cancer\",\"Breast Cancer\",\"Breast Cancer\",\"Pancreatic Cancer\",\"Breast Cancer\",\"Breast Cancer\",\"Cancer\",\"Breast Cancer\",\"Lung Cancer\",\"Breast Cancer\",\"Colorectal Cancer\",\"Pancreatic Cancer\",\"Breast Cancer\",\"Breast Cancer\",\"Breast Cancer\",\"Breast Cancer\",\"Cancer\",\"Breast Cancer\",\"Breast Cancer\",\"Breast Cancer\",\"Breast Cancer\",\"Breast Cancer\",\"Prostate Cancer\",\"Melanoma\",\"Prostate Cancer\",\"Breast Cancer\",\"Prostate Cancer\",\"Breast Cancer\",\"Breast Cancer\",\"Breast Cancer\",\"Prostate Cancer\",\"Breast Cancer\",\"Colorectal Cancer\",\"Cancer\",\"Breast Cancer\",\"Breast Cancer\",\"Prostate Cancer\",\"Prostate Cancer\",\"Lung Cancer\",\"Prostate Cancer\",\"Breast Cancer\",\"Breast Cancer\",\"Lung Cancer\",\"Prostate Cancer\",\"Pancreatic Cancer\",\"Breast Cancer\",\"Pancreatic Cancer\",\"Prostate Cancer\",\"Lung Cancer\",\"Melanoma\",\"Breast Cancer\",\"Colorectal Cancer\",\"Breast Cancer\",\"Breast Cancer\",\"Prostate Cancer\",\"Prostate Cancer\",\"Breast Cancer\",\"Breast Cancer\",\"Lymphoma\",\"Breast Cancer\",\"Breast Cancer\",\"Melanoma\",\"Breast Cancer\",\"Cancer\",\"Pancreatic Cancer\",\"Lung Cancer\",\"Breast Cancer\",\"Pancreatic Cancer\",\"Cancer\",\"Breast Cancer\",\"Colorectal Cancer\",\"Breast Cancer\",\"Breast Cancer\",\"Breast Cancer\",\"Prostate Cancer\",\"Cancer\",\"Breast Cancer\",\"Pancreatic Cancer\",\"Colorectal Cancer\",\"Lung Cancer\",\"Colorectal Cancer\",\"Colorectal Cancer\",\"Pancreatic Cancer\",\"Breast Cancer\",\"Breast Cancer\",\"Colorectal Cancer\",\"Breast Cancer\",\"Breast Cancer\",\"Colorectal Cancer\",\"Lung Cancer\",\"Melanoma\",\"Pancreatic Cancer\",\"Prostate Cancer\",\"Prostate Cancer\",\"Prostate Cancer\",\"Prostate Cancer\",\"Colorectal Cancer\",\"Prostate Cancer\",\"Prostate Cancer\",\"Prostate Cancer\",\"Lung Cancer\",\"Breast Cancer\",\"Breast Cancer\",\"Colorectal Cancer\",\"Colorectal Cancer\",\"Breast Cancer\",\"Prostate Cancer\",\"Prostate Cancer\",\"Prostate Cancer\",\"Prostate Cancer\",\"Colorectal Cancer\",\"Prostate Cancer\",\"Colorectal Cancer\",\"Prostate Cancer\",\"Prostate Cancer\",\"Prostate Cancer\",\"Colorectal Cancer\",\"Pancreatic Cancer\",\"Pancreatic Cancer\",\"Colorectal Cancer\",\"Prostate Cancer\",\"Prostate Cancer\",\"Prostate Cancer\",\"Colorectal Cancer\",\"Lymphoma\",\"Breast Cancer\",\"Prostate Cancer\",\"Prostate Cancer\",\"Prostate Cancer\",\"Breast Cancer\",\"Breast Cancer\",\"Breast Cancer\",\"Prostate Cancer\",\"Prostate Cancer\",\"Prostate Cancer\",\"Prostate Cancer\",\"Colorectal Cancer\",\"Prostate Cancer\",\"Breast Cancer\",\"Breast Cancer\",\"Breast Cancer\",\"Breast Cancer\",\"Breast Cancer\",\"Breast Cancer\",\"Colorectal Cancer\",\"Prostate Cancer\",\"Prostate Cancer\",\"Lung Cancer\",\"Breast Cancer\",\"Lymphoma\",\"Breast Cancer\",\"Prostate Cancer\",\"Breast Cancer\",\"Lymphoma\",\"Breast Cancer\",\"Prostate Cancer\",\"Pancreatic Cancer\",\"Breast Cancer\",\"Breast Cancer\",\"Breast Cancer\",\"Breast Cancer\",\"Colorectal Cancer\",\"Pancreatic Cancer\",\"Cancer\",\"Multiple Myeloma\",\"Breast Cancer\",\"Lung Cancer\",\"Cancer\",\"Breast Cancer\",\"Breast Cancer\",\"Breast Cancer\",\"Breast Cancer\",\"Breast Cancer\",\"Breast Cancer\",\"Melanoma\",\"Breast Cancer\",\"Breast Cancer\",\"Breast Cancer\",\"Breast Cancer\",\"Breast Cancer\",\"Breast Cancer\",\"Breast Cancer\",\"Breast Cancer\",\"Prostate Cancer\",\"Breast Cancer\",\"Breast Cancer\",\"Breast Cancer\",\"Breast Cancer\",\"Lung Cancer\",\"Breast Cancer\",\"Lung Cancer\",\"Breast Cancer\",\"Breast Cancer\",\"Pancreatic Cancer\",\"Breast Cancer\",\"Prostate Cancer\",\"Breast Cancer\",\"Breast Cancer\",\"Breast Cancer\",\"Prostate Cancer\",\"Pancreatic Cancer\",\"Prostate Cancer\",\"Leukemia\",\"Breast Cancer\",\"Cancer\",\"Breast Cancer\",\"Prostate Cancer\",\"Lung Cancer\",\"Colorectal Cancer\",\"Lung Cancer\",\"Colorectal Cancer\",\"Prostate Cancer\",\"Colorectal Cancer\",\"Breast Cancer\",\"Lung Cancer\",\"Lung Cancer\",\"Colorectal Cancer\",\"Breast Cancer\",\"Colorectal Cancer\",\"Lung Cancer\",\"Prostate Cancer\",\"Breast Cancer\",\"Prostate Cancer\",\"Prostate Cancer\",\"Colorectal Cancer\",\"Colorectal Cancer\",\"Prostate Cancer\",\"Pancreatic Cancer\",\"Breast Cancer\",\"Lung Cancer\",\"Prostate Cancer\",\"Breast Cancer\",\"Prostate Cancer\",\"Breast Cancer\",\"Breast Cancer\",\"Melanoma\",\"Prostate Cancer\",\"Breast Cancer\",\"Breast Cancer\",\"Breast Cancer\",\"Melanoma\",\"Breast Cancer\",\"Pancreatic Cancer\",\"Prostate Cancer\",\"Breast Cancer\",\"Prostate Cancer\",\"Colorectal Cancer\",\"Breast Cancer\",\"Prostate Cancer\",\"Prostate Cancer\",\"Breast Cancer\",\"Breast Cancer\",\"Breast Cancer\",\"Cancer\",\"Prostate Cancer\",\"Breast Cancer\",\"Lymphoma\",\"Melanoma\",\"Breast Cancer\",\"Breast Cancer\",\"Breast Cancer\",\"Lung Cancer\",\"Melanoma\",\"Cancer\",\"Lymphoma\",\"Cancer\",\"Leukemia\",\"Lymphoma\",\"Breast Cancer\",\"Breast Cancer\",\"Colorectal Cancer\",\"Lung Cancer\",\"Prostate Cancer\",\"Breast Cancer\",\"Breast Cancer\",\"Cancer\",\"Breast Cancer\",\"Prostate Cancer\",\"Breast Cancer\",\"Breast Cancer\",\"Breast Cancer\",\"Prostate Cancer\",\"Breast Cancer\",\"Cancer\",\"Breast Cancer\",\"Breast Cancer\",\"Lung Cancer\",\"Breast Cancer\",\"Cancer\",\"Melanoma\",\"Colorectal Cancer\",\"Breast Cancer\",\"Pancreatic Cancer\",\"Breast Cancer\",\"Breast Cancer\",\"Lymphoma\",\"Prostate Cancer\",\"Lung Cancer\",\"Breast Cancer\",\"Colorectal Cancer\",\"Lung Cancer\",\"Lung Cancer\",\"Breast Cancer\",\"Lung Cancer\",\"Prostate Cancer\",\"Pancreatic Cancer\",\"Multiple Myeloma\",\"Breast Cancer\",\"Prostate Cancer\",\"Lymphoma\",\"Pancreatic Cancer\",\"Breast Cancer\",\"Breast Cancer\",\"Colorectal Cancer\",\"Leukemia\",\"Lymphoma\",\"Prostate Cancer\",\"Prostate Cancer\",\"Prostate Cancer\",\"Colorectal Cancer\",\"Prostate Cancer\",\"Prostate Cancer\",\"Prostate Cancer\",\"Colorectal Cancer\",\"Pancreatic Cancer\",\"Melanoma\",\"Breast Cancer\",\"Lung Cancer\",\"Cancer\",\"Melanoma\",\"Cancer\",\"Prostate Cancer\",\"Prostate Cancer\",\"Pancreatic Cancer\",\"Colorectal Cancer\",\"Pancreatic Cancer\",\"Melanoma\",\"Breast Cancer\",\"Breast Cancer\",\"Breast Cancer\",\"Breast Cancer\",\"Breast Cancer\",\"Breast Cancer\",\"Breast Cancer\",\"Breast Cancer\",\"Pancreatic Cancer\",\"Breast Cancer\",\"Breast Cancer\",\"Leukemia\",\"Lymphoma\",\"Prostate Cancer\",\"Pancreatic Cancer\",\"Colorectal Cancer\",\"Breast Cancer\",\"Colorectal Cancer\",\"Breast Cancer\",\"Prostate Cancer\",\"Breast Cancer\",\"Breast Cancer\",\"Prostate Cancer\",\"Prostate Cancer\",\"Colorectal Cancer\",\"Colorectal Cancer\",\"Lymphoma\",\"Colorectal Cancer\",\"Colorectal Cancer\",\"Cancer\",\"Lung Cancer\",\"Cancer\",\"Prostate Cancer\",\"Prostate Cancer\",\"Prostate Cancer\",\"Pancreatic Cancer\",\"Cancer\",\"Breast Cancer\",\"Prostate Cancer\",\"Breast Cancer\",\"Breast Cancer\",\"Pancreatic Cancer\",\"Cancer\",\"Lung Cancer\",\"Breast Cancer\",\"Cancer\",\"Colorectal Cancer\",\"Cancer\",\"Prostate Cancer\",\"Colorectal Cancer\",\"Breast Cancer\",\"Pancreatic Cancer\",\"Breast Cancer\",\"Breast Cancer\",\"Pancreatic Cancer\",\"Prostate Cancer\",\"Pancreatic Cancer\",\"Prostate Cancer\",\"Prostate Cancer\",\"Pancreatic Cancer\",\"Breast Cancer\",\"Lung Cancer\",\"Colorectal Cancer\",\"Prostate Cancer\",\"Prostate Cancer\",\"Lung Cancer\",\"Prostate Cancer\",\"Prostate Cancer\",\"Pancreatic Cancer\",\"Prostate Cancer\",\"Colorectal Cancer\",\"Prostate Cancer\",\"Prostate Cancer\",\"Prostate Cancer\",\"Prostate Cancer\",\"Prostate Cancer\",\"Breast Cancer\",\"Pancreatic Cancer\",\"Lung Cancer\",\"Prostate Cancer\",\"Prostate Cancer\",\"Breast Cancer\",\"Cancer\",\"Prostate Cancer\",\"Breast Cancer\",\"Prostate Cancer\",\"Breast Cancer\",\"Lung Cancer\",\"Breast Cancer\",\"Breast Cancer\",\"Breast Cancer\",\"Breast Cancer\",\"Breast Cancer\",\"Breast Cancer\",\"Breast Cancer\",\"Cancer\",\"Breast Cancer\",\"Breast Cancer\",\"Breast Cancer\",\"Cancer\",\"Breast Cancer\",\"Lung Cancer\",\"Breast Cancer\",\"Cancer\",\"Cancer\",\"Colorectal Cancer\",\"Cancer\",\"Cancer\",\"Prostate Cancer\",\"Pancreatic Cancer\",\"Cancer\",\"Prostate Cancer\",\"Prostate Cancer\",\"Pancreatic Cancer\",\"Cancer\",\"Cancer\",\"Cancer\",\"Cancer\",\"Cancer\",\"Colorectal Cancer\",\"Cancer\",\"Cancer\",\"Breast Cancer\",\"Prostate Cancer\",\"Colorectal Cancer\",\"Cancer\",\"Lung Cancer\",\"Breast Cancer\",\"Breast Cancer\",\"Prostate Cancer\",\"Colorectal Cancer\",\"Colorectal Cancer\",\"Cancer\",\"Prostate Cancer\",\"Colorectal Cancer\",\"Lung Cancer\",\"Lung Cancer\",\"Breast Cancer\",\"Colorectal Cancer\",\"Prostate Cancer\",\"Multiple Myeloma\",\"Lymphoma\",\"Prostate Cancer\",\"Prostate Cancer\",\"Lung Cancer\",\"Prostate Cancer\",\"Prostate Cancer\",\"Prostate Cancer\",\"Prostate Cancer\",\"Prostate Cancer\",\"Melanoma\",\"Breast Cancer\",\"Pancreatic Cancer\",\"Pancreatic Cancer\",\"Pancreatic Cancer\",\"Pancreatic Cancer\",\"Prostate Cancer\",\"Pancreatic Cancer\",\"Cancer\",\"Cancer\",\"Prostate Cancer\",\"Breast Cancer\",\"Breast Cancer\",\"Breast Cancer\",\"Prostate Cancer\",\"Breast Cancer\",\"Cancer\",\"Breast Cancer\",\"Breast Cancer\",\"Prostate Cancer\",\"Breast Cancer\",\"Cancer\",\"Breast Cancer\",\"Pancreatic Cancer\",\"Breast Cancer\",\"Cancer\",\"Multiple Myeloma\",\"Breast Cancer\",\"Breast Cancer\",\"Breast Cancer\",\"Multiple Myeloma\",\"Lymphoma\",\"Prostate Cancer\",\"Cancer\",\"Lung Cancer\",\"Multiple Myeloma\",\"Melanoma\",\"Colorectal Cancer\",\"Lymphoma\",\"Cancer\",\"Pancreatic Cancer\",\"Cancer\",\"Pancreatic Cancer\",\"Prostate Cancer\",\"Cancer\",\"Pancreatic Cancer\",\"Colorectal Cancer\",\"Melanoma\",\"Colorectal Cancer\",\"Breast Cancer\",\"Breast Cancer\",\"Prostate Cancer\",\"Lung Cancer\",\"Prostate Cancer\",\"Lymphoma\",\"Breast Cancer\",\"Cancer\",\"Cancer\",\"Breast Cancer\",\"Prostate Cancer\",\"Melanoma\",\"Breast Cancer\",\"Breast Cancer\",\"Cancer\",\"Breast Cancer\",\"Cancer\",\"Breast Cancer\",\"Pancreatic Cancer\",\"Colorectal Cancer\",\"Cancer\",\"Cancer\",\"Multiple Myeloma\",\"Cancer\",\"Cancer\",\"Cancer\",\"Colorectal Cancer\",\"Prostate Cancer\",\"Breast Cancer\",\"Lung Cancer\",\"Breast Cancer\",\"Pancreatic Cancer\",\"Cancer\",\"Cancer\",\"Multiple Myeloma\",\"Cancer\",\"Breast Cancer\",\"Lung Cancer\",\"Breast Cancer\",\"Cancer\",\"Lymphoma\",\"Multiple Myeloma\",\"Leukemia\",\"Lung Cancer\",\"Lymphoma\",\"Pancreatic Cancer\",\"Leukemia\",\"Lung Cancer\",\"Multiple Myeloma\",\"Pancreatic Cancer\",\"Pancreatic Cancer\",\"Breast Cancer\",\"Breast Cancer\",\"Lymphoma\",\"Lung Cancer\",\"Breast Cancer\",\"Colorectal Cancer\",\"Prostate Cancer\",\"Breast Cancer\",\"Cancer\",\"Cancer\",\"Cancer\",\"Lymphoma\",\"Breast Cancer\",\"Lung Cancer\",\"Prostate Cancer\",\"Breast Cancer\",\"Cancer\",\"Leukemia\",\"Cancer\",\"Colorectal Cancer\",\"Breast Cancer\",\"Cancer\",\"Prostate Cancer\",\"Pancreatic Cancer\",\"Melanoma\",\"Breast Cancer\",\"Lung Cancer\",\"Breast Cancer\",\"Cancer\",\"Breast Cancer\",\"Colorectal Cancer\",\"Lung Cancer\",\"Prostate Cancer\",\"Breast Cancer\",\"Lung Cancer\",\"Cancer\",\"Melanoma\",\"Pancreatic Cancer\",\"Melanoma\",\"Colorectal Cancer\",\"Breast Cancer\",\"Prostate Cancer\",\"Breast Cancer\",\"Pancreatic Cancer\",\"Breast Cancer\",\"Breast Cancer\",\"Pancreatic Cancer\",\"Colorectal Cancer\",\"Colorectal Cancer\",\"Colorectal Cancer\",\"Prostate Cancer\",\"Prostate Cancer\",\"Lung Cancer\",\"Melanoma\",\"Prostate Cancer\",\"Lymphoma\",\"Lung Cancer\",\"Colorectal Cancer\",\"Pancreatic Cancer\",\"Lung Cancer\",\"Lung Cancer\",\"Pancreatic Cancer\",\"Lung Cancer\",\"Breast Cancer\",\"Colorectal Cancer\",\"Breast Cancer\",\"Prostate Cancer\",\"Colorectal Cancer\",\"Pancreatic Cancer\",\"Lung Cancer\",\"Lung Cancer\",\"Breast Cancer\",\"Melanoma\",\"Prostate Cancer\",\"Breast Cancer\",\"Cancer\",\"Colorectal Cancer\",\"Lung Cancer\",\"Colorectal Cancer\",\"Breast Cancer\",\"Breast Cancer\",\"Cancer\",\"Lung Cancer\",\"Colorectal Cancer\",\"Breast Cancer\",\"Cancer\",\"Pancreatic Cancer\",\"Breast Cancer\",\"Melanoma\",\"Breast Cancer\",\"Cancer\",\"Cancer\",\"Multiple Myeloma\",\"Lymphoma\",\"Pancreatic Cancer\",\"Lung Cancer\",\"Prostate Cancer\",\"Breast Cancer\",\"Breast Cancer\",\"Leukemia\",\"Lung Cancer\",\"Melanoma\",\"Breast Cancer\",\"Breast Cancer\",\"Colorectal Cancer\",\"Breast Cancer\",\"Breast Cancer\",\"Lymphoma\",\"Breast Cancer\",\"Breast Cancer\",\"Colorectal Cancer\",\"Breast Cancer\",\"Pancreatic Cancer\",\"Cancer\",\"Prostate Cancer\",\"Pancreatic Cancer\",\"Cancer\",\"Cancer\",\"Prostate Cancer\",\"Cancer\",\"Prostate Cancer\",\"Prostate Cancer\",\"Pancreatic Cancer\",\"Breast Cancer\",\"Pancreatic Cancer\",\"Colorectal Cancer\",\"Cancer\",\"Cancer\",\"Lung Cancer\",\"Lung Cancer\",\"Cancer\",\"Breast Cancer\",\"Cancer\",\"Breast Cancer\",\"Prostate Cancer\",\"Colorectal Cancer\",\"Pancreatic Cancer\",\"Pancreatic Cancer\",\"Cancer\",\"Breast Cancer\",\"Colorectal Cancer\",\"Breast Cancer\",\"Breast Cancer\",\"Cancer\",\"Breast Cancer\",\"Prostate Cancer\",\"Prostate Cancer\",\"Lymphoma\",\"Breast Cancer\",\"Prostate Cancer\",\"Cancer\",\"Melanoma\",\"Breast Cancer\",\"Colorectal Cancer\",\"Breast Cancer\",\"Colorectal Cancer\",\"Breast Cancer\",\"Prostate Cancer\",\"Leukemia\",\"Lymphoma\",\"Prostate Cancer\",\"Breast Cancer\",\"Pancreatic Cancer\",\"Prostate Cancer\",\"Breast Cancer\",\"Cancer\",\"Lung Cancer\",\"Prostate Cancer\",\"Pancreatic Cancer\",\"Colorectal Cancer\",\"Lung Cancer\",\"Breast Cancer\",\"Melanoma\",\"Pancreatic Cancer\",\"Prostate Cancer\",\"Multiple Myeloma\",\"Breast Cancer\",\"Breast Cancer\",\"Multiple Myeloma\",\"Breast Cancer\",\"Prostate Cancer\",\"Lung Cancer\",\"Prostate Cancer\",\"Pancreatic Cancer\",\"Breast Cancer\",\"Prostate Cancer\",\"Cancer\",\"Leukemia\",\"Lymphoma\",\"Pancreatic Cancer\",\"Prostate Cancer\",\"Multiple Myeloma\",\"Prostate Cancer\",\"Breast Cancer\",\"Breast Cancer\",\"Breast Cancer\",\"Breast Cancer\",\"Breast Cancer\",\"Cancer\",\"Breast Cancer\",\"Lung Cancer\",\"Pancreatic Cancer\",\"Breast Cancer\",\"Melanoma\",\"Breast Cancer\",\"Prostate Cancer\",\"Lung Cancer\",\"Breast Cancer\",\"Breast Cancer\",\"Breast Cancer\",\"Lung Cancer\",\"Colorectal Cancer\",\"Breast Cancer\",\"Prostate Cancer\",\"Prostate Cancer\",\"Pancreatic Cancer\",\"Lung Cancer\",\"Prostate Cancer\",\"Prostate Cancer\",\"Pancreatic Cancer\",\"Lung Cancer\",\"Breast Cancer\",\"Colorectal Cancer\",\"Colorectal Cancer\",\"Prostate Cancer\",\"Melanoma\",\"Breast Cancer\",\"Pancreatic Cancer\",\"Breast Cancer\",\"Prostate Cancer\",\"Prostate Cancer\",\"Pancreatic Cancer\",\"Lymphoma\",\"Breast Cancer\",\"Lung Cancer\",\"Prostate Cancer\",\"Cancer\",\"Cancer\",\"Prostate Cancer\",\"Cancer\",\"Breast Cancer\",\"Colorectal Cancer\",\"Melanoma\",\"Breast Cancer\",\"Pancreatic Cancer\",\"Prostate Cancer\",\"Prostate Cancer\",\"Colorectal Cancer\",\"Breast Cancer\",\"Colorectal Cancer\",\"Pancreatic Cancer\",\"Melanoma\",\"Breast Cancer\",\"Colorectal Cancer\",\"Pancreatic Cancer\",\"Breast Cancer\",\"Breast Cancer\",\"Breast Cancer\",\"Prostate Cancer\",\"Breast Cancer\",\"Breast Cancer\",\"Cancer\",\"Melanoma\",\"Colorectal Cancer\",\"Breast Cancer\",\"Breast Cancer\",\"Breast Cancer\",\"Lung Cancer\",\"Breast Cancer\",\"Lung Cancer\",\"Prostate Cancer\",\"Prostate Cancer\",\"Breast Cancer\",\"Cancer\",\"Prostate Cancer\",\"Pancreatic Cancer\",\"Lung Cancer\",\"Lung Cancer\",\"Colorectal Cancer\",\"Colorectal Cancer\",\"Breast Cancer\",\"Colorectal Cancer\",\"Lung Cancer\",\"Prostate Cancer\",\"Prostate Cancer\",\"Breast Cancer\",\"Pancreatic Cancer\",\"Prostate Cancer\",\"Cancer\",\"Breast Cancer\",\"Colorectal Cancer\",\"Lung Cancer\",\"Prostate Cancer\",\"Lung Cancer\",\"Pancreatic Cancer\",\"Colorectal Cancer\",\"Breast Cancer\",\"Lung Cancer\",\"Lung Cancer\",\"Lung Cancer\",\"Breast Cancer\",\"Breast Cancer\",\"Prostate Cancer\",\"Breast Cancer\",\"Prostate Cancer\",\"Lung Cancer\",\"Colorectal Cancer\",\"Prostate Cancer\",\"Prostate Cancer\",\"Lung Cancer\",\"Pancreatic Cancer\",\"Lung Cancer\",\"Lung Cancer\",\"Prostate Cancer\",\"Prostate Cancer\",\"Colorectal Cancer\",\"Melanoma\",\"Prostate Cancer\",\"Prostate Cancer\",\"Prostate Cancer\",\"Pancreatic Cancer\",\"Breast Cancer\",\"Prostate Cancer\",\"Colorectal Cancer\",\"Breast Cancer\",\"Breast Cancer\",\"Prostate Cancer\",\"Breast Cancer\",\"Prostate Cancer\",\"Lung Cancer\",\"Breast Cancer\",\"Prostate Cancer\",\"Breast Cancer\",\"Colorectal Cancer\",\"Prostate Cancer\",\"Prostate Cancer\",\"Breast Cancer\",\"Lung Cancer\",\"Prostate Cancer\",\"Prostate Cancer\",\"Prostate Cancer\",\"Breast Cancer\",\"Prostate Cancer\",\"Colorectal Cancer\",\"Breast Cancer\",\"Lung Cancer\",\"Pancreatic Cancer\",\"Prostate Cancer\",\"Colorectal Cancer\",\"Breast Cancer\",\"Pancreatic Cancer\",\"Breast Cancer\",\"Breast Cancer\",\"Breast Cancer\",\"Lung Cancer\",\"Breast Cancer\",\"Breast Cancer\",\"Breast Cancer\",\"Breast Cancer\",\"Breast Cancer\",\"Breast Cancer\",\"Lung Cancer\",\"Breast Cancer\",\"Breast Cancer\",\"Breast Cancer\",\"Breast Cancer\",\"Breast Cancer\",\"Breast Cancer\",\"Pancreatic Cancer\",\"Lung Cancer\",\"Breast Cancer\",\"Lung Cancer\",\"Breast Cancer\",\"Lymphoma\",\"Melanoma\",\"Cancer\",\"Lung Cancer\",\"Breast Cancer\",\"Breast Cancer\",\"Breast Cancer\",\"Breast Cancer\",\"Pancreatic Cancer\",\"Breast Cancer\",\"Pancreatic Cancer\",\"Prostate Cancer\",\"Breast Cancer\",\"Colorectal Cancer\",\"Breast Cancer\",\"Lung Cancer\",\"Breast Cancer\",\"Prostate Cancer\",\"Breast Cancer\",\"Prostate Cancer\",\"Breast Cancer\",\"Prostate Cancer\",\"Breast Cancer\",\"Breast Cancer\",\"Prostate Cancer\",\"Colorectal Cancer\",\"Breast Cancer\",\"Lung Cancer\",\"Lung Cancer\",\"Colorectal Cancer\",\"Prostate Cancer\",\"Prostate Cancer\",\"Colorectal Cancer\",\"Colorectal Cancer\",\"Prostate Cancer\",\"Prostate Cancer\",\"Lung Cancer\",\"Lung Cancer\",\"Prostate Cancer\",\"Prostate Cancer\",\"Breast Cancer\",\"Lung Cancer\",\"Lymphoma\",\"Prostate Cancer\",\"Pancreatic Cancer\",\"Prostate Cancer\",\"Lung Cancer\",\"Melanoma\",\"Lung Cancer\",\"Prostate Cancer\",\"Colorectal Cancer\",\"Colorectal Cancer\",\"Breast Cancer\",\"Prostate Cancer\",\"Lung Cancer\",\"Prostate Cancer\",\"Lung Cancer\",\"Lung Cancer\",\"Pancreatic Cancer\",\"Lung Cancer\",\"Prostate Cancer\",\"Colorectal Cancer\",\"Prostate Cancer\",\"Breast Cancer\",\"Colorectal Cancer\",\"Pancreatic Cancer\",\"Prostate Cancer\",\"Colorectal Cancer\",\"Prostate Cancer\",\"Prostate Cancer\",\"Prostate Cancer\",\"Prostate Cancer\",\"Pancreatic Cancer\",\"Prostate Cancer\",\"Prostate Cancer\",\"Colorectal Cancer\",\"Prostate Cancer\",\"Prostate Cancer\",\"Lung Cancer\",\"Prostate Cancer\",\"Colorectal Cancer\",\"Cancer\",\"Prostate Cancer\",\"Prostate Cancer\",\"Prostate Cancer\",\"Lung Cancer\",\"Lung Cancer\",\"Prostate Cancer\",\"Colorectal Cancer\",\"Pancreatic Cancer\",\"Prostate Cancer\",\"Lung Cancer\",\"Cancer\",\"Lung Cancer\",\"Prostate Cancer\",\"Prostate Cancer\",\"Pancreatic Cancer\",\"Colorectal Cancer\",\"Prostate Cancer\",\"Prostate Cancer\",\"Prostate Cancer\",\"Colorectal Cancer\",\"Prostate Cancer\",\"Prostate Cancer\",\"Prostate Cancer\",\"Leukemia\",\"Prostate Cancer\",\"Colorectal Cancer\",\"Pancreatic Cancer\",\"Lung Cancer\",\"Prostate Cancer\",\"Prostate Cancer\",\"Breast Cancer\",\"Prostate Cancer\",\"Prostate Cancer\",\"Pancreatic Cancer\",\"Cancer\",\"Breast Cancer\",\"Melanoma\",\"Prostate Cancer\",\"Colorectal Cancer\",\"Breast Cancer\",\"Prostate Cancer\",\"Prostate Cancer\",\"Prostate Cancer\",\"Prostate Cancer\",\"Prostate Cancer\",\"Pancreatic Cancer\",\"Prostate Cancer\",\"Pancreatic Cancer\",\"Prostate Cancer\",\"Prostate Cancer\",\"Prostate Cancer\",\"Prostate Cancer\",\"Prostate Cancer\",\"Prostate Cancer\",\"Prostate Cancer\",\"Prostate Cancer\",\"Prostate Cancer\",\"Lung Cancer\",\"Prostate Cancer\",\"Prostate Cancer\",\"Prostate Cancer\",\"Breast Cancer\",\"Lung Cancer\",\"Colorectal Cancer\",\"Prostate Cancer\",\"Prostate Cancer\",\"Prostate Cancer\",\"Prostate Cancer\",\"Prostate Cancer\",\"Lung Cancer\",\"Breast Cancer\",\"Breast Cancer\",\"Breast Cancer\",\"Prostate Cancer\",\"Pancreatic Cancer\",\"Prostate Cancer\",\"Breast Cancer\",\"Breast Cancer\",\"Breast Cancer\",\"Prostate Cancer\",\"Prostate Cancer\",\"Prostate Cancer\",\"Breast Cancer\",\"Pancreatic Cancer\",\"Prostate Cancer\",\"Prostate Cancer\",\"Prostate Cancer\",\"Breast Cancer\",\"Colorectal Cancer\",\"Breast Cancer\",\"Breast Cancer\",\"Pancreatic Cancer\",\"Breast Cancer\",\"Prostate Cancer\",\"Breast Cancer\",\"Breast Cancer\",\"Breast Cancer\",\"Breast Cancer\",\"Breast Cancer\",\"Breast Cancer\",\"Breast Cancer\",\"Prostate Cancer\",\"Breast Cancer\",\"Prostate Cancer\",\"Breast Cancer\",\"Pancreatic Cancer\",\"Breast Cancer\",\"Breast Cancer\",\"Breast Cancer\",\"Breast Cancer\",\"Breast Cancer\",\"Breast Cancer\",\"Breast Cancer\",\"Prostate Cancer\",\"Breast Cancer\",\"Breast Cancer\",\"Breast Cancer\",\"Breast Cancer\",\"Breast Cancer\",\"Breast Cancer\",\"Breast Cancer\",\"Breast Cancer\",\"Breast Cancer\",\"Prostate Cancer\",\"Breast Cancer\",\"Breast Cancer\",\"Breast Cancer\",\"Breast Cancer\",\"Prostate Cancer\",\"Breast Cancer\",\"Breast Cancer\",\"Melanoma\",\"Breast Cancer\",\"Breast Cancer\",\"Prostate Cancer\",\"Breast Cancer\",\"Melanoma\",\"Breast Cancer\",\"Breast Cancer\",\"Breast Cancer\",\"Breast Cancer\",\"Breast Cancer\",\"Breast Cancer\",\"Breast Cancer\",\"Breast Cancer\",\"Breast Cancer\",\"Breast Cancer\",\"Breast Cancer\",\"Breast Cancer\",\"Breast Cancer\",\"Cancer\",\"Breast Cancer\",\"Breast Cancer\",\"Breast Cancer\",\"Breast Cancer\",\"Breast Cancer\",\"Breast Cancer\",\"Pancreatic Cancer\",\"Breast Cancer\",\"Breast Cancer\",\"Breast Cancer\",\"Breast Cancer\",\"Breast Cancer\",\"Breast Cancer\",\"Prostate Cancer\",\"Breast Cancer\",\"Breast Cancer\",\"Breast Cancer\",\"Pancreatic Cancer\",\"Breast Cancer\",\"Breast Cancer\",\"Breast Cancer\",\"Prostate Cancer\",\"Breast Cancer\",\"Breast Cancer\",\"Breast Cancer\",\"Breast Cancer\",\"Breast Cancer\",\"Lung Cancer\",\"Breast Cancer\",\"Breast Cancer\",\"Cancer\",\"Cancer\",\"Breast Cancer\",\"Lung Cancer\",\"Breast Cancer\",\"Colorectal Cancer\",\"Prostate Cancer\",\"Breast Cancer\",\"Cancer\",\"Multiple Myeloma\",\"Breast Cancer\",\"Cancer\",\"Prostate Cancer\",\"Breast Cancer\",\"Lymphoma\",\"Breast Cancer\",\"Breast Cancer\",\"Breast Cancer\",\"Leukemia\",\"Lung Cancer\",\"Multiple Myeloma\",\"Pancreatic Cancer\",\"Prostate Cancer\",\"Multiple Myeloma\",\"Breast Cancer\",\"Melanoma\",\"Cancer\",\"Breast Cancer\",\"Lung Cancer\",\"Pancreatic Cancer\",\"Breast Cancer\",\"Lung Cancer\",\"Breast Cancer\",\"Pancreatic Cancer\",\"Breast Cancer\",\"Melanoma\",\"Lung Cancer\",\"Breast Cancer\",\"Pancreatic Cancer\",\"Colorectal Cancer\",\"Breast Cancer\",\"Multiple Myeloma\",\"Breast Cancer\",\"Prostate Cancer\",\"Colorectal Cancer\",\"Pancreatic Cancer\",\"Melanoma\",\"Breast Cancer\",\"Cancer\",\"Lymphoma\",\"Lung Cancer\",\"Lung Cancer\",\"Breast Cancer\",\"Cancer\",\"Colorectal Cancer\",\"Lung Cancer\",\"Colorectal Cancer\",\"Melanoma\",\"Lung Cancer\",\"Prostate Cancer\",\"Lung Cancer\",\"Breast Cancer\",\"Colorectal Cancer\",\"Lung Cancer\",\"Prostate Cancer\",\"Lung Cancer\",\"Lung Cancer\",\"Colorectal Cancer\",\"Prostate Cancer\",\"Pancreatic Cancer\",\"Prostate Cancer\",\"Lung Cancer\",\"Prostate Cancer\",\"Breast Cancer\",\"Leukemia\",\"Lymphoma\",\"Breast Cancer\",\"Prostate Cancer\",\"Pancreatic Cancer\",\"Prostate Cancer\",\"Prostate Cancer\",\"Lung Cancer\",\"Pancreatic Cancer\",\"Prostate Cancer\",\"Prostate Cancer\",\"Pancreatic Cancer\",\"Prostate Cancer\",\"Prostate Cancer\",\"Prostate Cancer\",\"Prostate Cancer\",\"Prostate Cancer\",\"Prostate Cancer\",\"Pancreatic Cancer\",\"Prostate Cancer\",\"Pancreatic Cancer\",\"Prostate Cancer\",\"Prostate Cancer\",\"Colorectal Cancer\",\"Breast Cancer\",\"Multiple Myeloma\",\"Pancreatic Cancer\",\"Prostate Cancer\",\"Prostate Cancer\",\"Prostate Cancer\",\"Prostate Cancer\",\"Pancreatic Cancer\",\"Colorectal Cancer\",\"Prostate Cancer\",\"Prostate Cancer\",\"Lung Cancer\",\"Colorectal Cancer\",\"Prostate Cancer\",\"Prostate Cancer\",\"Prostate Cancer\",\"Prostate Cancer\",\"Colorectal Cancer\",\"Breast Cancer\",\"Pancreatic Cancer\",\"Breast Cancer\",\"Colorectal Cancer\",\"Prostate Cancer\",\"Prostate Cancer\",\"Prostate Cancer\",\"Colorectal Cancer\",\"Prostate Cancer\",\"Pancreatic Cancer\",\"Prostate Cancer\",\"Pancreatic Cancer\",\"Prostate Cancer\",\"Prostate Cancer\",\"Pancreatic Cancer\",\"Pancreatic Cancer\",\"Prostate Cancer\",\"Prostate Cancer\",\"Prostate Cancer\",\"Lung Cancer\",\"Prostate Cancer\",\"Prostate Cancer\",\"Prostate Cancer\",\"Breast Cancer\",\"Prostate Cancer\",\"Pancreatic Cancer\",\"Prostate Cancer\",\"Pancreatic Cancer\",\"Pancreatic Cancer\",\"Lung Cancer\",\"Pancreatic Cancer\",\"Pancreatic Cancer\",\"Lung Cancer\",\"Prostate Cancer\",\"Prostate Cancer\",\"Prostate Cancer\",\"Prostate Cancer\",\"Prostate Cancer\",\"Prostate Cancer\",\"Prostate Cancer\",\"Colorectal Cancer\",\"Breast Cancer\",\"Pancreatic Cancer\",\"Lung Cancer\",\"Prostate Cancer\",\"Prostate Cancer\",\"Pancreatic Cancer\",\"Pancreatic Cancer\",\"Colorectal Cancer\",\"Breast Cancer\",\"Colorectal Cancer\",\"Lung Cancer\",\"Prostate Cancer\",\"Prostate Cancer\",\"Prostate Cancer\",\"Prostate Cancer\",\"Breast Cancer\",\"Prostate Cancer\",\"Lung Cancer\",\"Prostate Cancer\",\"Breast Cancer\",\"Lung Cancer\",\"Prostate Cancer\",\"Prostate Cancer\",\"Prostate Cancer\",\"Prostate Cancer\",\"Breast Cancer\",\"Breast Cancer\",\"Prostate Cancer\",\"Pancreatic Cancer\",\"Prostate Cancer\",\"Pancreatic Cancer\",\"Prostate Cancer\",\"Pancreatic Cancer\",\"Pancreatic Cancer\",\"Prostate Cancer\",\"Breast Cancer\",\"Breast Cancer\",\"Breast Cancer\",\"Breast Cancer\",\"Breast Cancer\",\"Pancreatic Cancer\",\"Prostate Cancer\",\"Lung Cancer\",\"Pancreatic Cancer\",\"Prostate Cancer\",\"Breast Cancer\",\"Breast Cancer\",\"Prostate Cancer\",\"Prostate Cancer\",\"Breast Cancer\",\"Breast Cancer\",\"Pancreatic Cancer\",\"Breast Cancer\",\"Prostate Cancer\",\"Pancreatic Cancer\",\"Breast Cancer\",\"Breast Cancer\",\"Breast Cancer\",\"Pancreatic Cancer\",\"Breast Cancer\",\"Pancreatic Cancer\",\"Prostate Cancer\",\"Prostate Cancer\",\"Breast Cancer\",\"Lymphoma\",\"Prostate Cancer\",\"Breast Cancer\",\"Breast Cancer\",\"Breast Cancer\",\"Cancer\",\"Pancreatic Cancer\",\"Pancreatic Cancer\",\"Breast Cancer\",\"Pancreatic Cancer\",\"Breast Cancer\",\"Breast Cancer\",\"Breast Cancer\",\"Breast Cancer\",\"Breast Cancer\",\"Breast Cancer\",\"Breast Cancer\",\"Breast Cancer\",\"Breast Cancer\",\"Prostate Cancer\",\"Multiple Myeloma\",\"Breast Cancer\",\"Breast Cancer\",\"Breast Cancer\",\"Breast Cancer\",\"Lung Cancer\",\"Breast Cancer\",\"Breast Cancer\",\"Breast Cancer\",\"Prostate Cancer\",\"Breast Cancer\",\"Prostate Cancer\",\"Breast Cancer\",\"Breast Cancer\",\"Breast Cancer\",\"Breast Cancer\",\"Lung Cancer\",\"Colorectal Cancer\",\"Colorectal Cancer\",\"Breast Cancer\",\"Breast Cancer\",\"Breast Cancer\",\"Breast Cancer\",\"Breast Cancer\",\"Breast Cancer\",\"Breast Cancer\",\"Breast Cancer\",\"Breast Cancer\",\"Breast Cancer\",\"Breast Cancer\",\"Breast Cancer\",\"Breast Cancer\",\"Breast Cancer\",\"Breast Cancer\",\"Breast Cancer\",\"Breast Cancer\",\"Breast Cancer\",\"Breast Cancer\",\"Breast Cancer\",\"Breast Cancer\",\"Breast Cancer\",\"Breast Cancer\",\"Breast Cancer\",\"Breast Cancer\",\"Breast Cancer\",\"Breast Cancer\",\"Breast Cancer\",\"Breast Cancer\",\"Breast Cancer\",\"Breast Cancer\",\"Breast Cancer\",\"Breast Cancer\",\"Breast Cancer\",\"Breast Cancer\",\"Breast Cancer\",\"Breast Cancer\",\"Breast Cancer\",\"Breast Cancer\",\"Breast Cancer\",\"Breast Cancer\",\"Breast Cancer\",\"Breast Cancer\",\"Breast Cancer\",\"Breast Cancer\",\"Breast Cancer\",\"Breast Cancer\",\"Breast Cancer\",\"Breast Cancer\",\"Breast Cancer\",\"Breast Cancer\",\"Breast Cancer\",\"Breast Cancer\",\"Breast Cancer\",\"Breast Cancer\",\"Breast Cancer\",\"Breast Cancer\",\"Lung Cancer\",\"Prostate Cancer\",\"Leukemia\",\"Lymphoma\",\"Breast Cancer\",\"Breast Cancer\",\"Breast Cancer\",\"Cancer\",\"Breast Cancer\",\"Prostate Cancer\",\"Multiple Myeloma\",\"Prostate Cancer\",\"Prostate Cancer\",\"Prostate Cancer\",\"Cancer\",\"Cancer\",\"Lung Cancer\",\"Prostate Cancer\",\"Lung Cancer\",\"Breast Cancer\",\"Cancer\",\"Lung Cancer\",\"Breast Cancer\",\"Pancreatic Cancer\",\"Prostate Cancer\",\"Breast Cancer\",\"Prostate Cancer\",\"Prostate Cancer\",\"Breast Cancer\",\"Breast Cancer\",\"Breast Cancer\",\"Breast Cancer\",\"Breast Cancer\",\"Breast Cancer\",\"Cancer\",\"Pancreatic Cancer\",\"Prostate Cancer\",\"Prostate Cancer\",\"Cancer\",\"Breast Cancer\",\"Cancer\",\"Breast Cancer\",\"Breast Cancer\",\"Prostate Cancer\",\"Prostate Cancer\",\"Colorectal Cancer\",\"Cancer\",\"Pancreatic Cancer\",\"Cancer\",\"Lung Cancer\",\"Lung Cancer\",\"Breast Cancer\",\"Breast Cancer\",\"Prostate Cancer\",\"Prostate Cancer\",\"Prostate Cancer\",\"Prostate Cancer\",\"Lung Cancer\",\"Cancer\",\"Colorectal Cancer\",\"Prostate Cancer\",\"Breast Cancer\",\"Breast Cancer\",\"Prostate Cancer\",\"Cancer\",\"Lymphoma\",\"Prostate Cancer\",\"Cancer\",\"Breast Cancer\",\"Breast Cancer\",\"Cancer\",\"Lung Cancer\",\"Leukemia\",\"Lymphoma\",\"Pancreatic Cancer\",\"Cancer\",\"Breast Cancer\",\"Lung Cancer\",\"Breast Cancer\",\"Breast Cancer\",\"Cancer\",\"Breast Cancer\",\"Lung Cancer\",\"Breast Cancer\",\"Breast Cancer\",\"Lung Cancer\",\"Lymphoma\",\"Melanoma\",\"Pancreatic Cancer\",\"Breast Cancer\",\"Breast Cancer\",\"Breast Cancer\",\"Breast Cancer\",\"Breast Cancer\",\"Cancer\",\"Cancer\",\"Breast Cancer\",\"Cancer\",\"Breast Cancer\",\"Lung Cancer\",\"Pancreatic Cancer\",\"Breast Cancer\",\"Cancer\",\"Breast Cancer\",\"Cancer\",\"Leukemia\",\"Cancer\",\"Breast Cancer\",\"Breast Cancer\",\"Breast Cancer\",\"Multiple Myeloma\",\"Breast Cancer\",\"Breast Cancer\",\"Lung Cancer\",\"Leukemia\",\"Multiple Myeloma\",\"Breast Cancer\",\"Cancer\",\"Breast Cancer\",\"Cancer\",\"Breast Cancer\",\"Cancer\",\"Lymphoma\",\"Prostate Cancer\",\"Melanoma\",\"Breast Cancer\",\"Lung Cancer\",\"Breast Cancer\",\"Breast Cancer\",\"Multiple Myeloma\",\"Lymphoma\",\"Colorectal Cancer\",\"Leukemia\",\"Lymphoma\",\"Multiple Myeloma\",\"Colorectal Cancer\",\"Lung Cancer\",\"Multiple Myeloma\",\"Pancreatic Cancer\",\"Cancer\",\"Cancer\",\"Breast Cancer\",\"Breast Cancer\",\"Cancer\",\"Colorectal Cancer\",\"Breast Cancer\",\"Cancer\",\"Cancer\",\"Cancer\",\"Breast Cancer\",\"Breast Cancer\",\"Cancer\",\"Melanoma\",\"Cancer\",\"Cancer\",\"Cancer\",\"Breast Cancer\",\"Cancer\",\"Cancer\",\"Breast Cancer\",\"Lung Cancer\",\"Colorectal Cancer\",\"Cancer\",\"Cancer\",\"Breast Cancer\",\"Breast Cancer\",\"Breast Cancer\",\"Cancer\",\"Cancer\",\"Cancer\",\"Cancer\",\"Melanoma\",\"Cancer\",\"Breast Cancer\",\"Cancer\",\"Melanoma\",\"Breast Cancer\",\"Cancer\",\"Breast Cancer\",\"Breast Cancer\",\"Cancer\",\"Multiple Myeloma\",\"Cancer\",\"Cancer\",\"Breast Cancer\",\"Cancer\",\"Cancer\",\"Cancer\",\"Pancreatic Cancer\",\"Lung Cancer\",\"Prostate Cancer\",\"Prostate Cancer\",\"Colorectal Cancer\",\"Lymphoma\",\"Multiple Myeloma\",\"Colorectal Cancer\",\"Pancreatic Cancer\",\"Lung Cancer\",\"Breast Cancer\",\"Prostate Cancer\",\"Lymphoma\",\"Prostate Cancer\",\"Breast Cancer\",\"Lung Cancer\",\"Prostate Cancer\",\"Pancreatic Cancer\",\"Colorectal Cancer\",\"Cancer\",\"Prostate Cancer\",\"Lymphoma\",\"Prostate Cancer\",\"Cancer\",\"Prostate Cancer\",\"Pancreatic Cancer\",\"Breast Cancer\",\"Lung Cancer\",\"Melanoma\",\"Prostate Cancer\",\"Colorectal Cancer\",\"Lymphoma\",\"Prostate Cancer\",\"Prostate Cancer\",\"Pancreatic Cancer\",\"Prostate Cancer\",\"Pancreatic Cancer\",\"Lymphoma\",\"Pancreatic Cancer\",\"Pancreatic Cancer\",\"Prostate Cancer\",\"Prostate Cancer\",\"Prostate Cancer\",\"Prostate Cancer\",\"Prostate Cancer\",\"Prostate Cancer\",\"Prostate Cancer\",\"Pancreatic Cancer\",\"Prostate Cancer\",\"Prostate Cancer\",\"Prostate Cancer\",\"Cancer\",\"Prostate Cancer\",\"Prostate Cancer\",\"Leukemia\",\"Lymphoma\",\"Multiple Myeloma\",\"Lung Cancer\",\"Prostate Cancer\",\"Pancreatic Cancer\",\"Prostate Cancer\",\"Multiple Myeloma\",\"Pancreatic Cancer\",\"Pancreatic Cancer\",\"Colorectal Cancer\",\"Lung Cancer\",\"Pancreatic Cancer\",\"Cancer\",\"Cancer\",\"Cancer\",\"Cancer\",\"Cancer\",\"Cancer\",\"Lung Cancer\",\"Pancreatic Cancer\",\"Lung Cancer\",\"Cancer\",\"Breast Cancer\",\"Cancer\",\"Lymphoma\",\"Multiple Myeloma\",\"Lung Cancer\",\"Melanoma\",\"Cancer\",\"Lymphoma\",\"Multiple Myeloma\",\"Lymphoma\",\"Cancer\",\"Cancer\",\"Cancer\",\"Cancer\",\"Cancer\",\"Lymphoma\",\"Breast Cancer\",\"Cancer\",\"Cancer\",\"Melanoma\",\"Melanoma\",\"Lung Cancer\",\"Lymphoma\",\"Breast Cancer\",\"Cancer\",\"Lung Cancer\",\"Melanoma\",\"Breast Cancer\",\"Prostate Cancer\",\"Prostate Cancer\",\"Prostate Cancer\",\"Colorectal Cancer\",\"Cancer\",\"Cancer\",\"Prostate Cancer\",\"Breast Cancer\",\"Breast Cancer\",\"Breast Cancer\",\"Pancreatic Cancer\",\"Cancer\",\"Breast Cancer\",\"Breast Cancer\",\"Breast Cancer\",\"Breast Cancer\",\"Pancreatic Cancer\",\"Cancer\",\"Colorectal Cancer\",\"Colorectal Cancer\",\"Cancer\",\"Breast Cancer\",\"Cancer\",\"Prostate Cancer\",\"Prostate Cancer\",\"Prostate Cancer\",\"Prostate Cancer\",\"Prostate Cancer\",\"Prostate Cancer\",\"Prostate Cancer\",\"Prostate Cancer\",\"Prostate Cancer\",\"Prostate Cancer\",\"Prostate Cancer\",\"Prostate Cancer\",\"Prostate Cancer\",\"Colorectal Cancer\",\"Cancer\",\"Cancer\",\"Breast Cancer\",\"Breast Cancer\",\"Cancer\",\"Lymphoma\",\"Pancreatic Cancer\",\"Pancreatic Cancer\",\"Pancreatic Cancer\",\"Prostate Cancer\",\"Cancer\",\"Cancer\",\"Breast Cancer\",\"Cancer\",\"Lymphoma\",\"Colorectal Cancer\",\"Colorectal Cancer\",\"Cancer\",\"Cancer\",\"Prostate Cancer\",\"Pancreatic Cancer\",\"Breast Cancer\",\"Pancreatic Cancer\",\"Cancer\",\"Cancer\",\"Cancer\",\"Cancer\",\"Breast Cancer\",\"Breast Cancer\",\"Multiple Myeloma\",\"Cancer\",\"Colorectal Cancer\",\"Cancer\",\"Cancer\",\"Cancer\",\"Prostate Cancer\",\"Colorectal Cancer\",\"Cancer\",\"Cancer\",\"Cancer\",\"Cancer\",\"Breast Cancer\",\"Multiple Myeloma\",\"Cancer\",\"Breast Cancer\",\"Colorectal Cancer\",\"Cancer\",\"Colorectal Cancer\",\"Breast Cancer\",\"Breast Cancer\",\"Melanoma\",\"Cancer\",\"Cancer\",\"Cancer\",\"Breast Cancer\",\"Breast Cancer\",\"Breast Cancer\",\"Melanoma\",\"Cancer\",\"Melanoma\",\"Lymphoma\",\"Pancreatic Cancer\",\"Prostate Cancer\",\"Breast Cancer\",\"Multiple Myeloma\",\"Breast Cancer\",\"Multiple Myeloma\",\"Leukemia\",\"Lymphoma\",\"Lung Cancer\",\"Cancer\",\"Breast Cancer\",\"Breast Cancer\",\"Breast Cancer\",\"Prostate Cancer\",\"Multiple Myeloma\",\"Leukemia\",\"Lymphoma\",\"Multiple Myeloma\",\"Cancer\",\"Lung Cancer\",\"Cancer\",\"Lung Cancer\",\"Cancer\",\"Cancer\",\"Lymphoma\",\"Cancer\",\"Breast Cancer\",\"Cancer\",\"Cancer\",\"Cancer\",\"Multiple Myeloma\",\"Breast Cancer\",\"Melanoma\",\"Cancer\",\"Cancer\",\"Cancer\",\"Lymphoma\",\"Breast Cancer\",\"Lung Cancer\",\"Melanoma\",\"Prostate Cancer\",\"Lung Cancer\",\"Lymphoma\",\"Lymphoma\",\"Breast Cancer\",\"Cancer\",\"Cancer\",\"Lymphoma\",\"Cancer\",\"Breast Cancer\",\"Prostate Cancer\",\"Prostate Cancer\",\"Pancreatic Cancer\",\"Pancreatic Cancer\",\"Pancreatic Cancer\",\"Pancreatic Cancer\",\"Pancreatic Cancer\",\"Pancreatic Cancer\",\"Pancreatic Cancer\",\"Pancreatic Cancer\",\"Pancreatic Cancer\",\"Breast Cancer\",\"Cancer\",\"Lymphoma\",\"Lung Cancer\",\"Lymphoma\",\"Lung Cancer\",\"Lymphoma\",\"Cancer\",\"Lung Cancer\",\"Prostate Cancer\",\"Breast Cancer\",\"Pancreatic Cancer\",\"Pancreatic Cancer\",\"Pancreatic Cancer\",\"Pancreatic Cancer\",\"Pancreatic Cancer\",\"Pancreatic Cancer\",\"Pancreatic Cancer\",\"Pancreatic Cancer\",\"Pancreatic Cancer\",\"Pancreatic Cancer\",\"Pancreatic Cancer\",\"Pancreatic Cancer\",\"Pancreatic Cancer\",\"Pancreatic Cancer\",\"Cancer\",\"Leukemia\",\"Lymphoma\",\"Lung Cancer\",\"Multiple Myeloma\",\"Cancer\",\"Multiple Myeloma\",\"Cancer\",\"Breast Cancer\",\"Breast Cancer\",\"Breast Cancer\",\"Breast Cancer\",\"Breast Cancer\",\"Cancer\",\"Cancer\",\"Lymphoma\",\"Cancer\",\"Breast Cancer\",\"Colorectal Cancer\",\"Breast Cancer\",\"Lung Cancer\",\"Lymphoma\",\"Leukemia\",\"Leukemia\",\"Melanoma\",\"Breast Cancer\",\"Cancer\",\"Leukemia\",\"Lymphoma\",\"Melanoma\",\"Melanoma\",\"Melanoma\",\"Melanoma\",\"Cancer\",\"Cancer\",\"Cancer\",\"Cancer\",\"Lymphoma\",\"Cancer\",\"Cancer\",\"Leukemia\",\"Lymphoma\",\"Multiple Myeloma\",\"Cancer\",\"Breast Cancer\",\"Breast Cancer\",\"Breast Cancer\",\"Breast Cancer\",\"Lung Cancer\",\"Breast Cancer\",\"Multiple Myeloma\",\"Breast Cancer\",\"Breast Cancer\",\"Cancer\",\"Lung Cancer\",\"Breast Cancer\",\"Multiple Myeloma\",\"Breast Cancer\",\"Breast Cancer\",\"Breast Cancer\",\"Breast Cancer\",\"Breast Cancer\",\"Breast Cancer\",\"Breast Cancer\",\"Breast Cancer\",\"Breast Cancer\",\"Cancer\",\"Breast Cancer\",\"Prostate Cancer\",\"Prostate Cancer\",\"Prostate Cancer\",\"Prostate Cancer\",\"Colorectal Cancer\",\"Cancer\",\"Cancer\",\"Breast Cancer\",\"Lymphoma\",\"Multiple Myeloma\",\"Breast Cancer\",\"Cancer\",\"Cancer\",\"Breast Cancer\",\"Breast Cancer\",\"Melanoma\",\"Breast Cancer\",\"Breast Cancer\",\"Breast Cancer\",\"Lung Cancer\",\"Breast Cancer\",\"Breast Cancer\",\"Breast Cancer\",\"Cancer\",\"Multiple Myeloma\",\"Multiple Myeloma\",\"Multiple Myeloma\",\"Multiple Myeloma\",\"Multiple Myeloma\",\"Multiple Myeloma\",\"Multiple Myeloma\",\"Multiple Myeloma\",\"Multiple Myeloma\",\"Multiple Myeloma\",\"Multiple Myeloma\",\"Multiple Myeloma\",\"Multiple Myeloma\",\"Multiple Myeloma\",\"Multiple Myeloma\",\"Multiple Myeloma\",\"Multiple Myeloma\",\"Multiple Myeloma\",\"Multiple Myeloma\",\"Multiple Myeloma\",\"Multiple Myeloma\",\"Multiple Myeloma\",\"Multiple Myeloma\",\"Multiple Myeloma\",\"Multiple Myeloma\",\"Multiple Myeloma\",\"Multiple Myeloma\",\"Multiple Myeloma\",\"Multiple Myeloma\",\"Breast Cancer\",\"Breast Cancer\",\"Multiple Myeloma\",\"Multiple Myeloma\",\"Multiple Myeloma\",\"Multiple Myeloma\",\"Multiple Myeloma\",\"Multiple Myeloma\",\"Breast Cancer\",\"Multiple Myeloma\",\"Multiple Myeloma\",\"Multiple Myeloma\",\"Multiple Myeloma\",\"Multiple Myeloma\",\"Multiple Myeloma\",\"Multiple Myeloma\",\"Multiple Myeloma\",\"Multiple Myeloma\",\"Multiple Myeloma\",\"Multiple Myeloma\",\"Multiple Myeloma\",\"Multiple Myeloma\",\"Multiple Myeloma\",\"Breast Cancer\",\"Colorectal Cancer\",\"Breast Cancer\",\"Breast Cancer\",\"Cancer\",\"Multiple Myeloma\",\"Multiple Myeloma\",\"Multiple Myeloma\",\"Multiple Myeloma\",\"Breast Cancer\",\"Lung Cancer\",\"Multiple Myeloma\",\"Multiple Myeloma\",\"Multiple Myeloma\",\"Multiple Myeloma\",\"Multiple Myeloma\",\"Multiple Myeloma\",\"Multiple Myeloma\",\"Multiple Myeloma\",\"Multiple Myeloma\",\"Lung Cancer\",\"Breast Cancer\",\"Breast Cancer\",\"Cancer\",\"Breast Cancer\",\"Breast Cancer\",\"Lung Cancer\",\"Lung Cancer\",\"Breast Cancer\",\"Breast Cancer\",\"Breast Cancer\",\"Lymphoma\",\"Multiple Myeloma\",\"Colorectal Cancer\",\"Breast Cancer\",\"Multiple Myeloma\",\"Multiple Myeloma\",\"Multiple Myeloma\",\"Multiple Myeloma\",\"Multiple Myeloma\",\"Multiple Myeloma\",\"Lymphoma\",\"Multiple Myeloma\",\"Multiple Myeloma\",\"Multiple Myeloma\",\"Multiple Myeloma\",\"Multiple Myeloma\",\"Prostate Cancer\",\"Colorectal Cancer\",\"Lung Cancer\",\"Melanoma\",\"Melanoma\",\"Lung Cancer\",\"Melanoma\",\"Lymphoma\",\"Lung Cancer\",\"Cancer\",\"Cancer\",\"Lung Cancer\",\"Leukemia\",\"Prostate Cancer\",\"Cancer\",\"Lymphoma\",\"Cancer\",\"Multiple Myeloma\",\"Multiple Myeloma\",\"Multiple Myeloma\",\"Multiple Myeloma\",\"Multiple Myeloma\",\"Multiple Myeloma\",\"Multiple Myeloma\",\"Multiple Myeloma\",\"Multiple Myeloma\",\"Multiple Myeloma\",\"Multiple Myeloma\",\"Multiple Myeloma\",\"Melanoma\",\"Cancer\",\"Cancer\",\"Cancer\",\"Cancer\",\"Cancer\",\"Cancer\",\"Cancer\",\"Cancer\",\"Cancer\",\"Cancer\",\"Cancer\",\"Cancer\",\"Cancer\",\"Cancer\",\"Cancer\",\"Cancer\",\"Leukemia\",\"Cancer\",\"Cancer\",\"Colorectal Cancer\",\"Colorectal Cancer\",\"Colorectal Cancer\",\"Cancer\",\"Cancer\",\"Cancer\",\"Cancer\",\"Cancer\",\"Leukemia\",\"Lymphoma\",\"Cancer\",\"Multiple Myeloma\",\"Cancer\",\"Lung Cancer\",\"Breast Cancer\",\"Prostate Cancer\",\"Breast Cancer\",\"Breast Cancer\",\"Lung Cancer\",\"Lung Cancer\",\"Prostate Cancer\",\"Breast Cancer\",\"Lymphoma\",\"Breast Cancer\",\"Breast Cancer\",\"Breast Cancer\",\"Breast Cancer\",\"Breast Cancer\",\"Breast Cancer\",\"Breast Cancer\",\"Breast Cancer\",\"Breast Cancer\",\"Breast Cancer\",\"Breast Cancer\",\"Breast Cancer\",\"Breast Cancer\",\"Breast Cancer\",\"Breast Cancer\",\"Breast Cancer\",\"Breast Cancer\",\"Breast Cancer\",\"Melanoma\",\"Breast Cancer\",\"Breast Cancer\",\"Breast Cancer\",\"Breast Cancer\",\"Breast Cancer\",\"Breast Cancer\",\"Breast Cancer\",\"Breast Cancer\",\"Breast Cancer\",\"Breast Cancer\",\"Breast Cancer\",\"Breast Cancer\",\"Breast Cancer\",\"Breast Cancer\",\"Breast Cancer\",\"Breast Cancer\",\"Breast Cancer\",\"Breast Cancer\",\"Colorectal Cancer\",\"Colorectal Cancer\",\"Multiple Myeloma\",\"Breast Cancer\",\"Colorectal Cancer\",\"Breast Cancer\",\"Multiple Myeloma\",\"Multiple Myeloma\",\"Multiple Myeloma\",\"Multiple Myeloma\",\"Multiple Myeloma\",\"Multiple Myeloma\",\"Multiple Myeloma\",\"Multiple Myeloma\",\"Multiple Myeloma\",\"Melanoma\",\"Melanoma\",\"Melanoma\",\"Melanoma\",\"Multiple Myeloma\",\"Lymphoma\",\"Lymphoma\",\"Multiple Myeloma\",\"Melanoma\",\"Multiple Myeloma\",\"Multiple Myeloma\",\"Leukemia\",\"Lymphoma\",\"Leukemia\",\"Leukemia\",\"Lymphoma\",\"Multiple Myeloma\",\"Leukemia\",\"Leukemia\",\"Lymphoma\",\"Melanoma\",\"Lymphoma\",\"Leukemia\",\"Lymphoma\",\"Leukemia\",\"Multiple Myeloma\",\"Lymphoma\",\"Lymphoma\",\"Multiple Myeloma\",\"Multiple Myeloma\",\"Multiple Myeloma\",\"Multiple Myeloma\",\"Multiple Myeloma\",\"Multiple Myeloma\",\"Multiple Myeloma\",\"Multiple Myeloma\",\"Multiple Myeloma\",\"Multiple Myeloma\",\"Multiple Myeloma\",\"Multiple Myeloma\",\"Multiple Myeloma\",\"Multiple Myeloma\",\"Multiple Myeloma\",\"Multiple Myeloma\",\"Multiple Myeloma\",\"Multiple Myeloma\",\"Multiple Myeloma\",\"Multiple Myeloma\",\"Multiple Myeloma\",\"Multiple Myeloma\",\"Leukemia\",\"Lymphoma\",\"Leukemia\",\"Lymphoma\",\"Lymphoma\",\"Melanoma\",\"Lymphoma\",\"Lymphoma\",\"Lymphoma\",\"Lymphoma\",\"Leukemia\",\"Leukemia\",\"Melanoma\",\"Leukemia\",\"Lymphoma\",\"Leukemia\",\"Lymphoma\",\"Cancer\",\"Cancer\",\"Cancer\",\"Cancer\",\"Cancer\",\"Cancer\",\"Cancer\",\"Cancer\",\"Cancer\",\"Cancer\",\"Cancer\",\"Cancer\",\"Cancer\",\"Cancer\",\"Cancer\",\"Cancer\",\"Cancer\",\"Cancer\",\"Cancer\",\"Cancer\",\"Cancer\",\"Cancer\",\"Cancer\",\"Cancer\",\"Cancer\",\"Cancer\",\"Cancer\",\"Cancer\",\"Cancer\",\"Cancer\",\"Cancer\",\"Cancer\",\"Cancer\",\"Cancer\",\"Cancer\",\"Cancer\",\"Cancer\",\"Cancer\",\"Cancer\",\"Cancer\",\"Cancer\",\"Cancer\",\"Cancer\",\"Cancer\",\"Cancer\",\"Cancer\",\"Cancer\",\"Cancer\",\"Cancer\",\"Lymphoma\",\"Leukemia\",\"Lymphoma\",\"Leukemia\",\"Leukemia\",\"Lymphoma\",\"Lymphoma\",\"Leukemia\",\"Leukemia\",\"Lymphoma\",\"Lung Cancer\",\"Lung Cancer\",\"Lung Cancer\",\"Lung Cancer\",\"Lung Cancer\",\"Lung Cancer\",\"Lung Cancer\",\"Lung Cancer\",\"Lung Cancer\",\"Lung Cancer\",\"Multiple Myeloma\",\"Breast Cancer\",\"Breast Cancer\",\"Breast Cancer\",\"Breast Cancer\",\"Breast Cancer\",\"Breast Cancer\",\"Breast Cancer\",\"Breast Cancer\",\"Breast Cancer\",\"Breast Cancer\",\"Breast Cancer\",\"Breast Cancer\",\"Breast Cancer\",\"Breast Cancer\",\"Breast Cancer\",\"Breast Cancer\",\"Breast Cancer\",\"Breast Cancer\",\"Breast Cancer\",\"Breast Cancer\",\"Breast Cancer\",\"Breast Cancer\",\"Breast Cancer\",\"Breast Cancer\",\"Breast Cancer\",\"Breast Cancer\",\"Breast Cancer\",\"Breast Cancer\",\"Breast Cancer\",\"Breast Cancer\",\"Breast Cancer\",\"Breast Cancer\",\"Breast Cancer\",\"Breast Cancer\",\"Breast Cancer\",\"Breast Cancer\",\"Breast Cancer\",\"Breast Cancer\",\"Breast Cancer\",\"Breast Cancer\",\"Breast Cancer\",\"Breast Cancer\",\"Breast Cancer\",\"Breast Cancer\",\"Breast Cancer\",\"Breast Cancer\",\"Breast Cancer\",\"Breast Cancer\",\"Breast Cancer\",\"Breast Cancer\",\"Breast Cancer\",\"Breast Cancer\",\"Breast Cancer\",\"Breast Cancer\",\"Breast Cancer\",\"Breast Cancer\",\"Breast Cancer\",\"Breast Cancer\",\"Breast Cancer\",\"Breast Cancer\",\"Breast Cancer\",\"Breast Cancer\",\"Breast Cancer\",\"Breast Cancer\",\"Breast Cancer\",\"Breast Cancer\",\"Breast Cancer\",\"Breast Cancer\",\"Breast Cancer\",\"Breast Cancer\",\"Prostate Cancer\",\"Prostate Cancer\",\"Prostate Cancer\",\"Prostate Cancer\",\"Prostate Cancer\",\"Prostate Cancer\",\"Prostate Cancer\",\"Prostate Cancer\",\"Prostate Cancer\",\"Prostate Cancer\",\"Prostate Cancer\",\"Prostate Cancer\",\"Prostate Cancer\",\"Prostate Cancer\",\"Prostate Cancer\",\"Prostate Cancer\",\"Prostate Cancer\",\"Prostate Cancer\",\"Prostate Cancer\",\"Leukemia\",\"Lymphoma\",\"Colorectal Cancer\",\"Colorectal Cancer\",\"Colorectal Cancer\",\"Colorectal Cancer\",\"Colorectal Cancer\",\"Colorectal Cancer\",\"Multiple Myeloma\",\"Leukemia\",\"Melanoma\",\"Cancer\",\"Melanoma\",\"Melanoma\",\"Melanoma\",\"Melanoma\",\"Melanoma\",\"Melanoma\",\"Melanoma\",\"Melanoma\",\"Melanoma\",\"Melanoma\",\"Melanoma\",\"Melanoma\",\"Melanoma\",\"Melanoma\",\"Melanoma\",\"Melanoma\",\"Melanoma\",\"Melanoma\",\"Melanoma\",\"Melanoma\",\"Melanoma\",\"Melanoma\",\"Melanoma\",\"Melanoma\",\"Lymphoma\",\"Melanoma\",\"Melanoma\",\"Leukemia\",\"Leukemia\",\"Leukemia\",\"Lymphoma\",\"Leukemia\",\"Lymphoma\",\"Melanoma\",\"Lymphoma\",\"Melanoma\",\"Multiple Myeloma\",\"Leukemia\",\"Multiple Myeloma\",\"Melanoma\",\"Melanoma\",\"Melanoma\",\"Melanoma\",\"Multiple Myeloma\",\"Lymphoma\",\"Leukemia\",\"Lymphoma\",\"Multiple Myeloma\",\"Multiple Myeloma\",\"Melanoma\",\"Melanoma\",\"Melanoma\",\"Melanoma\",\"Melanoma\",\"Melanoma\",\"Melanoma\",\"Melanoma\",\"Melanoma\",\"Leukemia\",\"Leukemia\",\"Leukemia\",\"Leukemia\",\"Lymphoma\",\"Multiple Myeloma\",\"Multiple Myeloma\",\"Multiple Myeloma\",\"Multiple Myeloma\",\"Multiple Myeloma\",\"Multiple Myeloma\",\"Multiple Myeloma\",\"Multiple Myeloma\",\"Multiple Myeloma\",\"Multiple Myeloma\",\"Multiple Myeloma\",\"Multiple Myeloma\",\"Multiple Myeloma\",\"Multiple Myeloma\",\"Multiple Myeloma\",\"Multiple Myeloma\",\"Multiple Myeloma\",\"Multiple Myeloma\",\"Multiple Myeloma\",\"Multiple Myeloma\",\"Multiple Myeloma\",\"Multiple Myeloma\",\"Multiple Myeloma\",\"Multiple Myeloma\",\"Multiple Myeloma\",\"Multiple Myeloma\",\"Multiple Myeloma\",\"Multiple Myeloma\",\"Multiple Myeloma\",\"Multiple Myeloma\",\"Multiple Myeloma\",\"Multiple Myeloma\",\"Multiple Myeloma\",\"Multiple Myeloma\",\"Multiple Myeloma\",\"Multiple Myeloma\",\"Multiple Myeloma\",\"Multiple Myeloma\",\"Multiple Myeloma\",\"Multiple Myeloma\",\"Multiple Myeloma\",\"Multiple Myeloma\",\"Multiple Myeloma\",\"Multiple Myeloma\",\"Multiple Myeloma\",\"Multiple Myeloma\",\"Multiple Myeloma\",\"Multiple Myeloma\",\"Multiple Myeloma\",\"Multiple Myeloma\",\"Multiple Myeloma\",\"Multiple Myeloma\",\"Multiple Myeloma\",\"Multiple Myeloma\",\"Multiple Myeloma\",\"Multiple Myeloma\",\"Multiple Myeloma\",\"Multiple Myeloma\",\"Multiple Myeloma\",\"Multiple Myeloma\",\"Multiple Myeloma\",\"Multiple Myeloma\",\"Multiple Myeloma\",\"Multiple Myeloma\",\"Multiple Myeloma\",\"Leukemia\",\"Multiple Myeloma\",\"Multiple Myeloma\",\"Multiple Myeloma\",\"Multiple Myeloma\",\"Multiple Myeloma\",\"Multiple Myeloma\",\"Multiple Myeloma\",\"Multiple Myeloma\",\"Multiple Myeloma\",\"Multiple Myeloma\",\"Multiple Myeloma\",\"Multiple Myeloma\",\"Multiple Myeloma\",\"Multiple Myeloma\",\"Multiple Myeloma\",\"Multiple Myeloma\",\"Multiple Myeloma\",\"Multiple Myeloma\",\"Multiple Myeloma\",\"Multiple Myeloma\",\"Multiple Myeloma\",\"Multiple Myeloma\",\"Multiple Myeloma\",\"Multiple Myeloma\",\"Multiple Myeloma\",\"Multiple Myeloma\",\"Multiple Myeloma\",\"Multiple Myeloma\",\"Multiple Myeloma\",\"Multiple Myeloma\",\"Multiple Myeloma\",\"Multiple Myeloma\",\"Multiple Myeloma\",\"Multiple Myeloma\",\"Multiple Myeloma\",\"Multiple Myeloma\",\"Multiple Myeloma\",\"Multiple Myeloma\",\"Multiple Myeloma\",\"Multiple Myeloma\",\"Multiple Myeloma\",\"Multiple Myeloma\",\"Multiple Myeloma\",\"Multiple Myeloma\",\"Multiple Myeloma\",\"Multiple Myeloma\",\"Multiple Myeloma\",\"Multiple Myeloma\",\"Multiple Myeloma\",\"Multiple Myeloma\",\"Multiple Myeloma\",\"Leukemia\",\"Lymphoma\",\"Leukemia\",\"Lymphoma\",\"Leukemia\",\"Melanoma\",\"Melanoma\",\"Melanoma\",\"Multiple Myeloma\",\"Lymphoma\",\"Lymphoma\",\"Lymphoma\",\"Lymphoma\",\"Lymphoma\",\"Lymphoma\",\"Lymphoma\",\"Lymphoma\",\"Lymphoma\",\"Lymphoma\",\"Leukemia\",\"Lymphoma\",\"Lymphoma\",\"Melanoma\",\"Lymphoma\",\"Lymphoma\",\"Lymphoma\",\"Melanoma\",\"Melanoma\",\"Melanoma\",\"Melanoma\",\"Melanoma\",\"Melanoma\",\"Melanoma\",\"Melanoma\",\"Lymphoma\",\"Leukemia\",\"Leukemia\",\"Lymphoma\",\"Leukemia\",\"Lymphoma\",\"Lymphoma\",\"Lymphoma\",\"Leukemia\",\"Leukemia\",\"Multiple Myeloma\",\"Multiple Myeloma\",\"Multiple Myeloma\",\"Lymphoma\",\"Melanoma\",\"Lymphoma\",\"Lymphoma\",\"Leukemia\",\"Lymphoma\",\"Leukemia\",\"Lymphoma\",\"Lymphoma\",\"Lymphoma\",\"Lymphoma\",\"Leukemia\",\"Melanoma\",\"Melanoma\",\"Melanoma\",\"Melanoma\",\"Melanoma\",\"Melanoma\",\"Melanoma\",\"Melanoma\",\"Melanoma\",\"Melanoma\",\"Melanoma\",\"Melanoma\",\"Melanoma\",\"Melanoma\",\"Melanoma\",\"Melanoma\",\"Melanoma\",\"Melanoma\",\"Melanoma\",\"Melanoma\",\"Melanoma\",\"Melanoma\",\"Melanoma\",\"Melanoma\",\"Melanoma\",\"Melanoma\",\"Melanoma\",\"Melanoma\",\"Melanoma\",\"Melanoma\",\"Melanoma\",\"Melanoma\",\"Melanoma\",\"Melanoma\",\"Melanoma\",\"Melanoma\",\"Melanoma\",\"Melanoma\",\"Melanoma\",\"Melanoma\",\"Melanoma\",\"Melanoma\",\"Melanoma\",\"Melanoma\",\"Melanoma\",\"Melanoma\",\"Melanoma\",\"Melanoma\",\"Melanoma\",\"Melanoma\",\"Melanoma\",\"Melanoma\",\"Melanoma\",\"Melanoma\",\"Melanoma\",\"Melanoma\",\"Melanoma\",\"Melanoma\",\"Melanoma\",\"Melanoma\",\"Melanoma\",\"Melanoma\",\"Melanoma\",\"Melanoma\",\"Melanoma\",\"Melanoma\",\"Melanoma\",\"Melanoma\",\"Melanoma\",\"Multiple Myeloma\",\"Leukemia\",\"Multiple Myeloma\",\"Multiple Myeloma\",\"Lymphoma\",\"Multiple Myeloma\",\"Multiple Myeloma\",\"Multiple Myeloma\",\"Leukemia\",\"Lymphoma\",\"Multiple Myeloma\",\"Leukemia\",\"Multiple Myeloma\",\"Multiple Myeloma\",\"Multiple Myeloma\",\"Multiple Myeloma\",\"Multiple Myeloma\",\"Multiple Myeloma\",\"Multiple Myeloma\",\"Multiple Myeloma\",\"Leukemia\",\"Multiple Myeloma\",\"Multiple Myeloma\",\"Multiple Myeloma\",\"Multiple Myeloma\",\"Multiple Myeloma\",\"Multiple Myeloma\",\"Multiple Myeloma\",\"Leukemia\",\"Multiple Myeloma\",\"Multiple Myeloma\",\"Multiple Myeloma\",\"Multiple Myeloma\",\"Lymphoma\",\"Multiple Myeloma\",\"Leukemia\",\"Multiple Myeloma\",\"Multiple Myeloma\",\"Leukemia\",\"Melanoma\",\"Leukemia\",\"Leukemia\",\"Lymphoma\",\"Leukemia\",\"Leukemia\",\"Lymphoma\",\"Leukemia\",\"Leukemia\",\"Lymphoma\",\"Leukemia\",\"Lymphoma\",\"Lymphoma\",\"Lymphoma\",\"Leukemia\",\"Lymphoma\",\"Leukemia\",\"Leukemia\",\"Leukemia\",\"Lymphoma\",\"Leukemia\",\"Lymphoma\",\"Leukemia\",\"Leukemia\",\"Lymphoma\",\"Lymphoma\",\"Leukemia\",\"Leukemia\",\"Leukemia\",\"Lymphoma\",\"Leukemia\",\"Lymphoma\",\"Leukemia\",\"Leukemia\",\"Leukemia\",\"Leukemia\",\"Leukemia\",\"Lymphoma\",\"Leukemia\",\"Lymphoma\",\"Leukemia\",\"Leukemia\",\"Leukemia\",\"Lymphoma\",\"Lymphoma\",\"Leukemia\",\"Leukemia\",\"Leukemia\",\"Leukemia\",\"Lymphoma\",\"Leukemia\",\"Leukemia\",\"Leukemia\",\"Lymphoma\",\"Lymphoma\",\"Lymphoma\",\"Leukemia\",\"Lymphoma\",\"Leukemia\",\"Lymphoma\",\"Lymphoma\",\"Leukemia\",\"Leukemia\",\"Lymphoma\",\"Lymphoma\",\"Lymphoma\",\"Leukemia\",\"Leukemia\",\"Leukemia\",\"Lymphoma\",\"Leukemia\",\"Lymphoma\",\"Lymphoma\",\"Leukemia\",\"Leukemia\",\"Leukemia\",\"Leukemia\",\"Leukemia\",\"Lymphoma\",\"Lymphoma\",\"Leukemia\",\"Lymphoma\",\"Lymphoma\",\"Lymphoma\",\"Leukemia\",\"Leukemia\",\"Leukemia\",\"Lymphoma\",\"Lymphoma\",\"Leukemia\",\"Lymphoma\",\"Leukemia\",\"Lymphoma\",\"Leukemia\",\"Leukemia\",\"Leukemia\",\"Leukemia\",\"Leukemia\",\"Lymphoma\",\"Leukemia\",\"Leukemia\",\"Leukemia\",\"Leukemia\",\"Lymphoma\",\"Lymphoma\",\"Leukemia\",\"Lymphoma\",\"Lymphoma\",\"Leukemia\",\"Leukemia\",\"Leukemia\",\"Leukemia\",\"Leukemia\",\"Leukemia\",\"Leukemia\",\"Lymphoma\",\"Leukemia\",\"Leukemia\",\"Leukemia\",\"Lymphoma\",\"Lymphoma\",\"Leukemia\",\"Leukemia\",\"Leukemia\",\"Lymphoma\",\"Lymphoma\",\"Lymphoma\",\"Leukemia\",\"Leukemia\",\"Lymphoma\",\"Leukemia\",\"Lymphoma\",\"Leukemia\",\"Lymphoma\",\"Leukemia\",\"Leukemia\",\"Leukemia\",\"Leukemia\",\"Leukemia\",\"Lymphoma\",\"Leukemia\",\"Leukemia\",\"Leukemia\",\"Leukemia\",\"Leukemia\",\"Lymphoma\",\"Leukemia\",\"Leukemia\",\"Leukemia\",\"Leukemia\",\"Leukemia\",\"Lymphoma\",\"Leukemia\"],\"xaxis\":\"x\",\"yaxis\":\"y\",\"type\":\"histogram\"},{\"alignmentgroup\":\"True\",\"bingroup\":\"x\",\"hovertemplate\":\"Age Groups=Senior\\u003cbr\\u003eConditions=%{x}\\u003cbr\\u003ecount=%{y}\\u003cextra\\u003e\\u003c\\u002fextra\\u003e\",\"legendgroup\":\"Senior\",\"marker\":{\"color\":\"green\",\"pattern\":{\"shape\":\"\"}},\"name\":\"Senior\",\"offsetgroup\":\"Senior\",\"orientation\":\"v\",\"showlegend\":true,\"texttemplate\":\"%{value}\",\"x\":[\"Pancreatic Cancer\",\"Lung Cancer\",\"Prostate Cancer\",\"Colorectal Cancer\",\"Prostate Cancer\",\"Melanoma\",\"Breast Cancer\",\"Prostate Cancer\",\"Breast Cancer\",\"Lymphoma\",\"Multiple Myeloma\",\"Leukemia\",\"Melanoma\",\"Breast Cancer\",\"Melanoma\",\"Pancreatic Cancer\",\"Prostate Cancer\",\"Breast Cancer\",\"Breast Cancer\",\"Breast Cancer\",\"Colorectal Cancer\",\"Cancer\",\"Multiple Myeloma\",\"Breast Cancer\",\"Colorectal Cancer\",\"Lung Cancer\",\"Melanoma\",\"Prostate Cancer\",\"Breast Cancer\",\"Colorectal Cancer\",\"Lung Cancer\",\"Lymphoma\",\"Prostate Cancer\",\"Prostate Cancer\",\"Colorectal Cancer\",\"Prostate Cancer\",\"Cancer\",\"Prostate Cancer\",\"Colorectal Cancer\",\"Melanoma\",\"Breast Cancer\",\"Leukemia\",\"Lymphoma\",\"Melanoma\",\"Melanoma\",\"Pancreatic Cancer\",\"Prostate Cancer\",\"Cancer\",\"Melanoma\",\"Breast Cancer\",\"Prostate Cancer\",\"Colorectal Cancer\",\"Pancreatic Cancer\",\"Breast Cancer\",\"Colorectal Cancer\",\"Prostate Cancer\",\"Lung Cancer\",\"Prostate Cancer\",\"Breast Cancer\",\"Colorectal Cancer\",\"Breast Cancer\",\"Cancer\",\"Lymphoma\",\"Breast Cancer\",\"Lung Cancer\",\"Colorectal Cancer\",\"Lung Cancer\",\"Pancreatic Cancer\",\"Pancreatic Cancer\",\"Melanoma\",\"Melanoma\",\"Leukemia\",\"Colorectal Cancer\",\"Colorectal Cancer\",\"Breast Cancer\",\"Melanoma\",\"Melanoma\",\"Pancreatic Cancer\",\"Breast Cancer\",\"Multiple Myeloma\",\"Melanoma\",\"Breast Cancer\",\"Pancreatic Cancer\",\"Breast Cancer\",\"Melanoma\",\"Colorectal Cancer\",\"Prostate Cancer\",\"Cancer\",\"Multiple Myeloma\",\"Prostate Cancer\",\"Prostate Cancer\",\"Multiple Myeloma\",\"Lung Cancer\",\"Colorectal Cancer\",\"Colorectal Cancer\",\"Colorectal Cancer\",\"Cancer\",\"Melanoma\",\"Lung Cancer\",\"Breast Cancer\",\"Lung Cancer\",\"Colorectal Cancer\",\"Breast Cancer\",\"Breast Cancer\",\"Breast Cancer\",\"Lung Cancer\",\"Colorectal Cancer\",\"Cancer\",\"Melanoma\",\"Colorectal Cancer\",\"Colorectal Cancer\",\"Breast Cancer\",\"Prostate Cancer\",\"Prostate Cancer\",\"Leukemia\",\"Lymphoma\",\"Breast Cancer\",\"Prostate Cancer\",\"Prostate Cancer\",\"Prostate Cancer\",\"Breast Cancer\",\"Prostate Cancer\",\"Prostate Cancer\",\"Breast Cancer\",\"Pancreatic Cancer\",\"Breast Cancer\",\"Melanoma\",\"Colorectal Cancer\",\"Breast Cancer\",\"Breast Cancer\",\"Breast Cancer\",\"Breast Cancer\",\"Breast Cancer\",\"Breast Cancer\",\"Colorectal Cancer\",\"Breast Cancer\",\"Prostate Cancer\",\"Breast Cancer\",\"Pancreatic Cancer\",\"Breast Cancer\",\"Breast Cancer\",\"Breast Cancer\",\"Breast Cancer\",\"Breast Cancer\",\"Breast Cancer\",\"Lung Cancer\",\"Colorectal Cancer\",\"Prostate Cancer\",\"Prostate Cancer\",\"Lung Cancer\",\"Cancer\",\"Prostate Cancer\",\"Breast Cancer\",\"Breast Cancer\",\"Breast Cancer\",\"Melanoma\",\"Pancreatic Cancer\",\"Breast Cancer\",\"Breast Cancer\",\"Breast Cancer\",\"Prostate Cancer\",\"Lung Cancer\",\"Colorectal Cancer\",\"Lung Cancer\",\"Breast Cancer\",\"Breast Cancer\",\"Colorectal Cancer\",\"Prostate Cancer\",\"Breast Cancer\",\"Multiple Myeloma\",\"Lung Cancer\",\"Lung Cancer\",\"Prostate Cancer\",\"Breast Cancer\",\"Colorectal Cancer\",\"Cancer\",\"Pancreatic Cancer\",\"Pancreatic Cancer\",\"Prostate Cancer\",\"Lung Cancer\",\"Prostate Cancer\",\"Breast Cancer\",\"Prostate Cancer\",\"Breast Cancer\",\"Lung Cancer\",\"Colorectal Cancer\",\"Lung Cancer\",\"Breast Cancer\",\"Lymphoma\",\"Colorectal Cancer\",\"Colorectal Cancer\",\"Prostate Cancer\",\"Breast Cancer\",\"Prostate Cancer\",\"Colorectal Cancer\",\"Prostate Cancer\",\"Prostate Cancer\",\"Prostate Cancer\",\"Colorectal Cancer\",\"Breast Cancer\",\"Breast Cancer\",\"Pancreatic Cancer\",\"Breast Cancer\",\"Breast Cancer\",\"Cancer\",\"Breast Cancer\",\"Lung Cancer\",\"Breast Cancer\",\"Colorectal Cancer\",\"Pancreatic Cancer\",\"Breast Cancer\",\"Breast Cancer\",\"Breast Cancer\",\"Breast Cancer\",\"Cancer\",\"Breast Cancer\",\"Breast Cancer\",\"Breast Cancer\",\"Breast Cancer\",\"Breast Cancer\",\"Prostate Cancer\",\"Melanoma\",\"Prostate Cancer\",\"Breast Cancer\",\"Prostate Cancer\",\"Breast Cancer\",\"Breast Cancer\",\"Breast Cancer\",\"Prostate Cancer\",\"Breast Cancer\",\"Colorectal Cancer\",\"Cancer\",\"Breast Cancer\",\"Breast Cancer\",\"Prostate Cancer\",\"Prostate Cancer\",\"Lung Cancer\",\"Prostate Cancer\",\"Breast Cancer\",\"Breast Cancer\",\"Lung Cancer\",\"Prostate Cancer\",\"Pancreatic Cancer\",\"Breast Cancer\",\"Pancreatic Cancer\",\"Prostate Cancer\",\"Lung Cancer\",\"Melanoma\",\"Breast Cancer\",\"Colorectal Cancer\",\"Breast Cancer\",\"Breast Cancer\",\"Prostate Cancer\",\"Prostate Cancer\",\"Breast Cancer\",\"Breast Cancer\",\"Lymphoma\",\"Breast Cancer\",\"Breast Cancer\",\"Melanoma\",\"Breast Cancer\",\"Cancer\",\"Pancreatic Cancer\",\"Lung Cancer\",\"Breast Cancer\",\"Pancreatic Cancer\",\"Cancer\",\"Breast Cancer\",\"Colorectal Cancer\",\"Breast Cancer\",\"Breast Cancer\",\"Breast Cancer\",\"Prostate Cancer\",\"Cancer\",\"Breast Cancer\",\"Pancreatic Cancer\",\"Colorectal Cancer\",\"Lung Cancer\",\"Colorectal Cancer\",\"Colorectal Cancer\",\"Pancreatic Cancer\",\"Breast Cancer\",\"Breast Cancer\",\"Colorectal Cancer\",\"Breast Cancer\",\"Breast Cancer\",\"Colorectal Cancer\",\"Lung Cancer\",\"Melanoma\",\"Pancreatic Cancer\",\"Prostate Cancer\",\"Prostate Cancer\",\"Prostate Cancer\",\"Prostate Cancer\",\"Colorectal Cancer\",\"Prostate Cancer\",\"Prostate Cancer\",\"Prostate Cancer\",\"Lung Cancer\",\"Breast Cancer\",\"Colorectal Cancer\",\"Colorectal Cancer\",\"Breast Cancer\",\"Prostate Cancer\",\"Prostate Cancer\",\"Prostate Cancer\",\"Prostate Cancer\",\"Colorectal Cancer\",\"Prostate Cancer\",\"Colorectal Cancer\",\"Prostate Cancer\",\"Prostate Cancer\",\"Prostate Cancer\",\"Colorectal Cancer\",\"Pancreatic Cancer\",\"Pancreatic Cancer\",\"Colorectal Cancer\",\"Prostate Cancer\",\"Prostate Cancer\",\"Prostate Cancer\",\"Colorectal Cancer\",\"Lymphoma\",\"Breast Cancer\",\"Prostate Cancer\",\"Prostate Cancer\",\"Prostate Cancer\",\"Breast Cancer\",\"Breast Cancer\",\"Breast Cancer\",\"Prostate Cancer\",\"Prostate Cancer\",\"Prostate Cancer\",\"Prostate Cancer\",\"Colorectal Cancer\",\"Prostate Cancer\",\"Breast Cancer\",\"Breast Cancer\",\"Breast Cancer\",\"Breast Cancer\",\"Breast Cancer\",\"Breast Cancer\",\"Colorectal Cancer\",\"Prostate Cancer\",\"Prostate Cancer\",\"Lung Cancer\",\"Breast Cancer\",\"Lymphoma\",\"Prostate Cancer\",\"Breast Cancer\",\"Lymphoma\",\"Breast Cancer\",\"Prostate Cancer\",\"Pancreatic Cancer\",\"Breast Cancer\",\"Breast Cancer\",\"Breast Cancer\",\"Breast Cancer\",\"Colorectal Cancer\",\"Pancreatic Cancer\",\"Cancer\",\"Multiple Myeloma\",\"Breast Cancer\",\"Lung Cancer\",\"Cancer\",\"Breast Cancer\",\"Breast Cancer\",\"Breast Cancer\",\"Breast Cancer\",\"Melanoma\",\"Breast Cancer\",\"Breast Cancer\",\"Breast Cancer\",\"Breast Cancer\",\"Breast Cancer\",\"Breast Cancer\",\"Breast Cancer\",\"Breast Cancer\",\"Prostate Cancer\",\"Breast Cancer\",\"Breast Cancer\",\"Breast Cancer\",\"Breast Cancer\",\"Lung Cancer\",\"Breast Cancer\",\"Lung Cancer\",\"Breast Cancer\",\"Breast Cancer\",\"Pancreatic Cancer\",\"Breast Cancer\",\"Prostate Cancer\",\"Breast Cancer\",\"Breast Cancer\",\"Breast Cancer\",\"Prostate Cancer\",\"Pancreatic Cancer\",\"Prostate Cancer\",\"Breast Cancer\",\"Cancer\",\"Breast Cancer\",\"Prostate Cancer\",\"Lung Cancer\",\"Colorectal Cancer\",\"Lung Cancer\",\"Colorectal Cancer\",\"Prostate Cancer\",\"Colorectal Cancer\",\"Breast Cancer\",\"Lung Cancer\",\"Lung Cancer\",\"Colorectal Cancer\",\"Breast Cancer\",\"Colorectal Cancer\",\"Lung Cancer\",\"Prostate Cancer\",\"Breast Cancer\",\"Prostate Cancer\",\"Prostate Cancer\",\"Colorectal Cancer\",\"Colorectal Cancer\",\"Prostate Cancer\",\"Pancreatic Cancer\",\"Breast Cancer\",\"Lung Cancer\",\"Prostate Cancer\",\"Breast Cancer\",\"Prostate Cancer\",\"Breast Cancer\",\"Breast Cancer\",\"Melanoma\",\"Prostate Cancer\",\"Breast Cancer\",\"Breast Cancer\",\"Breast Cancer\",\"Melanoma\",\"Breast Cancer\",\"Pancreatic Cancer\",\"Prostate Cancer\",\"Breast Cancer\",\"Prostate Cancer\",\"Colorectal Cancer\",\"Breast Cancer\",\"Prostate Cancer\",\"Prostate Cancer\",\"Breast Cancer\",\"Breast Cancer\",\"Breast Cancer\",\"Cancer\",\"Prostate Cancer\",\"Breast Cancer\",\"Lymphoma\",\"Melanoma\",\"Breast Cancer\",\"Breast Cancer\",\"Breast Cancer\",\"Lung Cancer\",\"Melanoma\",\"Cancer\",\"Lymphoma\",\"Cancer\",\"Leukemia\",\"Lymphoma\",\"Breast Cancer\",\"Breast Cancer\",\"Colorectal Cancer\",\"Lung Cancer\",\"Prostate Cancer\",\"Breast Cancer\",\"Breast Cancer\",\"Cancer\",\"Breast Cancer\",\"Prostate Cancer\",\"Breast Cancer\",\"Breast Cancer\",\"Breast Cancer\",\"Prostate Cancer\",\"Breast Cancer\",\"Breast Cancer\",\"Breast Cancer\",\"Lung Cancer\",\"Breast Cancer\",\"Cancer\",\"Melanoma\",\"Colorectal Cancer\",\"Pancreatic Cancer\",\"Breast Cancer\",\"Breast Cancer\",\"Lymphoma\",\"Prostate Cancer\",\"Lung Cancer\",\"Breast Cancer\",\"Colorectal Cancer\",\"Lung Cancer\",\"Breast Cancer\",\"Lung Cancer\",\"Prostate Cancer\",\"Pancreatic Cancer\",\"Multiple Myeloma\",\"Breast Cancer\",\"Prostate Cancer\",\"Pancreatic Cancer\",\"Breast Cancer\",\"Breast Cancer\",\"Colorectal Cancer\",\"Leukemia\",\"Lymphoma\",\"Prostate Cancer\",\"Prostate Cancer\",\"Prostate Cancer\",\"Colorectal Cancer\",\"Prostate Cancer\",\"Prostate Cancer\",\"Prostate Cancer\",\"Colorectal Cancer\",\"Pancreatic Cancer\",\"Melanoma\",\"Breast Cancer\",\"Lung Cancer\",\"Cancer\",\"Melanoma\",\"Cancer\",\"Prostate Cancer\",\"Prostate Cancer\",\"Pancreatic Cancer\",\"Colorectal Cancer\",\"Pancreatic Cancer\",\"Melanoma\",\"Breast Cancer\",\"Breast Cancer\",\"Breast Cancer\",\"Breast Cancer\",\"Breast Cancer\",\"Breast Cancer\",\"Breast Cancer\",\"Breast Cancer\",\"Pancreatic Cancer\",\"Breast Cancer\",\"Breast Cancer\",\"Prostate Cancer\",\"Pancreatic Cancer\",\"Colorectal Cancer\",\"Breast Cancer\",\"Colorectal Cancer\",\"Breast Cancer\",\"Prostate Cancer\",\"Breast Cancer\",\"Breast Cancer\",\"Prostate Cancer\",\"Prostate Cancer\",\"Colorectal Cancer\",\"Colorectal Cancer\",\"Colorectal Cancer\",\"Colorectal Cancer\",\"Cancer\",\"Lung Cancer\",\"Cancer\",\"Prostate Cancer\",\"Prostate Cancer\",\"Prostate Cancer\",\"Pancreatic Cancer\",\"Cancer\",\"Breast Cancer\",\"Prostate Cancer\",\"Breast Cancer\",\"Breast Cancer\",\"Pancreatic Cancer\",\"Cancer\",\"Lung Cancer\",\"Breast Cancer\",\"Cancer\",\"Colorectal Cancer\",\"Cancer\",\"Prostate Cancer\",\"Colorectal Cancer\",\"Breast Cancer\",\"Pancreatic Cancer\",\"Breast Cancer\",\"Breast Cancer\",\"Pancreatic Cancer\",\"Prostate Cancer\",\"Pancreatic Cancer\",\"Prostate Cancer\",\"Prostate Cancer\",\"Pancreatic Cancer\",\"Lung Cancer\",\"Colorectal Cancer\",\"Prostate Cancer\",\"Prostate Cancer\",\"Lung Cancer\",\"Prostate Cancer\",\"Prostate Cancer\",\"Pancreatic Cancer\",\"Prostate Cancer\",\"Colorectal Cancer\",\"Prostate Cancer\",\"Prostate Cancer\",\"Prostate Cancer\",\"Prostate Cancer\",\"Prostate Cancer\",\"Breast Cancer\",\"Pancreatic Cancer\",\"Lung Cancer\",\"Prostate Cancer\",\"Prostate Cancer\",\"Breast Cancer\",\"Cancer\",\"Prostate Cancer\",\"Prostate Cancer\",\"Breast Cancer\",\"Lung Cancer\",\"Breast Cancer\",\"Breast Cancer\",\"Breast Cancer\",\"Breast Cancer\",\"Breast Cancer\",\"Breast Cancer\",\"Cancer\",\"Breast Cancer\",\"Breast Cancer\",\"Breast Cancer\",\"Cancer\",\"Breast Cancer\",\"Lung Cancer\",\"Breast Cancer\",\"Cancer\",\"Cancer\",\"Colorectal Cancer\",\"Cancer\",\"Cancer\",\"Prostate Cancer\",\"Pancreatic Cancer\",\"Cancer\",\"Prostate Cancer\",\"Prostate Cancer\",\"Pancreatic Cancer\",\"Cancer\",\"Cancer\",\"Cancer\",\"Cancer\",\"Cancer\",\"Colorectal Cancer\",\"Cancer\",\"Cancer\",\"Breast Cancer\",\"Prostate Cancer\",\"Colorectal Cancer\",\"Cancer\",\"Cancer\",\"Lung Cancer\",\"Breast Cancer\",\"Breast Cancer\",\"Prostate Cancer\",\"Colorectal Cancer\",\"Colorectal Cancer\",\"Cancer\",\"Prostate Cancer\",\"Colorectal Cancer\",\"Lung Cancer\",\"Lung Cancer\",\"Breast Cancer\",\"Colorectal Cancer\",\"Prostate Cancer\",\"Multiple Myeloma\",\"Lymphoma\",\"Prostate Cancer\",\"Prostate Cancer\",\"Lung Cancer\",\"Prostate Cancer\",\"Prostate Cancer\",\"Prostate Cancer\",\"Prostate Cancer\",\"Prostate Cancer\",\"Melanoma\",\"Breast Cancer\",\"Pancreatic Cancer\",\"Pancreatic Cancer\",\"Pancreatic Cancer\",\"Pancreatic Cancer\",\"Prostate Cancer\",\"Pancreatic Cancer\",\"Cancer\",\"Cancer\",\"Prostate Cancer\",\"Breast Cancer\",\"Breast Cancer\",\"Breast Cancer\",\"Prostate Cancer\",\"Breast Cancer\",\"Cancer\",\"Breast Cancer\",\"Prostate Cancer\",\"Breast Cancer\",\"Cancer\",\"Breast Cancer\",\"Pancreatic Cancer\",\"Breast Cancer\",\"Multiple Myeloma\",\"Breast Cancer\",\"Breast Cancer\",\"Breast Cancer\",\"Multiple Myeloma\",\"Lymphoma\",\"Prostate Cancer\",\"Cancer\",\"Lung Cancer\",\"Multiple Myeloma\",\"Melanoma\",\"Colorectal Cancer\",\"Cancer\",\"Pancreatic Cancer\",\"Pancreatic Cancer\",\"Prostate Cancer\",\"Cancer\",\"Pancreatic Cancer\",\"Colorectal Cancer\",\"Melanoma\",\"Colorectal Cancer\",\"Breast Cancer\",\"Breast Cancer\",\"Prostate Cancer\",\"Lung Cancer\",\"Prostate Cancer\",\"Lymphoma\",\"Breast Cancer\",\"Cancer\",\"Cancer\",\"Breast Cancer\",\"Prostate Cancer\",\"Melanoma\",\"Breast Cancer\",\"Breast Cancer\",\"Cancer\",\"Breast Cancer\",\"Cancer\",\"Breast Cancer\",\"Pancreatic Cancer\",\"Colorectal Cancer\",\"Lymphoma\",\"Cancer\",\"Cancer\",\"Multiple Myeloma\",\"Cancer\",\"Cancer\",\"Cancer\",\"Colorectal Cancer\",\"Prostate Cancer\",\"Breast Cancer\",\"Lung Cancer\",\"Breast Cancer\",\"Pancreatic Cancer\",\"Cancer\",\"Cancer\",\"Lymphoma\",\"Multiple Myeloma\",\"Cancer\",\"Breast Cancer\",\"Lung Cancer\",\"Breast Cancer\",\"Cancer\",\"Lymphoma\",\"Multiple Myeloma\",\"Leukemia\",\"Lung Cancer\",\"Lymphoma\",\"Pancreatic Cancer\",\"Leukemia\",\"Lung Cancer\",\"Multiple Myeloma\",\"Pancreatic Cancer\",\"Pancreatic Cancer\",\"Breast Cancer\",\"Breast Cancer\",\"Lymphoma\",\"Lung Cancer\",\"Breast Cancer\",\"Colorectal Cancer\",\"Prostate Cancer\",\"Breast Cancer\",\"Cancer\",\"Cancer\",\"Cancer\",\"Lymphoma\",\"Breast Cancer\",\"Lung Cancer\",\"Prostate Cancer\",\"Breast Cancer\",\"Cancer\",\"Leukemia\",\"Cancer\",\"Colorectal Cancer\",\"Breast Cancer\",\"Cancer\",\"Prostate Cancer\",\"Pancreatic Cancer\",\"Melanoma\",\"Breast Cancer\",\"Lung Cancer\",\"Breast Cancer\",\"Cancer\",\"Breast Cancer\",\"Colorectal Cancer\",\"Lung Cancer\",\"Prostate Cancer\",\"Breast Cancer\",\"Lung Cancer\",\"Cancer\",\"Melanoma\",\"Pancreatic Cancer\",\"Melanoma\",\"Colorectal Cancer\",\"Breast Cancer\",\"Prostate Cancer\",\"Breast Cancer\",\"Pancreatic Cancer\",\"Breast Cancer\",\"Breast Cancer\",\"Pancreatic Cancer\",\"Colorectal Cancer\",\"Colorectal Cancer\",\"Colorectal Cancer\",\"Prostate Cancer\",\"Prostate Cancer\",\"Lung Cancer\",\"Melanoma\",\"Prostate Cancer\",\"Lymphoma\",\"Lung Cancer\",\"Colorectal Cancer\",\"Pancreatic Cancer\",\"Lung Cancer\",\"Lung Cancer\",\"Pancreatic Cancer\",\"Lung Cancer\",\"Breast Cancer\",\"Colorectal Cancer\",\"Breast Cancer\",\"Prostate Cancer\",\"Colorectal Cancer\",\"Pancreatic Cancer\",\"Lung Cancer\",\"Lung Cancer\",\"Breast Cancer\",\"Melanoma\",\"Prostate Cancer\",\"Breast Cancer\",\"Colorectal Cancer\",\"Lung Cancer\",\"Colorectal Cancer\",\"Breast Cancer\",\"Breast Cancer\",\"Cancer\",\"Lung Cancer\",\"Colorectal Cancer\",\"Breast Cancer\",\"Cancer\",\"Pancreatic Cancer\",\"Breast Cancer\",\"Melanoma\",\"Breast Cancer\",\"Cancer\",\"Cancer\",\"Multiple Myeloma\",\"Lymphoma\",\"Pancreatic Cancer\",\"Lung Cancer\",\"Prostate Cancer\",\"Breast Cancer\",\"Breast Cancer\",\"Leukemia\",\"Lung Cancer\",\"Melanoma\",\"Breast Cancer\",\"Breast Cancer\",\"Colorectal Cancer\",\"Breast Cancer\",\"Breast Cancer\",\"Lymphoma\",\"Breast Cancer\",\"Breast Cancer\",\"Colorectal Cancer\",\"Breast Cancer\",\"Pancreatic Cancer\",\"Cancer\",\"Prostate Cancer\",\"Pancreatic Cancer\",\"Prostate Cancer\",\"Cancer\",\"Prostate Cancer\",\"Prostate Cancer\",\"Pancreatic Cancer\",\"Breast Cancer\",\"Pancreatic Cancer\",\"Colorectal Cancer\",\"Cancer\",\"Lung Cancer\",\"Lung Cancer\",\"Cancer\",\"Breast Cancer\",\"Cancer\",\"Breast Cancer\",\"Prostate Cancer\",\"Colorectal Cancer\",\"Pancreatic Cancer\",\"Pancreatic Cancer\",\"Cancer\",\"Breast Cancer\",\"Colorectal Cancer\",\"Breast Cancer\",\"Cancer\",\"Breast Cancer\",\"Prostate Cancer\",\"Prostate Cancer\",\"Breast Cancer\",\"Prostate Cancer\",\"Cancer\",\"Melanoma\",\"Breast Cancer\",\"Colorectal Cancer\",\"Breast Cancer\",\"Colorectal Cancer\",\"Breast Cancer\",\"Prostate Cancer\",\"Leukemia\",\"Lymphoma\",\"Prostate Cancer\",\"Breast Cancer\",\"Pancreatic Cancer\",\"Prostate Cancer\",\"Breast Cancer\",\"Lung Cancer\",\"Prostate Cancer\",\"Pancreatic Cancer\",\"Colorectal Cancer\",\"Lung Cancer\",\"Breast Cancer\",\"Melanoma\",\"Pancreatic Cancer\",\"Prostate Cancer\",\"Multiple Myeloma\",\"Breast Cancer\",\"Breast Cancer\",\"Multiple Myeloma\",\"Breast Cancer\",\"Prostate Cancer\",\"Lung Cancer\",\"Prostate Cancer\",\"Pancreatic Cancer\",\"Breast Cancer\",\"Prostate Cancer\",\"Cancer\",\"Pancreatic Cancer\",\"Prostate Cancer\",\"Multiple Myeloma\",\"Prostate Cancer\",\"Breast Cancer\",\"Breast Cancer\",\"Breast Cancer\",\"Breast Cancer\",\"Breast Cancer\",\"Cancer\",\"Breast Cancer\",\"Lung Cancer\",\"Pancreatic Cancer\",\"Breast Cancer\",\"Melanoma\",\"Breast Cancer\",\"Prostate Cancer\",\"Lung Cancer\",\"Breast Cancer\",\"Breast Cancer\",\"Breast Cancer\",\"Lung Cancer\",\"Colorectal Cancer\",\"Breast Cancer\",\"Prostate Cancer\",\"Prostate Cancer\",\"Pancreatic Cancer\",\"Lung Cancer\",\"Prostate Cancer\",\"Prostate Cancer\",\"Pancreatic Cancer\",\"Lung Cancer\",\"Breast Cancer\",\"Colorectal Cancer\",\"Colorectal Cancer\",\"Prostate Cancer\",\"Melanoma\",\"Breast Cancer\",\"Pancreatic Cancer\",\"Breast Cancer\",\"Prostate Cancer\",\"Prostate Cancer\",\"Pancreatic Cancer\",\"Lymphoma\",\"Breast Cancer\",\"Lung Cancer\",\"Prostate Cancer\",\"Cancer\",\"Cancer\",\"Prostate Cancer\",\"Cancer\",\"Breast Cancer\",\"Colorectal Cancer\",\"Melanoma\",\"Breast Cancer\",\"Pancreatic Cancer\",\"Prostate Cancer\",\"Prostate Cancer\",\"Colorectal Cancer\",\"Breast Cancer\",\"Colorectal Cancer\",\"Pancreatic Cancer\",\"Melanoma\",\"Breast Cancer\",\"Colorectal Cancer\",\"Pancreatic Cancer\",\"Breast Cancer\",\"Breast Cancer\",\"Breast Cancer\",\"Prostate Cancer\",\"Breast Cancer\",\"Breast Cancer\",\"Cancer\",\"Melanoma\",\"Colorectal Cancer\",\"Breast Cancer\",\"Breast Cancer\",\"Breast Cancer\",\"Lung Cancer\",\"Breast Cancer\",\"Lung Cancer\",\"Prostate Cancer\",\"Prostate Cancer\",\"Breast Cancer\",\"Cancer\",\"Prostate Cancer\",\"Pancreatic Cancer\",\"Lung Cancer\",\"Lung Cancer\",\"Colorectal Cancer\",\"Colorectal Cancer\",\"Breast Cancer\",\"Colorectal Cancer\",\"Lung Cancer\",\"Prostate Cancer\",\"Prostate Cancer\",\"Pancreatic Cancer\",\"Prostate Cancer\",\"Cancer\",\"Breast Cancer\",\"Colorectal Cancer\",\"Lung Cancer\",\"Prostate Cancer\",\"Lung Cancer\",\"Pancreatic Cancer\",\"Breast Cancer\",\"Lung Cancer\",\"Lung Cancer\",\"Lung Cancer\",\"Breast Cancer\",\"Breast Cancer\",\"Prostate Cancer\",\"Breast Cancer\",\"Prostate Cancer\",\"Lung Cancer\",\"Colorectal Cancer\",\"Prostate Cancer\",\"Prostate Cancer\",\"Lung Cancer\",\"Pancreatic Cancer\",\"Lung Cancer\",\"Lung Cancer\",\"Prostate Cancer\",\"Prostate Cancer\",\"Colorectal Cancer\",\"Melanoma\",\"Prostate Cancer\",\"Prostate Cancer\",\"Prostate Cancer\",\"Pancreatic Cancer\",\"Breast Cancer\",\"Prostate Cancer\",\"Colorectal Cancer\",\"Breast Cancer\",\"Breast Cancer\",\"Prostate Cancer\",\"Breast Cancer\",\"Prostate Cancer\",\"Lung Cancer\",\"Breast Cancer\",\"Prostate Cancer\",\"Breast Cancer\",\"Colorectal Cancer\",\"Prostate Cancer\",\"Prostate Cancer\",\"Breast Cancer\",\"Lung Cancer\",\"Prostate Cancer\",\"Prostate Cancer\",\"Prostate Cancer\",\"Breast Cancer\",\"Prostate Cancer\",\"Colorectal Cancer\",\"Breast Cancer\",\"Lung Cancer\",\"Pancreatic Cancer\",\"Prostate Cancer\",\"Colorectal Cancer\",\"Breast Cancer\",\"Pancreatic Cancer\",\"Breast Cancer\",\"Breast Cancer\",\"Breast Cancer\",\"Lung Cancer\",\"Breast Cancer\",\"Breast Cancer\",\"Breast Cancer\",\"Breast Cancer\",\"Breast Cancer\",\"Breast Cancer\",\"Lung Cancer\",\"Breast Cancer\",\"Breast Cancer\",\"Breast Cancer\",\"Breast Cancer\",\"Breast Cancer\",\"Pancreatic Cancer\",\"Lung Cancer\",\"Lung Cancer\",\"Breast Cancer\",\"Cancer\",\"Colorectal Cancer\",\"Lung Cancer\",\"Breast Cancer\",\"Breast Cancer\",\"Breast Cancer\",\"Breast Cancer\",\"Pancreatic Cancer\",\"Breast Cancer\",\"Pancreatic Cancer\",\"Prostate Cancer\",\"Breast Cancer\",\"Colorectal Cancer\",\"Breast Cancer\",\"Lung Cancer\",\"Breast Cancer\",\"Prostate Cancer\",\"Breast Cancer\",\"Prostate Cancer\",\"Breast Cancer\",\"Prostate Cancer\",\"Breast Cancer\",\"Breast Cancer\",\"Prostate Cancer\",\"Colorectal Cancer\",\"Breast Cancer\",\"Lung Cancer\",\"Lung Cancer\",\"Colorectal Cancer\",\"Prostate Cancer\",\"Prostate Cancer\",\"Colorectal Cancer\",\"Colorectal Cancer\",\"Prostate Cancer\",\"Prostate Cancer\",\"Lung Cancer\",\"Lung Cancer\",\"Prostate Cancer\",\"Prostate Cancer\",\"Breast Cancer\",\"Lung Cancer\",\"Lymphoma\",\"Pancreatic Cancer\",\"Prostate Cancer\",\"Lung Cancer\",\"Melanoma\",\"Lung Cancer\",\"Prostate Cancer\",\"Colorectal Cancer\",\"Colorectal Cancer\",\"Breast Cancer\",\"Prostate Cancer\",\"Lung Cancer\",\"Prostate Cancer\",\"Lung Cancer\",\"Lung Cancer\",\"Pancreatic Cancer\",\"Lung Cancer\",\"Prostate Cancer\",\"Colorectal Cancer\",\"Prostate Cancer\",\"Breast Cancer\",\"Colorectal Cancer\",\"Pancreatic Cancer\",\"Prostate Cancer\",\"Colorectal Cancer\",\"Prostate Cancer\",\"Prostate Cancer\",\"Prostate Cancer\",\"Prostate Cancer\",\"Pancreatic Cancer\",\"Prostate Cancer\",\"Prostate Cancer\",\"Colorectal Cancer\",\"Prostate Cancer\",\"Prostate Cancer\",\"Lung Cancer\",\"Prostate Cancer\",\"Colorectal Cancer\",\"Cancer\",\"Prostate Cancer\",\"Prostate Cancer\",\"Prostate Cancer\",\"Lung Cancer\",\"Lung Cancer\",\"Prostate Cancer\",\"Colorectal Cancer\",\"Pancreatic Cancer\",\"Prostate Cancer\",\"Lung Cancer\",\"Cancer\",\"Lung Cancer\",\"Prostate Cancer\",\"Prostate Cancer\",\"Pancreatic Cancer\",\"Colorectal Cancer\",\"Prostate Cancer\",\"Prostate Cancer\",\"Prostate Cancer\",\"Colorectal Cancer\",\"Prostate Cancer\",\"Prostate Cancer\",\"Prostate Cancer\",\"Leukemia\",\"Prostate Cancer\",\"Colorectal Cancer\",\"Pancreatic Cancer\",\"Lung Cancer\",\"Prostate Cancer\",\"Prostate Cancer\",\"Breast Cancer\",\"Prostate Cancer\",\"Prostate Cancer\",\"Pancreatic Cancer\",\"Cancer\",\"Breast Cancer\",\"Melanoma\",\"Prostate Cancer\",\"Colorectal Cancer\",\"Breast Cancer\",\"Prostate Cancer\",\"Prostate Cancer\",\"Prostate Cancer\",\"Prostate Cancer\",\"Prostate Cancer\",\"Pancreatic Cancer\",\"Prostate Cancer\",\"Pancreatic Cancer\",\"Prostate Cancer\",\"Prostate Cancer\",\"Prostate Cancer\",\"Prostate Cancer\",\"Prostate Cancer\",\"Prostate Cancer\",\"Prostate Cancer\",\"Prostate Cancer\",\"Prostate Cancer\",\"Lung Cancer\",\"Prostate Cancer\",\"Prostate Cancer\",\"Prostate Cancer\",\"Breast Cancer\",\"Lung Cancer\",\"Colorectal Cancer\",\"Prostate Cancer\",\"Prostate Cancer\",\"Prostate Cancer\",\"Prostate Cancer\",\"Prostate Cancer\",\"Lung Cancer\",\"Breast Cancer\",\"Breast Cancer\",\"Breast Cancer\",\"Prostate Cancer\",\"Pancreatic Cancer\",\"Prostate Cancer\",\"Breast Cancer\",\"Breast Cancer\",\"Breast Cancer\",\"Prostate Cancer\",\"Prostate Cancer\",\"Prostate Cancer\",\"Breast Cancer\",\"Pancreatic Cancer\",\"Prostate Cancer\",\"Prostate Cancer\",\"Prostate Cancer\",\"Breast Cancer\",\"Colorectal Cancer\",\"Breast Cancer\",\"Pancreatic Cancer\",\"Breast Cancer\",\"Prostate Cancer\",\"Breast Cancer\",\"Breast Cancer\",\"Breast Cancer\",\"Breast Cancer\",\"Breast Cancer\",\"Breast Cancer\",\"Breast Cancer\",\"Prostate Cancer\",\"Breast Cancer\",\"Prostate Cancer\",\"Breast Cancer\",\"Pancreatic Cancer\",\"Breast Cancer\",\"Breast Cancer\",\"Breast Cancer\",\"Breast Cancer\",\"Breast Cancer\",\"Breast Cancer\",\"Breast Cancer\",\"Prostate Cancer\",\"Breast Cancer\",\"Breast Cancer\",\"Breast Cancer\",\"Breast Cancer\",\"Breast Cancer\",\"Breast Cancer\",\"Breast Cancer\",\"Breast Cancer\",\"Breast Cancer\",\"Prostate Cancer\",\"Breast Cancer\",\"Breast Cancer\",\"Breast Cancer\",\"Breast Cancer\",\"Prostate Cancer\",\"Breast Cancer\",\"Breast Cancer\",\"Melanoma\",\"Breast Cancer\",\"Breast Cancer\",\"Prostate Cancer\",\"Melanoma\",\"Breast Cancer\",\"Breast Cancer\",\"Breast Cancer\",\"Breast Cancer\",\"Breast Cancer\",\"Breast Cancer\",\"Breast Cancer\",\"Breast Cancer\",\"Breast Cancer\",\"Breast Cancer\",\"Breast Cancer\",\"Breast Cancer\",\"Cancer\",\"Breast Cancer\",\"Breast Cancer\",\"Breast Cancer\",\"Breast Cancer\",\"Breast Cancer\",\"Breast Cancer\",\"Pancreatic Cancer\",\"Breast Cancer\",\"Breast Cancer\",\"Breast Cancer\",\"Breast Cancer\",\"Breast Cancer\",\"Breast Cancer\",\"Prostate Cancer\",\"Breast Cancer\",\"Breast Cancer\",\"Breast Cancer\",\"Pancreatic Cancer\",\"Breast Cancer\",\"Breast Cancer\",\"Breast Cancer\",\"Breast Cancer\",\"Prostate Cancer\",\"Breast Cancer\",\"Breast Cancer\",\"Breast Cancer\",\"Breast Cancer\",\"Breast Cancer\",\"Lung Cancer\",\"Breast Cancer\",\"Breast Cancer\",\"Cancer\",\"Cancer\",\"Breast Cancer\",\"Lung Cancer\",\"Breast Cancer\",\"Colorectal Cancer\",\"Prostate Cancer\",\"Breast Cancer\",\"Cancer\",\"Multiple Myeloma\",\"Breast Cancer\",\"Cancer\",\"Prostate Cancer\",\"Breast Cancer\",\"Lymphoma\",\"Breast Cancer\",\"Breast Cancer\",\"Multiple Myeloma\",\"Breast Cancer\",\"Melanoma\",\"Cancer\",\"Breast Cancer\",\"Lung Cancer\",\"Pancreatic Cancer\",\"Breast Cancer\",\"Lung Cancer\",\"Breast Cancer\",\"Pancreatic Cancer\",\"Breast Cancer\",\"Melanoma\",\"Lung Cancer\",\"Breast Cancer\",\"Pancreatic Cancer\",\"Colorectal Cancer\",\"Breast Cancer\",\"Multiple Myeloma\",\"Breast Cancer\",\"Prostate Cancer\",\"Colorectal Cancer\",\"Pancreatic Cancer\",\"Melanoma\",\"Breast Cancer\",\"Lung Cancer\",\"Lung Cancer\",\"Breast Cancer\",\"Cancer\",\"Colorectal Cancer\",\"Lung Cancer\",\"Colorectal Cancer\",\"Melanoma\",\"Lung Cancer\",\"Prostate Cancer\",\"Lung Cancer\",\"Breast Cancer\",\"Colorectal Cancer\",\"Prostate Cancer\",\"Lung Cancer\",\"Lung Cancer\",\"Colorectal Cancer\",\"Prostate Cancer\",\"Pancreatic Cancer\",\"Prostate Cancer\",\"Lung Cancer\",\"Prostate Cancer\",\"Breast Cancer\",\"Prostate Cancer\",\"Pancreatic Cancer\",\"Prostate Cancer\",\"Prostate Cancer\",\"Lung Cancer\",\"Pancreatic Cancer\",\"Prostate Cancer\",\"Prostate Cancer\",\"Pancreatic Cancer\",\"Prostate Cancer\",\"Prostate Cancer\",\"Prostate Cancer\",\"Prostate Cancer\",\"Prostate Cancer\",\"Prostate Cancer\",\"Pancreatic Cancer\",\"Prostate Cancer\",\"Pancreatic Cancer\",\"Prostate Cancer\",\"Prostate Cancer\",\"Colorectal Cancer\",\"Breast Cancer\",\"Multiple Myeloma\",\"Pancreatic Cancer\",\"Prostate Cancer\",\"Prostate Cancer\",\"Prostate Cancer\",\"Prostate Cancer\",\"Pancreatic Cancer\",\"Colorectal Cancer\",\"Prostate Cancer\",\"Prostate Cancer\",\"Lung Cancer\",\"Colorectal Cancer\",\"Prostate Cancer\",\"Prostate Cancer\",\"Prostate Cancer\",\"Prostate Cancer\",\"Colorectal Cancer\",\"Breast Cancer\",\"Pancreatic Cancer\",\"Breast Cancer\",\"Colorectal Cancer\",\"Prostate Cancer\",\"Prostate Cancer\",\"Prostate Cancer\",\"Colorectal Cancer\",\"Prostate Cancer\",\"Pancreatic Cancer\",\"Prostate Cancer\",\"Pancreatic Cancer\",\"Prostate Cancer\",\"Prostate Cancer\",\"Pancreatic Cancer\",\"Pancreatic Cancer\",\"Prostate Cancer\",\"Prostate Cancer\",\"Prostate Cancer\",\"Lung Cancer\",\"Prostate Cancer\",\"Prostate Cancer\",\"Prostate Cancer\",\"Breast Cancer\",\"Prostate Cancer\",\"Pancreatic Cancer\",\"Prostate Cancer\",\"Pancreatic Cancer\",\"Pancreatic Cancer\",\"Lung Cancer\",\"Pancreatic Cancer\",\"Pancreatic Cancer\",\"Lung Cancer\",\"Prostate Cancer\",\"Prostate Cancer\",\"Prostate Cancer\",\"Prostate Cancer\",\"Prostate Cancer\",\"Prostate Cancer\",\"Prostate Cancer\",\"Colorectal Cancer\",\"Breast Cancer\",\"Pancreatic Cancer\",\"Lung Cancer\",\"Prostate Cancer\",\"Prostate Cancer\",\"Pancreatic Cancer\",\"Pancreatic Cancer\",\"Colorectal Cancer\",\"Breast Cancer\",\"Colorectal Cancer\",\"Lung Cancer\",\"Prostate Cancer\",\"Prostate Cancer\",\"Prostate Cancer\",\"Prostate Cancer\",\"Prostate Cancer\",\"Lung Cancer\",\"Prostate Cancer\",\"Breast Cancer\",\"Lung Cancer\",\"Prostate Cancer\",\"Prostate Cancer\",\"Prostate Cancer\",\"Prostate Cancer\",\"Breast Cancer\",\"Breast Cancer\",\"Prostate Cancer\",\"Pancreatic Cancer\",\"Prostate Cancer\",\"Pancreatic Cancer\",\"Prostate Cancer\",\"Pancreatic Cancer\",\"Pancreatic Cancer\",\"Prostate Cancer\",\"Breast Cancer\",\"Breast Cancer\",\"Breast Cancer\",\"Breast Cancer\",\"Pancreatic Cancer\",\"Prostate Cancer\",\"Lung Cancer\",\"Pancreatic Cancer\",\"Prostate Cancer\",\"Breast Cancer\",\"Breast Cancer\",\"Prostate Cancer\",\"Prostate Cancer\",\"Breast Cancer\",\"Breast Cancer\",\"Pancreatic Cancer\",\"Breast Cancer\",\"Prostate Cancer\",\"Pancreatic Cancer\",\"Breast Cancer\",\"Breast Cancer\",\"Pancreatic Cancer\",\"Breast Cancer\",\"Pancreatic Cancer\",\"Prostate Cancer\",\"Prostate Cancer\",\"Breast Cancer\",\"Lymphoma\",\"Prostate Cancer\",\"Cancer\",\"Pancreatic Cancer\",\"Pancreatic Cancer\",\"Breast Cancer\",\"Pancreatic Cancer\",\"Breast Cancer\",\"Breast Cancer\",\"Breast Cancer\",\"Breast Cancer\",\"Breast Cancer\",\"Breast Cancer\",\"Breast Cancer\",\"Prostate Cancer\",\"Multiple Myeloma\",\"Breast Cancer\",\"Breast Cancer\",\"Breast Cancer\",\"Breast Cancer\",\"Lung Cancer\",\"Breast Cancer\",\"Breast Cancer\",\"Breast Cancer\",\"Prostate Cancer\",\"Breast Cancer\",\"Prostate Cancer\",\"Breast Cancer\",\"Breast Cancer\",\"Breast Cancer\",\"Breast Cancer\",\"Lung Cancer\",\"Colorectal Cancer\",\"Breast Cancer\",\"Breast Cancer\",\"Breast Cancer\",\"Breast Cancer\",\"Breast Cancer\",\"Breast Cancer\",\"Breast Cancer\",\"Breast Cancer\",\"Breast Cancer\",\"Breast Cancer\",\"Breast Cancer\",\"Breast Cancer\",\"Breast Cancer\",\"Breast Cancer\",\"Breast Cancer\",\"Breast Cancer\",\"Breast Cancer\",\"Breast Cancer\",\"Breast Cancer\",\"Breast Cancer\",\"Breast Cancer\",\"Breast Cancer\",\"Breast Cancer\",\"Breast Cancer\",\"Breast Cancer\",\"Breast Cancer\",\"Breast Cancer\",\"Breast Cancer\",\"Breast Cancer\",\"Breast Cancer\",\"Breast Cancer\",\"Breast Cancer\",\"Breast Cancer\",\"Breast Cancer\",\"Breast Cancer\",\"Breast Cancer\",\"Breast Cancer\",\"Breast Cancer\",\"Breast Cancer\",\"Breast Cancer\",\"Breast Cancer\",\"Breast Cancer\",\"Breast Cancer\",\"Breast Cancer\",\"Breast Cancer\",\"Breast Cancer\",\"Breast Cancer\",\"Breast Cancer\",\"Breast Cancer\",\"Breast Cancer\",\"Breast Cancer\",\"Breast Cancer\",\"Breast Cancer\",\"Breast Cancer\",\"Breast Cancer\",\"Breast Cancer\",\"Leukemia\",\"Lymphoma\",\"Breast Cancer\",\"Breast Cancer\",\"Breast Cancer\",\"Cancer\",\"Multiple Myeloma\",\"Prostate Cancer\",\"Prostate Cancer\",\"Prostate Cancer\",\"Cancer\",\"Cancer\",\"Lung Cancer\",\"Prostate Cancer\",\"Lung Cancer\",\"Breast Cancer\",\"Cancer\",\"Lung Cancer\",\"Pancreatic Cancer\",\"Prostate Cancer\",\"Breast Cancer\",\"Prostate Cancer\",\"Prostate Cancer\",\"Breast Cancer\",\"Breast Cancer\",\"Breast Cancer\",\"Breast Cancer\",\"Breast Cancer\",\"Breast Cancer\",\"Cancer\",\"Pancreatic Cancer\",\"Prostate Cancer\",\"Prostate Cancer\",\"Cancer\",\"Breast Cancer\",\"Cancer\",\"Breast Cancer\",\"Breast Cancer\",\"Prostate Cancer\",\"Prostate Cancer\",\"Colorectal Cancer\",\"Cancer\",\"Cancer\",\"Lung Cancer\",\"Breast Cancer\",\"Breast Cancer\",\"Prostate Cancer\",\"Prostate Cancer\",\"Prostate Cancer\",\"Prostate Cancer\",\"Lung Cancer\",\"Cancer\",\"Colorectal Cancer\",\"Prostate Cancer\",\"Breast Cancer\",\"Breast Cancer\",\"Prostate Cancer\",\"Cancer\",\"Prostate Cancer\",\"Cancer\",\"Breast Cancer\",\"Breast Cancer\",\"Cancer\",\"Lung Cancer\",\"Pancreatic Cancer\",\"Cancer\",\"Breast Cancer\",\"Lung Cancer\",\"Breast Cancer\",\"Breast Cancer\",\"Cancer\",\"Breast Cancer\",\"Lung Cancer\",\"Breast Cancer\",\"Breast Cancer\",\"Lung Cancer\",\"Lymphoma\",\"Melanoma\",\"Pancreatic Cancer\",\"Breast Cancer\",\"Breast Cancer\",\"Breast Cancer\",\"Breast Cancer\",\"Breast Cancer\",\"Cancer\",\"Cancer\",\"Breast Cancer\",\"Cancer\",\"Breast Cancer\",\"Lung Cancer\",\"Pancreatic Cancer\",\"Cancer\",\"Breast Cancer\",\"Cancer\",\"Leukemia\",\"Cancer\",\"Breast Cancer\",\"Breast Cancer\",\"Breast Cancer\",\"Multiple Myeloma\",\"Breast Cancer\",\"Breast Cancer\",\"Lung Cancer\",\"Breast Cancer\",\"Cancer\",\"Breast Cancer\",\"Cancer\",\"Breast Cancer\",\"Cancer\",\"Lymphoma\",\"Prostate Cancer\",\"Melanoma\",\"Breast Cancer\",\"Lung Cancer\",\"Breast Cancer\",\"Multiple Myeloma\",\"Lymphoma\",\"Colorectal Cancer\",\"Leukemia\",\"Lymphoma\",\"Multiple Myeloma\",\"Colorectal Cancer\",\"Lung Cancer\",\"Multiple Myeloma\",\"Pancreatic Cancer\",\"Cancer\",\"Breast Cancer\",\"Breast Cancer\",\"Cancer\",\"Colorectal Cancer\",\"Breast Cancer\",\"Cancer\",\"Cancer\",\"Cancer\",\"Breast Cancer\",\"Breast Cancer\",\"Cancer\",\"Melanoma\",\"Cancer\",\"Cancer\",\"Cancer\",\"Breast Cancer\",\"Lung Cancer\",\"Colorectal Cancer\",\"Cancer\",\"Breast Cancer\",\"Breast Cancer\",\"Breast Cancer\",\"Cancer\",\"Cancer\",\"Cancer\",\"Melanoma\",\"Cancer\",\"Cancer\",\"Melanoma\",\"Breast Cancer\",\"Cancer\",\"Breast Cancer\",\"Breast Cancer\",\"Cancer\",\"Multiple Myeloma\",\"Cancer\",\"Cancer\",\"Breast Cancer\",\"Cancer\",\"Cancer\",\"Cancer\",\"Pancreatic Cancer\",\"Lung Cancer\",\"Prostate Cancer\",\"Prostate Cancer\",\"Colorectal Cancer\",\"Lymphoma\",\"Multiple Myeloma\",\"Pancreatic Cancer\",\"Lung Cancer\",\"Breast Cancer\",\"Prostate Cancer\",\"Lymphoma\",\"Prostate Cancer\",\"Breast Cancer\",\"Lung Cancer\",\"Prostate Cancer\",\"Pancreatic Cancer\",\"Colorectal Cancer\",\"Cancer\",\"Prostate Cancer\",\"Lymphoma\",\"Prostate Cancer\",\"Cancer\",\"Prostate Cancer\",\"Pancreatic Cancer\",\"Breast Cancer\",\"Lung Cancer\",\"Melanoma\",\"Prostate Cancer\",\"Colorectal Cancer\",\"Lymphoma\",\"Prostate Cancer\",\"Prostate Cancer\",\"Pancreatic Cancer\",\"Prostate Cancer\",\"Pancreatic Cancer\",\"Lymphoma\",\"Pancreatic Cancer\",\"Pancreatic Cancer\",\"Prostate Cancer\",\"Prostate Cancer\",\"Prostate Cancer\",\"Prostate Cancer\",\"Prostate Cancer\",\"Prostate Cancer\",\"Prostate Cancer\",\"Pancreatic Cancer\",\"Prostate Cancer\",\"Prostate Cancer\",\"Prostate Cancer\",\"Cancer\",\"Prostate Cancer\",\"Prostate Cancer\",\"Leukemia\",\"Lymphoma\",\"Multiple Myeloma\",\"Lung Cancer\",\"Prostate Cancer\",\"Pancreatic Cancer\",\"Prostate Cancer\",\"Multiple Myeloma\",\"Pancreatic Cancer\",\"Pancreatic Cancer\",\"Colorectal Cancer\",\"Lung Cancer\",\"Pancreatic Cancer\",\"Cancer\",\"Cancer\",\"Cancer\",\"Cancer\",\"Cancer\",\"Cancer\",\"Lung Cancer\",\"Pancreatic Cancer\",\"Lung Cancer\",\"Cancer\",\"Breast Cancer\",\"Cancer\",\"Lymphoma\",\"Multiple Myeloma\",\"Lung Cancer\",\"Melanoma\",\"Cancer\",\"Lymphoma\",\"Multiple Myeloma\",\"Lymphoma\",\"Cancer\",\"Cancer\",\"Cancer\",\"Cancer\",\"Cancer\",\"Lymphoma\",\"Breast Cancer\",\"Cancer\",\"Cancer\",\"Melanoma\",\"Melanoma\",\"Lung Cancer\",\"Lymphoma\",\"Breast Cancer\",\"Cancer\",\"Lung Cancer\",\"Melanoma\",\"Breast Cancer\",\"Prostate Cancer\",\"Prostate Cancer\",\"Prostate Cancer\",\"Colorectal Cancer\",\"Cancer\",\"Prostate Cancer\",\"Breast Cancer\",\"Breast Cancer\",\"Breast Cancer\",\"Pancreatic Cancer\",\"Cancer\",\"Breast Cancer\",\"Breast Cancer\",\"Breast Cancer\",\"Breast Cancer\",\"Pancreatic Cancer\",\"Cancer\",\"Colorectal Cancer\",\"Colorectal Cancer\",\"Cancer\",\"Breast Cancer\",\"Cancer\",\"Prostate Cancer\",\"Prostate Cancer\",\"Prostate Cancer\",\"Prostate Cancer\",\"Prostate Cancer\",\"Prostate Cancer\",\"Prostate Cancer\",\"Prostate Cancer\",\"Prostate Cancer\",\"Prostate Cancer\",\"Prostate Cancer\",\"Prostate Cancer\",\"Prostate Cancer\",\"Colorectal Cancer\",\"Cancer\",\"Cancer\",\"Breast Cancer\",\"Breast Cancer\",\"Cancer\",\"Lymphoma\",\"Pancreatic Cancer\",\"Pancreatic Cancer\",\"Pancreatic Cancer\",\"Prostate Cancer\",\"Cancer\",\"Cancer\",\"Breast Cancer\",\"Cancer\",\"Lymphoma\",\"Colorectal Cancer\",\"Colorectal Cancer\",\"Cancer\",\"Cancer\",\"Prostate Cancer\",\"Pancreatic Cancer\",\"Breast Cancer\",\"Pancreatic Cancer\",\"Cancer\",\"Cancer\",\"Cancer\",\"Breast Cancer\",\"Breast Cancer\",\"Multiple Myeloma\",\"Cancer\",\"Colorectal Cancer\",\"Cancer\",\"Cancer\",\"Prostate Cancer\",\"Colorectal Cancer\",\"Cancer\",\"Cancer\",\"Cancer\",\"Cancer\",\"Breast Cancer\",\"Multiple Myeloma\",\"Cancer\",\"Breast Cancer\",\"Colorectal Cancer\",\"Cancer\",\"Colorectal Cancer\",\"Breast Cancer\",\"Breast Cancer\",\"Melanoma\",\"Cancer\",\"Cancer\",\"Cancer\",\"Breast Cancer\",\"Breast Cancer\",\"Breast Cancer\",\"Melanoma\",\"Cancer\",\"Melanoma\",\"Lymphoma\",\"Pancreatic Cancer\",\"Prostate Cancer\",\"Breast Cancer\",\"Multiple Myeloma\",\"Breast Cancer\",\"Multiple Myeloma\",\"Leukemia\",\"Lymphoma\",\"Lung Cancer\",\"Cancer\",\"Breast Cancer\",\"Breast Cancer\",\"Prostate Cancer\",\"Multiple Myeloma\",\"Leukemia\",\"Lymphoma\",\"Multiple Myeloma\",\"Lung Cancer\",\"Cancer\",\"Lung Cancer\",\"Cancer\",\"Cancer\",\"Breast Cancer\",\"Cancer\",\"Cancer\",\"Multiple Myeloma\",\"Breast Cancer\",\"Melanoma\",\"Cancer\",\"Cancer\",\"Breast Cancer\",\"Melanoma\",\"Prostate Cancer\",\"Lung Cancer\",\"Lymphoma\",\"Lymphoma\",\"Breast Cancer\",\"Cancer\",\"Cancer\",\"Lymphoma\",\"Cancer\",\"Breast Cancer\",\"Prostate Cancer\",\"Prostate Cancer\",\"Pancreatic Cancer\",\"Pancreatic Cancer\",\"Pancreatic Cancer\",\"Pancreatic Cancer\",\"Pancreatic Cancer\",\"Pancreatic Cancer\",\"Pancreatic Cancer\",\"Pancreatic Cancer\",\"Pancreatic Cancer\",\"Breast Cancer\",\"Cancer\",\"Lymphoma\",\"Lung Cancer\",\"Lymphoma\",\"Lung Cancer\",\"Lymphoma\",\"Cancer\",\"Lung Cancer\",\"Prostate Cancer\",\"Breast Cancer\",\"Cancer\",\"Pancreatic Cancer\",\"Pancreatic Cancer\",\"Pancreatic Cancer\",\"Pancreatic Cancer\",\"Pancreatic Cancer\",\"Pancreatic Cancer\",\"Pancreatic Cancer\",\"Pancreatic Cancer\",\"Pancreatic Cancer\",\"Pancreatic Cancer\",\"Pancreatic Cancer\",\"Pancreatic Cancer\",\"Pancreatic Cancer\",\"Pancreatic Cancer\",\"Cancer\",\"Leukemia\",\"Lymphoma\",\"Lung Cancer\",\"Multiple Myeloma\",\"Cancer\",\"Multiple Myeloma\",\"Cancer\",\"Breast Cancer\",\"Breast Cancer\",\"Breast Cancer\",\"Breast Cancer\",\"Breast Cancer\",\"Cancer\",\"Cancer\",\"Breast Cancer\",\"Colorectal Cancer\",\"Breast Cancer\",\"Lung Cancer\",\"Lymphoma\",\"Leukemia\",\"Leukemia\",\"Melanoma\",\"Breast Cancer\",\"Cancer\",\"Leukemia\",\"Lymphoma\",\"Melanoma\",\"Melanoma\",\"Melanoma\",\"Melanoma\",\"Cancer\",\"Cancer\",\"Cancer\",\"Lymphoma\",\"Cancer\",\"Leukemia\",\"Lymphoma\",\"Multiple Myeloma\",\"Cancer\",\"Breast Cancer\",\"Breast Cancer\",\"Breast Cancer\",\"Lung Cancer\",\"Breast Cancer\",\"Multiple Myeloma\",\"Breast Cancer\",\"Breast Cancer\",\"Breast Cancer\",\"Multiple Myeloma\",\"Breast Cancer\",\"Breast Cancer\",\"Breast Cancer\",\"Breast Cancer\",\"Breast Cancer\",\"Breast Cancer\",\"Breast Cancer\",\"Breast Cancer\",\"Breast Cancer\",\"Cancer\",\"Breast Cancer\",\"Prostate Cancer\",\"Prostate Cancer\",\"Prostate Cancer\",\"Prostate Cancer\",\"Colorectal Cancer\",\"Cancer\",\"Cancer\",\"Breast Cancer\",\"Lymphoma\",\"Breast Cancer\",\"Cancer\",\"Breast Cancer\",\"Breast Cancer\",\"Melanoma\",\"Breast Cancer\",\"Breast Cancer\",\"Breast Cancer\",\"Lung Cancer\",\"Breast Cancer\",\"Breast Cancer\",\"Breast Cancer\",\"Cancer\",\"Multiple Myeloma\",\"Multiple Myeloma\",\"Multiple Myeloma\",\"Multiple Myeloma\",\"Multiple Myeloma\",\"Multiple Myeloma\",\"Multiple Myeloma\",\"Multiple Myeloma\",\"Multiple Myeloma\",\"Multiple Myeloma\",\"Multiple Myeloma\",\"Multiple Myeloma\",\"Multiple Myeloma\",\"Multiple Myeloma\",\"Multiple Myeloma\",\"Multiple Myeloma\",\"Multiple Myeloma\",\"Multiple Myeloma\",\"Multiple Myeloma\",\"Multiple Myeloma\",\"Multiple Myeloma\",\"Multiple Myeloma\",\"Multiple Myeloma\",\"Multiple Myeloma\",\"Multiple Myeloma\",\"Multiple Myeloma\",\"Breast Cancer\",\"Breast Cancer\",\"Multiple Myeloma\",\"Multiple Myeloma\",\"Multiple Myeloma\",\"Multiple Myeloma\",\"Multiple Myeloma\",\"Multiple Myeloma\",\"Breast Cancer\",\"Multiple Myeloma\",\"Multiple Myeloma\",\"Multiple Myeloma\",\"Multiple Myeloma\",\"Multiple Myeloma\",\"Multiple Myeloma\",\"Multiple Myeloma\",\"Multiple Myeloma\",\"Multiple Myeloma\",\"Multiple Myeloma\",\"Multiple Myeloma\",\"Multiple Myeloma\",\"Multiple Myeloma\",\"Multiple Myeloma\",\"Breast Cancer\",\"Colorectal Cancer\",\"Breast Cancer\",\"Breast Cancer\",\"Multiple Myeloma\",\"Multiple Myeloma\",\"Multiple Myeloma\",\"Multiple Myeloma\",\"Lung Cancer\",\"Multiple Myeloma\",\"Multiple Myeloma\",\"Multiple Myeloma\",\"Multiple Myeloma\",\"Multiple Myeloma\",\"Multiple Myeloma\",\"Multiple Myeloma\",\"Multiple Myeloma\",\"Multiple Myeloma\",\"Lung Cancer\",\"Breast Cancer\",\"Breast Cancer\",\"Cancer\",\"Breast Cancer\",\"Breast Cancer\",\"Lung Cancer\",\"Lung Cancer\",\"Breast Cancer\",\"Breast Cancer\",\"Breast Cancer\",\"Lymphoma\",\"Multiple Myeloma\",\"Colorectal Cancer\",\"Breast Cancer\",\"Multiple Myeloma\",\"Multiple Myeloma\",\"Multiple Myeloma\",\"Multiple Myeloma\",\"Multiple Myeloma\",\"Multiple Myeloma\",\"Lymphoma\",\"Multiple Myeloma\",\"Multiple Myeloma\",\"Multiple Myeloma\",\"Multiple Myeloma\",\"Multiple Myeloma\",\"Prostate Cancer\",\"Colorectal Cancer\",\"Lung Cancer\",\"Melanoma\",\"Melanoma\",\"Lung Cancer\",\"Melanoma\",\"Lymphoma\",\"Lung Cancer\",\"Cancer\",\"Cancer\",\"Lung Cancer\",\"Leukemia\",\"Prostate Cancer\",\"Cancer\",\"Lymphoma\",\"Cancer\",\"Multiple Myeloma\",\"Multiple Myeloma\",\"Multiple Myeloma\",\"Multiple Myeloma\",\"Multiple Myeloma\",\"Multiple Myeloma\",\"Multiple Myeloma\",\"Multiple Myeloma\",\"Multiple Myeloma\",\"Multiple Myeloma\",\"Multiple Myeloma\",\"Multiple Myeloma\",\"Melanoma\",\"Cancer\",\"Cancer\",\"Cancer\",\"Cancer\",\"Cancer\",\"Cancer\",\"Cancer\",\"Cancer\",\"Cancer\",\"Cancer\",\"Cancer\",\"Cancer\",\"Cancer\",\"Cancer\",\"Cancer\",\"Colorectal Cancer\",\"Colorectal Cancer\",\"Colorectal Cancer\",\"Cancer\",\"Cancer\",\"Cancer\",\"Cancer\",\"Cancer\",\"Multiple Myeloma\",\"Cancer\",\"Lung Cancer\",\"Breast Cancer\",\"Prostate Cancer\",\"Breast Cancer\",\"Breast Cancer\",\"Lung Cancer\",\"Lung Cancer\",\"Prostate Cancer\",\"Breast Cancer\",\"Lymphoma\",\"Breast Cancer\",\"Breast Cancer\",\"Breast Cancer\",\"Breast Cancer\",\"Breast Cancer\",\"Breast Cancer\",\"Breast Cancer\",\"Breast Cancer\",\"Breast Cancer\",\"Breast Cancer\",\"Breast Cancer\",\"Breast Cancer\",\"Breast Cancer\",\"Breast Cancer\",\"Breast Cancer\",\"Breast Cancer\",\"Breast Cancer\",\"Melanoma\",\"Breast Cancer\",\"Breast Cancer\",\"Breast Cancer\",\"Breast Cancer\",\"Breast Cancer\",\"Breast Cancer\",\"Breast Cancer\",\"Breast Cancer\",\"Breast Cancer\",\"Breast Cancer\",\"Breast Cancer\",\"Breast Cancer\",\"Breast Cancer\",\"Breast Cancer\",\"Breast Cancer\",\"Breast Cancer\",\"Breast Cancer\",\"Colorectal Cancer\",\"Colorectal Cancer\",\"Multiple Myeloma\",\"Breast Cancer\",\"Colorectal Cancer\",\"Breast Cancer\",\"Multiple Myeloma\",\"Multiple Myeloma\",\"Multiple Myeloma\",\"Multiple Myeloma\",\"Multiple Myeloma\",\"Multiple Myeloma\",\"Multiple Myeloma\",\"Multiple Myeloma\",\"Multiple Myeloma\",\"Melanoma\",\"Melanoma\",\"Melanoma\",\"Melanoma\",\"Multiple Myeloma\",\"Lymphoma\",\"Lymphoma\",\"Multiple Myeloma\",\"Melanoma\",\"Multiple Myeloma\",\"Multiple Myeloma\",\"Lymphoma\",\"Leukemia\",\"Leukemia\",\"Lymphoma\",\"Leukemia\",\"Leukemia\",\"Lymphoma\",\"Melanoma\",\"Lymphoma\",\"Leukemia\",\"Lymphoma\",\"Leukemia\",\"Multiple Myeloma\",\"Lymphoma\",\"Multiple Myeloma\",\"Multiple Myeloma\",\"Multiple Myeloma\",\"Multiple Myeloma\",\"Multiple Myeloma\",\"Multiple Myeloma\",\"Multiple Myeloma\",\"Multiple Myeloma\",\"Multiple Myeloma\",\"Multiple Myeloma\",\"Multiple Myeloma\",\"Multiple Myeloma\",\"Multiple Myeloma\",\"Multiple Myeloma\",\"Multiple Myeloma\",\"Multiple Myeloma\",\"Multiple Myeloma\",\"Multiple Myeloma\",\"Multiple Myeloma\",\"Multiple Myeloma\",\"Multiple Myeloma\",\"Lymphoma\",\"Melanoma\",\"Lymphoma\",\"Lymphoma\",\"Lymphoma\",\"Lymphoma\",\"Leukemia\",\"Leukemia\",\"Melanoma\",\"Leukemia\",\"Lymphoma\",\"Leukemia\",\"Lymphoma\",\"Cancer\",\"Cancer\",\"Cancer\",\"Cancer\",\"Cancer\",\"Cancer\",\"Cancer\",\"Cancer\",\"Cancer\",\"Cancer\",\"Cancer\",\"Cancer\",\"Cancer\",\"Cancer\",\"Cancer\",\"Cancer\",\"Cancer\",\"Cancer\",\"Cancer\",\"Cancer\",\"Cancer\",\"Cancer\",\"Cancer\",\"Cancer\",\"Cancer\",\"Cancer\",\"Cancer\",\"Cancer\",\"Cancer\",\"Cancer\",\"Cancer\",\"Cancer\",\"Cancer\",\"Cancer\",\"Cancer\",\"Cancer\",\"Cancer\",\"Cancer\",\"Cancer\",\"Cancer\",\"Lymphoma\",\"Leukemia\",\"Lymphoma\",\"Leukemia\",\"Leukemia\",\"Lymphoma\",\"Lung Cancer\",\"Lung Cancer\",\"Lung Cancer\",\"Lung Cancer\",\"Lung Cancer\",\"Lung Cancer\",\"Lung Cancer\",\"Lung Cancer\",\"Lung Cancer\",\"Lung Cancer\",\"Multiple Myeloma\",\"Breast Cancer\",\"Breast Cancer\",\"Breast Cancer\",\"Breast Cancer\",\"Breast Cancer\",\"Breast Cancer\",\"Breast Cancer\",\"Breast Cancer\",\"Breast Cancer\",\"Breast Cancer\",\"Breast Cancer\",\"Breast Cancer\",\"Breast Cancer\",\"Breast Cancer\",\"Breast Cancer\",\"Breast Cancer\",\"Breast Cancer\",\"Breast Cancer\",\"Breast Cancer\",\"Breast Cancer\",\"Breast Cancer\",\"Breast Cancer\",\"Breast Cancer\",\"Breast Cancer\",\"Breast Cancer\",\"Breast Cancer\",\"Breast Cancer\",\"Breast Cancer\",\"Breast Cancer\",\"Breast Cancer\",\"Breast Cancer\",\"Breast Cancer\",\"Breast Cancer\",\"Breast Cancer\",\"Breast Cancer\",\"Breast Cancer\",\"Breast Cancer\",\"Breast Cancer\",\"Breast Cancer\",\"Breast Cancer\",\"Breast Cancer\",\"Breast Cancer\",\"Breast Cancer\",\"Breast Cancer\",\"Breast Cancer\",\"Breast Cancer\",\"Breast Cancer\",\"Breast Cancer\",\"Breast Cancer\",\"Breast Cancer\",\"Breast Cancer\",\"Breast Cancer\",\"Breast Cancer\",\"Breast Cancer\",\"Breast Cancer\",\"Breast Cancer\",\"Prostate Cancer\",\"Prostate Cancer\",\"Prostate Cancer\",\"Prostate Cancer\",\"Prostate Cancer\",\"Prostate Cancer\",\"Prostate Cancer\",\"Prostate Cancer\",\"Prostate Cancer\",\"Prostate Cancer\",\"Prostate Cancer\",\"Prostate Cancer\",\"Prostate Cancer\",\"Prostate Cancer\",\"Prostate Cancer\",\"Prostate Cancer\",\"Prostate Cancer\",\"Prostate Cancer\",\"Leukemia\",\"Lymphoma\",\"Colorectal Cancer\",\"Colorectal Cancer\",\"Colorectal Cancer\",\"Colorectal Cancer\",\"Colorectal Cancer\",\"Colorectal Cancer\",\"Multiple Myeloma\",\"Leukemia\",\"Melanoma\",\"Cancer\",\"Melanoma\",\"Melanoma\",\"Melanoma\",\"Melanoma\",\"Melanoma\",\"Melanoma\",\"Melanoma\",\"Melanoma\",\"Melanoma\",\"Melanoma\",\"Melanoma\",\"Melanoma\",\"Melanoma\",\"Melanoma\",\"Melanoma\",\"Melanoma\",\"Melanoma\",\"Melanoma\",\"Melanoma\",\"Melanoma\",\"Melanoma\",\"Melanoma\",\"Melanoma\",\"Melanoma\",\"Lymphoma\",\"Melanoma\",\"Melanoma\",\"Leukemia\",\"Leukemia\",\"Leukemia\",\"Lymphoma\",\"Leukemia\",\"Lymphoma\",\"Melanoma\",\"Lymphoma\",\"Melanoma\",\"Leukemia\",\"Multiple Myeloma\",\"Melanoma\",\"Melanoma\",\"Melanoma\",\"Melanoma\",\"Multiple Myeloma\",\"Lymphoma\",\"Leukemia\",\"Lymphoma\",\"Multiple Myeloma\",\"Multiple Myeloma\",\"Melanoma\",\"Melanoma\",\"Melanoma\",\"Melanoma\",\"Melanoma\",\"Melanoma\",\"Melanoma\",\"Melanoma\",\"Melanoma\",\"Leukemia\",\"Leukemia\",\"Leukemia\",\"Leukemia\",\"Lymphoma\",\"Multiple Myeloma\",\"Multiple Myeloma\",\"Multiple Myeloma\",\"Multiple Myeloma\",\"Multiple Myeloma\",\"Multiple Myeloma\",\"Multiple Myeloma\",\"Multiple Myeloma\",\"Multiple Myeloma\",\"Multiple Myeloma\",\"Multiple Myeloma\",\"Multiple Myeloma\",\"Multiple Myeloma\",\"Multiple Myeloma\",\"Multiple Myeloma\",\"Multiple Myeloma\",\"Multiple Myeloma\",\"Multiple Myeloma\",\"Multiple Myeloma\",\"Multiple Myeloma\",\"Multiple Myeloma\",\"Multiple Myeloma\",\"Multiple Myeloma\",\"Multiple Myeloma\",\"Multiple Myeloma\",\"Multiple Myeloma\",\"Multiple Myeloma\",\"Multiple Myeloma\",\"Multiple Myeloma\",\"Multiple Myeloma\",\"Multiple Myeloma\",\"Multiple Myeloma\",\"Multiple Myeloma\",\"Multiple Myeloma\",\"Multiple Myeloma\",\"Multiple Myeloma\",\"Multiple Myeloma\",\"Multiple Myeloma\",\"Multiple Myeloma\",\"Multiple Myeloma\",\"Multiple Myeloma\",\"Multiple Myeloma\",\"Multiple Myeloma\",\"Multiple Myeloma\",\"Multiple Myeloma\",\"Multiple Myeloma\",\"Multiple Myeloma\",\"Multiple Myeloma\",\"Multiple Myeloma\",\"Multiple Myeloma\",\"Multiple Myeloma\",\"Multiple Myeloma\",\"Multiple Myeloma\",\"Multiple Myeloma\",\"Multiple Myeloma\",\"Multiple Myeloma\",\"Multiple Myeloma\",\"Multiple Myeloma\",\"Multiple Myeloma\",\"Multiple Myeloma\",\"Multiple Myeloma\",\"Multiple Myeloma\",\"Multiple Myeloma\",\"Leukemia\",\"Multiple Myeloma\",\"Multiple Myeloma\",\"Multiple Myeloma\",\"Multiple Myeloma\",\"Multiple Myeloma\",\"Multiple Myeloma\",\"Multiple Myeloma\",\"Multiple Myeloma\",\"Multiple Myeloma\",\"Multiple Myeloma\",\"Multiple Myeloma\",\"Multiple Myeloma\",\"Multiple Myeloma\",\"Multiple Myeloma\",\"Multiple Myeloma\",\"Multiple Myeloma\",\"Multiple Myeloma\",\"Multiple Myeloma\",\"Multiple Myeloma\",\"Multiple Myeloma\",\"Multiple Myeloma\",\"Multiple Myeloma\",\"Multiple Myeloma\",\"Multiple Myeloma\",\"Multiple Myeloma\",\"Multiple Myeloma\",\"Multiple Myeloma\",\"Multiple Myeloma\",\"Multiple Myeloma\",\"Multiple Myeloma\",\"Multiple Myeloma\",\"Multiple Myeloma\",\"Multiple Myeloma\",\"Multiple Myeloma\",\"Multiple Myeloma\",\"Multiple Myeloma\",\"Multiple Myeloma\",\"Multiple Myeloma\",\"Multiple Myeloma\",\"Multiple Myeloma\",\"Multiple Myeloma\",\"Multiple Myeloma\",\"Multiple Myeloma\",\"Multiple Myeloma\",\"Multiple Myeloma\",\"Multiple Myeloma\",\"Multiple Myeloma\",\"Multiple Myeloma\",\"Multiple Myeloma\",\"Multiple Myeloma\",\"Multiple Myeloma\",\"Leukemia\",\"Lymphoma\",\"Melanoma\",\"Melanoma\",\"Melanoma\",\"Multiple Myeloma\",\"Lymphoma\",\"Lymphoma\",\"Lymphoma\",\"Lymphoma\",\"Lymphoma\",\"Lymphoma\",\"Lymphoma\",\"Lymphoma\",\"Lymphoma\",\"Melanoma\",\"Lymphoma\",\"Lymphoma\",\"Lymphoma\",\"Melanoma\",\"Melanoma\",\"Melanoma\",\"Melanoma\",\"Melanoma\",\"Melanoma\",\"Melanoma\",\"Melanoma\",\"Leukemia\",\"Leukemia\",\"Lymphoma\",\"Leukemia\",\"Lymphoma\",\"Lymphoma\",\"Lymphoma\",\"Leukemia\",\"Multiple Myeloma\",\"Multiple Myeloma\",\"Multiple Myeloma\",\"Lymphoma\",\"Melanoma\",\"Lymphoma\",\"Lymphoma\",\"Leukemia\",\"Lymphoma\",\"Lymphoma\",\"Lymphoma\",\"Lymphoma\",\"Lymphoma\",\"Leukemia\",\"Melanoma\",\"Melanoma\",\"Melanoma\",\"Melanoma\",\"Melanoma\",\"Melanoma\",\"Melanoma\",\"Melanoma\",\"Melanoma\",\"Melanoma\",\"Melanoma\",\"Melanoma\",\"Melanoma\",\"Melanoma\",\"Melanoma\",\"Melanoma\",\"Melanoma\",\"Melanoma\",\"Melanoma\",\"Melanoma\",\"Melanoma\",\"Melanoma\",\"Melanoma\",\"Melanoma\",\"Melanoma\",\"Melanoma\",\"Melanoma\",\"Melanoma\",\"Melanoma\",\"Melanoma\",\"Melanoma\",\"Melanoma\",\"Melanoma\",\"Melanoma\",\"Melanoma\",\"Melanoma\",\"Melanoma\",\"Melanoma\",\"Melanoma\",\"Melanoma\",\"Melanoma\",\"Melanoma\",\"Melanoma\",\"Melanoma\",\"Melanoma\",\"Melanoma\",\"Melanoma\",\"Melanoma\",\"Melanoma\",\"Melanoma\",\"Melanoma\",\"Melanoma\",\"Melanoma\",\"Melanoma\",\"Melanoma\",\"Melanoma\",\"Melanoma\",\"Melanoma\",\"Melanoma\",\"Melanoma\",\"Melanoma\",\"Melanoma\",\"Melanoma\",\"Melanoma\",\"Melanoma\",\"Melanoma\",\"Melanoma\",\"Multiple Myeloma\",\"Leukemia\",\"Multiple Myeloma\",\"Multiple Myeloma\",\"Lymphoma\",\"Multiple Myeloma\",\"Multiple Myeloma\",\"Multiple Myeloma\",\"Leukemia\",\"Lymphoma\",\"Multiple Myeloma\",\"Leukemia\",\"Multiple Myeloma\",\"Multiple Myeloma\",\"Multiple Myeloma\",\"Multiple Myeloma\",\"Multiple Myeloma\",\"Multiple Myeloma\",\"Multiple Myeloma\",\"Multiple Myeloma\",\"Multiple Myeloma\",\"Multiple Myeloma\",\"Multiple Myeloma\",\"Multiple Myeloma\",\"Multiple Myeloma\",\"Leukemia\",\"Multiple Myeloma\",\"Multiple Myeloma\",\"Multiple Myeloma\",\"Multiple Myeloma\",\"Lymphoma\",\"Leukemia\",\"Multiple Myeloma\",\"Multiple Myeloma\",\"Leukemia\",\"Melanoma\",\"Leukemia\",\"Lymphoma\",\"Leukemia\",\"Leukemia\",\"Lymphoma\",\"Leukemia\",\"Leukemia\",\"Lymphoma\",\"Leukemia\",\"Lymphoma\",\"Lymphoma\",\"Lymphoma\",\"Leukemia\",\"Lymphoma\",\"Leukemia\",\"Leukemia\",\"Lymphoma\",\"Lymphoma\",\"Leukemia\",\"Lymphoma\",\"Leukemia\",\"Leukemia\",\"Leukemia\",\"Lymphoma\",\"Leukemia\",\"Lymphoma\",\"Leukemia\",\"Leukemia\",\"Leukemia\",\"Leukemia\",\"Lymphoma\",\"Leukemia\",\"Lymphoma\",\"Leukemia\",\"Leukemia\",\"Leukemia\",\"Lymphoma\",\"Leukemia\",\"Leukemia\",\"Leukemia\",\"Lymphoma\",\"Leukemia\",\"Leukemia\",\"Leukemia\",\"Lymphoma\",\"Lymphoma\",\"Lymphoma\",\"Leukemia\",\"Lymphoma\",\"Leukemia\",\"Lymphoma\",\"Lymphoma\",\"Leukemia\",\"Leukemia\",\"Lymphoma\",\"Lymphoma\",\"Lymphoma\",\"Leukemia\",\"Leukemia\",\"Lymphoma\",\"Leukemia\",\"Lymphoma\",\"Leukemia\",\"Leukemia\",\"Leukemia\",\"Leukemia\",\"Lymphoma\",\"Lymphoma\",\"Leukemia\",\"Lymphoma\",\"Lymphoma\",\"Leukemia\",\"Leukemia\",\"Leukemia\",\"Lymphoma\",\"Lymphoma\",\"Leukemia\",\"Lymphoma\",\"Leukemia\",\"Lymphoma\",\"Leukemia\",\"Leukemia\",\"Leukemia\",\"Leukemia\",\"Leukemia\",\"Lymphoma\",\"Leukemia\",\"Leukemia\",\"Leukemia\",\"Leukemia\",\"Lymphoma\",\"Lymphoma\",\"Leukemia\",\"Lymphoma\",\"Lymphoma\",\"Leukemia\",\"Leukemia\",\"Leukemia\",\"Leukemia\",\"Leukemia\",\"Leukemia\",\"Lymphoma\",\"Leukemia\",\"Leukemia\",\"Leukemia\",\"Lymphoma\",\"Lymphoma\",\"Leukemia\",\"Leukemia\",\"Leukemia\",\"Lymphoma\",\"Lymphoma\",\"Leukemia\",\"Leukemia\",\"Lymphoma\",\"Leukemia\",\"Lymphoma\",\"Leukemia\",\"Lymphoma\",\"Leukemia\",\"Leukemia\",\"Leukemia\",\"Leukemia\",\"Leukemia\",\"Leukemia\",\"Leukemia\",\"Leukemia\",\"Leukemia\",\"Lymphoma\",\"Leukemia\",\"Leukemia\",\"Leukemia\",\"Leukemia\",\"Leukemia\"],\"xaxis\":\"x\",\"yaxis\":\"y\",\"type\":\"histogram\"},{\"alignmentgroup\":\"True\",\"bingroup\":\"x\",\"hovertemplate\":\"Age Groups=Child\\u003cbr\\u003eConditions=%{x}\\u003cbr\\u003ecount=%{y}\\u003cextra\\u003e\\u003c\\u002fextra\\u003e\",\"legendgroup\":\"Child\",\"marker\":{\"color\":\"orange\",\"pattern\":{\"shape\":\"\"}},\"name\":\"Child\",\"offsetgroup\":\"Child\",\"orientation\":\"v\",\"showlegend\":true,\"texttemplate\":\"%{value}\",\"x\":[\"Breast Cancer\",\"Breast Cancer\",\"Colorectal Cancer\",\"Lymphoma\",\"Breast Cancer\",\"Prostate Cancer\",\"Breast Cancer\",\"Colorectal Cancer\",\"Lung Cancer\",\"Melanoma\",\"Pancreatic Cancer\",\"Prostate Cancer\",\"Cancer\",\"Colorectal Cancer\",\"Leukemia\",\"Prostate Cancer\",\"Breast Cancer\",\"Cancer\",\"Cancer\",\"Lymphoma\",\"Leukemia\",\"Lymphoma\",\"Breast Cancer\",\"Leukemia\",\"Lymphoma\",\"Pancreatic Cancer\",\"Lymphoma\",\"Prostate Cancer\",\"Prostate Cancer\",\"Cancer\",\"Prostate Cancer\",\"Prostate Cancer\",\"Pancreatic Cancer\",\"Prostate Cancer\",\"Lymphoma\",\"Cancer\",\"Breast Cancer\",\"Breast Cancer\",\"Melanoma\",\"Lymphoma\",\"Pancreatic Cancer\",\"Cancer\",\"Cancer\",\"Colorectal Cancer\",\"Lymphoma\",\"Breast Cancer\",\"Leukemia\",\"Lymphoma\",\"Cancer\",\"Melanoma\",\"Breast Cancer\",\"Pancreatic Cancer\",\"Melanoma\",\"Prostate Cancer\",\"Prostate Cancer\",\"Breast Cancer\",\"Colorectal Cancer\",\"Prostate Cancer\",\"Lymphoma\",\"Melanoma\",\"Leukemia\",\"Prostate Cancer\",\"Breast Cancer\",\"Breast Cancer\",\"Breast Cancer\",\"Prostate Cancer\",\"Breast Cancer\",\"Leukemia\",\"Lung Cancer\",\"Multiple Myeloma\",\"Pancreatic Cancer\",\"Prostate Cancer\",\"Cancer\",\"Lymphoma\",\"Cancer\",\"Prostate Cancer\",\"Prostate Cancer\",\"Breast Cancer\",\"Prostate Cancer\",\"Lymphoma\",\"Leukemia\",\"Lymphoma\",\"Lung Cancer\",\"Lymphoma\",\"Melanoma\",\"Breast Cancer\",\"Multiple Myeloma\",\"Cancer\",\"Cancer\",\"Cancer\",\"Cancer\",\"Breast Cancer\",\"Prostate Cancer\",\"Prostate Cancer\",\"Prostate Cancer\",\"Prostate Cancer\",\"Prostate Cancer\",\"Leukemia\",\"Lymphoma\",\"Melanoma\",\"Leukemia\",\"Lymphoma\",\"Cancer\",\"Cancer\",\"Melanoma\",\"Breast Cancer\",\"Prostate Cancer\",\"Cancer\",\"Cancer\",\"Cancer\",\"Cancer\",\"Prostate Cancer\",\"Cancer\",\"Cancer\",\"Cancer\",\"Cancer\",\"Lymphoma\",\"Cancer\",\"Cancer\",\"Lymphoma\",\"Lung Cancer\",\"Cancer\",\"Lung Cancer\",\"Cancer\",\"Leukemia\",\"Lymphoma\",\"Cancer\",\"Lymphoma\",\"Lymphoma\",\"Cancer\",\"Cancer\",\"Breast Cancer\",\"Multiple Myeloma\",\"Cancer\",\"Breast Cancer\",\"Multiple Myeloma\",\"Multiple Myeloma\",\"Cancer\",\"Multiple Myeloma\",\"Breast Cancer\",\"Cancer\",\"Cancer\",\"Cancer\",\"Leukemia\",\"Cancer\",\"Leukemia\",\"Lymphoma\",\"Colorectal Cancer\",\"Melanoma\",\"Melanoma\",\"Melanoma\",\"Leukemia\",\"Lymphoma\",\"Leukemia\",\"Leukemia\",\"Lymphoma\",\"Leukemia\",\"Leukemia\",\"Lymphoma\",\"Melanoma\",\"Multiple Myeloma\",\"Lymphoma\",\"Lymphoma\",\"Multiple Myeloma\",\"Leukemia\",\"Lymphoma\",\"Leukemia\",\"Lymphoma\",\"Leukemia\",\"Leukemia\",\"Lymphoma\",\"Cancer\",\"Cancer\",\"Cancer\",\"Cancer\",\"Cancer\",\"Cancer\",\"Cancer\",\"Cancer\",\"Cancer\",\"Cancer\",\"Cancer\",\"Cancer\",\"Cancer\",\"Cancer\",\"Lymphoma\",\"Leukemia\",\"Leukemia\",\"Lymphoma\",\"Leukemia\",\"Leukemia\",\"Lymphoma\",\"Lung Cancer\",\"Breast Cancer\",\"Breast Cancer\",\"Breast Cancer\",\"Prostate Cancer\",\"Prostate Cancer\",\"Leukemia\",\"Lymphoma\",\"Leukemia\",\"Leukemia\",\"Lymphoma\",\"Multiple Myeloma\",\"Leukemia\",\"Multiple Myeloma\",\"Leukemia\",\"Leukemia\",\"Multiple Myeloma\",\"Multiple Myeloma\",\"Leukemia\",\"Multiple Myeloma\",\"Leukemia\",\"Lymphoma\",\"Leukemia\",\"Lymphoma\",\"Leukemia\",\"Leukemia\",\"Leukemia\",\"Lymphoma\",\"Melanoma\",\"Leukemia\",\"Lymphoma\",\"Lymphoma\",\"Leukemia\",\"Leukemia\",\"Lymphoma\",\"Lymphoma\",\"Melanoma\",\"Melanoma\",\"Melanoma\",\"Melanoma\",\"Melanoma\",\"Melanoma\",\"Melanoma\",\"Melanoma\",\"Multiple Myeloma\",\"Leukemia\",\"Lymphoma\",\"Multiple Myeloma\",\"Leukemia\",\"Leukemia\",\"Multiple Myeloma\",\"Leukemia\",\"Leukemia\",\"Leukemia\",\"Leukemia\",\"Lymphoma\",\"Leukemia\",\"Leukemia\",\"Leukemia\",\"Lymphoma\",\"Lymphoma\",\"Lymphoma\",\"Leukemia\",\"Leukemia\",\"Leukemia\",\"Leukemia\",\"Leukemia\",\"Lymphoma\",\"Leukemia\",\"Leukemia\",\"Leukemia\",\"Leukemia\",\"Leukemia\",\"Lymphoma\",\"Leukemia\",\"Leukemia\",\"Leukemia\",\"Leukemia\",\"Lymphoma\",\"Leukemia\",\"Lymphoma\",\"Leukemia\",\"Lymphoma\",\"Leukemia\",\"Lymphoma\"],\"xaxis\":\"x\",\"yaxis\":\"y\",\"type\":\"histogram\"}],                        {\"template\":{\"data\":{\"histogram2dcontour\":[{\"type\":\"histogram2dcontour\",\"colorbar\":{\"outlinewidth\":0,\"ticks\":\"\"},\"colorscale\":[[0.0,\"#0d0887\"],[0.1111111111111111,\"#46039f\"],[0.2222222222222222,\"#7201a8\"],[0.3333333333333333,\"#9c179e\"],[0.4444444444444444,\"#bd3786\"],[0.5555555555555556,\"#d8576b\"],[0.6666666666666666,\"#ed7953\"],[0.7777777777777778,\"#fb9f3a\"],[0.8888888888888888,\"#fdca26\"],[1.0,\"#f0f921\"]]}],\"choropleth\":[{\"type\":\"choropleth\",\"colorbar\":{\"outlinewidth\":0,\"ticks\":\"\"}}],\"histogram2d\":[{\"type\":\"histogram2d\",\"colorbar\":{\"outlinewidth\":0,\"ticks\":\"\"},\"colorscale\":[[0.0,\"#0d0887\"],[0.1111111111111111,\"#46039f\"],[0.2222222222222222,\"#7201a8\"],[0.3333333333333333,\"#9c179e\"],[0.4444444444444444,\"#bd3786\"],[0.5555555555555556,\"#d8576b\"],[0.6666666666666666,\"#ed7953\"],[0.7777777777777778,\"#fb9f3a\"],[0.8888888888888888,\"#fdca26\"],[1.0,\"#f0f921\"]]}],\"heatmap\":[{\"type\":\"heatmap\",\"colorbar\":{\"outlinewidth\":0,\"ticks\":\"\"},\"colorscale\":[[0.0,\"#0d0887\"],[0.1111111111111111,\"#46039f\"],[0.2222222222222222,\"#7201a8\"],[0.3333333333333333,\"#9c179e\"],[0.4444444444444444,\"#bd3786\"],[0.5555555555555556,\"#d8576b\"],[0.6666666666666666,\"#ed7953\"],[0.7777777777777778,\"#fb9f3a\"],[0.8888888888888888,\"#fdca26\"],[1.0,\"#f0f921\"]]}],\"heatmapgl\":[{\"type\":\"heatmapgl\",\"colorbar\":{\"outlinewidth\":0,\"ticks\":\"\"},\"colorscale\":[[0.0,\"#0d0887\"],[0.1111111111111111,\"#46039f\"],[0.2222222222222222,\"#7201a8\"],[0.3333333333333333,\"#9c179e\"],[0.4444444444444444,\"#bd3786\"],[0.5555555555555556,\"#d8576b\"],[0.6666666666666666,\"#ed7953\"],[0.7777777777777778,\"#fb9f3a\"],[0.8888888888888888,\"#fdca26\"],[1.0,\"#f0f921\"]]}],\"contourcarpet\":[{\"type\":\"contourcarpet\",\"colorbar\":{\"outlinewidth\":0,\"ticks\":\"\"}}],\"contour\":[{\"type\":\"contour\",\"colorbar\":{\"outlinewidth\":0,\"ticks\":\"\"},\"colorscale\":[[0.0,\"#0d0887\"],[0.1111111111111111,\"#46039f\"],[0.2222222222222222,\"#7201a8\"],[0.3333333333333333,\"#9c179e\"],[0.4444444444444444,\"#bd3786\"],[0.5555555555555556,\"#d8576b\"],[0.6666666666666666,\"#ed7953\"],[0.7777777777777778,\"#fb9f3a\"],[0.8888888888888888,\"#fdca26\"],[1.0,\"#f0f921\"]]}],\"surface\":[{\"type\":\"surface\",\"colorbar\":{\"outlinewidth\":0,\"ticks\":\"\"},\"colorscale\":[[0.0,\"#0d0887\"],[0.1111111111111111,\"#46039f\"],[0.2222222222222222,\"#7201a8\"],[0.3333333333333333,\"#9c179e\"],[0.4444444444444444,\"#bd3786\"],[0.5555555555555556,\"#d8576b\"],[0.6666666666666666,\"#ed7953\"],[0.7777777777777778,\"#fb9f3a\"],[0.8888888888888888,\"#fdca26\"],[1.0,\"#f0f921\"]]}],\"mesh3d\":[{\"type\":\"mesh3d\",\"colorbar\":{\"outlinewidth\":0,\"ticks\":\"\"}}],\"scatter\":[{\"fillpattern\":{\"fillmode\":\"overlay\",\"size\":10,\"solidity\":0.2},\"type\":\"scatter\"}],\"parcoords\":[{\"type\":\"parcoords\",\"line\":{\"colorbar\":{\"outlinewidth\":0,\"ticks\":\"\"}}}],\"scatterpolargl\":[{\"type\":\"scatterpolargl\",\"marker\":{\"colorbar\":{\"outlinewidth\":0,\"ticks\":\"\"}}}],\"bar\":[{\"error_x\":{\"color\":\"#2a3f5f\"},\"error_y\":{\"color\":\"#2a3f5f\"},\"marker\":{\"line\":{\"color\":\"#E5ECF6\",\"width\":0.5},\"pattern\":{\"fillmode\":\"overlay\",\"size\":10,\"solidity\":0.2}},\"type\":\"bar\"}],\"scattergeo\":[{\"type\":\"scattergeo\",\"marker\":{\"colorbar\":{\"outlinewidth\":0,\"ticks\":\"\"}}}],\"scatterpolar\":[{\"type\":\"scatterpolar\",\"marker\":{\"colorbar\":{\"outlinewidth\":0,\"ticks\":\"\"}}}],\"histogram\":[{\"marker\":{\"pattern\":{\"fillmode\":\"overlay\",\"size\":10,\"solidity\":0.2}},\"type\":\"histogram\"}],\"scattergl\":[{\"type\":\"scattergl\",\"marker\":{\"colorbar\":{\"outlinewidth\":0,\"ticks\":\"\"}}}],\"scatter3d\":[{\"type\":\"scatter3d\",\"line\":{\"colorbar\":{\"outlinewidth\":0,\"ticks\":\"\"}},\"marker\":{\"colorbar\":{\"outlinewidth\":0,\"ticks\":\"\"}}}],\"scattermapbox\":[{\"type\":\"scattermapbox\",\"marker\":{\"colorbar\":{\"outlinewidth\":0,\"ticks\":\"\"}}}],\"scatterternary\":[{\"type\":\"scatterternary\",\"marker\":{\"colorbar\":{\"outlinewidth\":0,\"ticks\":\"\"}}}],\"scattercarpet\":[{\"type\":\"scattercarpet\",\"marker\":{\"colorbar\":{\"outlinewidth\":0,\"ticks\":\"\"}}}],\"carpet\":[{\"aaxis\":{\"endlinecolor\":\"#2a3f5f\",\"gridcolor\":\"white\",\"linecolor\":\"white\",\"minorgridcolor\":\"white\",\"startlinecolor\":\"#2a3f5f\"},\"baxis\":{\"endlinecolor\":\"#2a3f5f\",\"gridcolor\":\"white\",\"linecolor\":\"white\",\"minorgridcolor\":\"white\",\"startlinecolor\":\"#2a3f5f\"},\"type\":\"carpet\"}],\"table\":[{\"cells\":{\"fill\":{\"color\":\"#EBF0F8\"},\"line\":{\"color\":\"white\"}},\"header\":{\"fill\":{\"color\":\"#C8D4E3\"},\"line\":{\"color\":\"white\"}},\"type\":\"table\"}],\"barpolar\":[{\"marker\":{\"line\":{\"color\":\"#E5ECF6\",\"width\":0.5},\"pattern\":{\"fillmode\":\"overlay\",\"size\":10,\"solidity\":0.2}},\"type\":\"barpolar\"}],\"pie\":[{\"automargin\":true,\"type\":\"pie\"}]},\"layout\":{\"autotypenumbers\":\"strict\",\"colorway\":[\"#636efa\",\"#EF553B\",\"#00cc96\",\"#ab63fa\",\"#FFA15A\",\"#19d3f3\",\"#FF6692\",\"#B6E880\",\"#FF97FF\",\"#FECB52\"],\"font\":{\"color\":\"#2a3f5f\"},\"hovermode\":\"closest\",\"hoverlabel\":{\"align\":\"left\"},\"paper_bgcolor\":\"white\",\"plot_bgcolor\":\"#E5ECF6\",\"polar\":{\"bgcolor\":\"#E5ECF6\",\"angularaxis\":{\"gridcolor\":\"white\",\"linecolor\":\"white\",\"ticks\":\"\"},\"radialaxis\":{\"gridcolor\":\"white\",\"linecolor\":\"white\",\"ticks\":\"\"}},\"ternary\":{\"bgcolor\":\"#E5ECF6\",\"aaxis\":{\"gridcolor\":\"white\",\"linecolor\":\"white\",\"ticks\":\"\"},\"baxis\":{\"gridcolor\":\"white\",\"linecolor\":\"white\",\"ticks\":\"\"},\"caxis\":{\"gridcolor\":\"white\",\"linecolor\":\"white\",\"ticks\":\"\"}},\"coloraxis\":{\"colorbar\":{\"outlinewidth\":0,\"ticks\":\"\"}},\"colorscale\":{\"sequential\":[[0.0,\"#0d0887\"],[0.1111111111111111,\"#46039f\"],[0.2222222222222222,\"#7201a8\"],[0.3333333333333333,\"#9c179e\"],[0.4444444444444444,\"#bd3786\"],[0.5555555555555556,\"#d8576b\"],[0.6666666666666666,\"#ed7953\"],[0.7777777777777778,\"#fb9f3a\"],[0.8888888888888888,\"#fdca26\"],[1.0,\"#f0f921\"]],\"sequentialminus\":[[0.0,\"#0d0887\"],[0.1111111111111111,\"#46039f\"],[0.2222222222222222,\"#7201a8\"],[0.3333333333333333,\"#9c179e\"],[0.4444444444444444,\"#bd3786\"],[0.5555555555555556,\"#d8576b\"],[0.6666666666666666,\"#ed7953\"],[0.7777777777777778,\"#fb9f3a\"],[0.8888888888888888,\"#fdca26\"],[1.0,\"#f0f921\"]],\"diverging\":[[0,\"#8e0152\"],[0.1,\"#c51b7d\"],[0.2,\"#de77ae\"],[0.3,\"#f1b6da\"],[0.4,\"#fde0ef\"],[0.5,\"#f7f7f7\"],[0.6,\"#e6f5d0\"],[0.7,\"#b8e186\"],[0.8,\"#7fbc41\"],[0.9,\"#4d9221\"],[1,\"#276419\"]]},\"xaxis\":{\"gridcolor\":\"white\",\"linecolor\":\"white\",\"ticks\":\"\",\"title\":{\"standoff\":15},\"zerolinecolor\":\"white\",\"automargin\":true,\"zerolinewidth\":2},\"yaxis\":{\"gridcolor\":\"white\",\"linecolor\":\"white\",\"ticks\":\"\",\"title\":{\"standoff\":15},\"zerolinecolor\":\"white\",\"automargin\":true,\"zerolinewidth\":2},\"scene\":{\"xaxis\":{\"backgroundcolor\":\"#E5ECF6\",\"gridcolor\":\"white\",\"linecolor\":\"white\",\"showbackground\":true,\"ticks\":\"\",\"zerolinecolor\":\"white\",\"gridwidth\":2},\"yaxis\":{\"backgroundcolor\":\"#E5ECF6\",\"gridcolor\":\"white\",\"linecolor\":\"white\",\"showbackground\":true,\"ticks\":\"\",\"zerolinecolor\":\"white\",\"gridwidth\":2},\"zaxis\":{\"backgroundcolor\":\"#E5ECF6\",\"gridcolor\":\"white\",\"linecolor\":\"white\",\"showbackground\":true,\"ticks\":\"\",\"zerolinecolor\":\"white\",\"gridwidth\":2}},\"shapedefaults\":{\"line\":{\"color\":\"#2a3f5f\"}},\"annotationdefaults\":{\"arrowcolor\":\"#2a3f5f\",\"arrowhead\":0,\"arrowwidth\":1},\"geo\":{\"bgcolor\":\"white\",\"landcolor\":\"#E5ECF6\",\"subunitcolor\":\"white\",\"showland\":true,\"showlakes\":true,\"lakecolor\":\"white\"},\"title\":{\"x\":0.05},\"mapbox\":{\"style\":\"light\"}}},\"xaxis\":{\"anchor\":\"y\",\"domain\":[0.0,1.0],\"title\":{\"text\":\"Conditions\"},\"categoryorder\":\"array\",\"categoryarray\":[\"Breast Cancer\",\"Prostate Cancer\",\"Cancer\",\"Multiple Myeloma\",\"Melanoma\",\"Lung Cancer\",\"Lymphoma\",\"Pancreatic Cancer\",\"Colorectal Cancer\",\"Leukemia\"]},\"yaxis\":{\"anchor\":\"x\",\"domain\":[0.0,1.0],\"title\":{\"text\":\"count\"}},\"legend\":{\"title\":{\"text\":\"Age Groups\"},\"tracegroupgap\":0},\"title\":{\"text\":\"Age Distribution in Top 10 Most Frequently Studied Cancer Conditions from 2010 to 2016\"},\"barmode\":\"group\"},                        {\"responsive\": true}                    ).then(function(){\n",
              "                            \n",
              "var gd = document.getElementById('5a187f90-eeb2-4a83-8e7e-66388f5a05ef');\n",
              "var x = new MutationObserver(function (mutations, observer) {{\n",
              "        var display = window.getComputedStyle(gd).display;\n",
              "        if (!display || display === 'none') {{\n",
              "            console.log([gd, 'removed!']);\n",
              "            Plotly.purge(gd);\n",
              "            observer.disconnect();\n",
              "        }}\n",
              "}});\n",
              "\n",
              "// Listen for the removal of the full notebook cells\n",
              "var notebookContainer = gd.closest('#notebook-container');\n",
              "if (notebookContainer) {{\n",
              "    x.observe(notebookContainer, {childList: true});\n",
              "}}\n",
              "\n",
              "// Listen for the clearing of the current output cell\n",
              "var outputEl = gd.closest('.output');\n",
              "if (outputEl) {{\n",
              "    x.observe(outputEl, {childList: true});\n",
              "}}\n",
              "\n",
              "                        })                };                            </script>        </div>\n",
              "</body>\n",
              "</html>"
            ]
          },
          "metadata": {}
        }
      ]
    },
    {
      "cell_type": "markdown",
      "source": [
        "  ### Gender Equality in Cancer Trials\n",
        "We are also interested to see **gender distribution across clinical trials for top 10 cancer conditions**.\n"
      ],
      "metadata": {
        "id": "Fj4s9fubw3qp"
      }
    },
    {
      "cell_type": "markdown",
      "source": [
        "####Implementation"
      ],
      "metadata": {
        "id": "x-ZUT_WCtiXw"
      }
    },
    {
      "cell_type": "code",
      "source": [
        "# Initialize a dictionary to store counts\n",
        "gender_counts = {'Female': 0, 'Male': 0, 'Both': 0}\n",
        "\n",
        "# Loop through the Gender column and count occurrences\n",
        "for gender in df['Gender']:\n",
        "    if gender in gender_counts:\n",
        "        gender_counts[gender] += 1\n",
        "\n",
        "# Display counts\n",
        "print(gender_counts)\n",
        "\n",
        "# Convert the dictionary to a DataFrame for plotting\n",
        "gender_data = pd.DataFrame({\n",
        "    'Gender': list(gender_counts.keys()),\n",
        "    'Count': list(gender_counts.values())\n",
        "})\n",
        "\n",
        "# Create the pie chart\n",
        "fig = px.pie(gender_data, names='Gender', values='Count',\n",
        "             title=\"Gender Distribution in U.S. Clinical Trials from 2010 to 2016\")\n",
        "\n",
        "# Show the plot\n",
        "fig.show()"
      ],
      "metadata": {
        "colab": {
          "base_uri": "https://localhost:8080/",
          "height": 559
        },
        "id": "heLuCIUv5qdN",
        "outputId": "1d29602f-1878-4db3-f5f9-ce48b3efa5bb"
      },
      "execution_count": 28,
      "outputs": [
        {
          "output_type": "stream",
          "name": "stdout",
          "text": [
            "{'Female': 1529, 'Male': 730, 'Both': 8426}\n"
          ]
        },
        {
          "output_type": "display_data",
          "data": {
            "text/html": [
              "<html>\n",
              "<head><meta charset=\"utf-8\" /></head>\n",
              "<body>\n",
              "    <div>            <script src=\"https://cdnjs.cloudflare.com/ajax/libs/mathjax/2.7.5/MathJax.js?config=TeX-AMS-MML_SVG\"></script><script type=\"text/javascript\">if (window.MathJax && window.MathJax.Hub && window.MathJax.Hub.Config) {window.MathJax.Hub.Config({SVG: {font: \"STIX-Web\"}});}</script>                <script type=\"text/javascript\">window.PlotlyConfig = {MathJaxConfig: 'local'};</script>\n",
              "        <script charset=\"utf-8\" src=\"https://cdn.plot.ly/plotly-2.35.2.min.js\"></script>                <div id=\"5baa5768-d4f1-4694-8cfc-9278ce6a45e3\" class=\"plotly-graph-div\" style=\"height:525px; width:100%;\"></div>            <script type=\"text/javascript\">                                    window.PLOTLYENV=window.PLOTLYENV || {};                                    if (document.getElementById(\"5baa5768-d4f1-4694-8cfc-9278ce6a45e3\")) {                    Plotly.newPlot(                        \"5baa5768-d4f1-4694-8cfc-9278ce6a45e3\",                        [{\"domain\":{\"x\":[0.0,1.0],\"y\":[0.0,1.0]},\"hovertemplate\":\"Gender=%{label}\\u003cbr\\u003eCount=%{value}\\u003cextra\\u003e\\u003c\\u002fextra\\u003e\",\"labels\":[\"Female\",\"Male\",\"Both\"],\"legendgroup\":\"\",\"name\":\"\",\"showlegend\":true,\"values\":[1529,730,8426],\"type\":\"pie\"}],                        {\"template\":{\"data\":{\"histogram2dcontour\":[{\"type\":\"histogram2dcontour\",\"colorbar\":{\"outlinewidth\":0,\"ticks\":\"\"},\"colorscale\":[[0.0,\"#0d0887\"],[0.1111111111111111,\"#46039f\"],[0.2222222222222222,\"#7201a8\"],[0.3333333333333333,\"#9c179e\"],[0.4444444444444444,\"#bd3786\"],[0.5555555555555556,\"#d8576b\"],[0.6666666666666666,\"#ed7953\"],[0.7777777777777778,\"#fb9f3a\"],[0.8888888888888888,\"#fdca26\"],[1.0,\"#f0f921\"]]}],\"choropleth\":[{\"type\":\"choropleth\",\"colorbar\":{\"outlinewidth\":0,\"ticks\":\"\"}}],\"histogram2d\":[{\"type\":\"histogram2d\",\"colorbar\":{\"outlinewidth\":0,\"ticks\":\"\"},\"colorscale\":[[0.0,\"#0d0887\"],[0.1111111111111111,\"#46039f\"],[0.2222222222222222,\"#7201a8\"],[0.3333333333333333,\"#9c179e\"],[0.4444444444444444,\"#bd3786\"],[0.5555555555555556,\"#d8576b\"],[0.6666666666666666,\"#ed7953\"],[0.7777777777777778,\"#fb9f3a\"],[0.8888888888888888,\"#fdca26\"],[1.0,\"#f0f921\"]]}],\"heatmap\":[{\"type\":\"heatmap\",\"colorbar\":{\"outlinewidth\":0,\"ticks\":\"\"},\"colorscale\":[[0.0,\"#0d0887\"],[0.1111111111111111,\"#46039f\"],[0.2222222222222222,\"#7201a8\"],[0.3333333333333333,\"#9c179e\"],[0.4444444444444444,\"#bd3786\"],[0.5555555555555556,\"#d8576b\"],[0.6666666666666666,\"#ed7953\"],[0.7777777777777778,\"#fb9f3a\"],[0.8888888888888888,\"#fdca26\"],[1.0,\"#f0f921\"]]}],\"heatmapgl\":[{\"type\":\"heatmapgl\",\"colorbar\":{\"outlinewidth\":0,\"ticks\":\"\"},\"colorscale\":[[0.0,\"#0d0887\"],[0.1111111111111111,\"#46039f\"],[0.2222222222222222,\"#7201a8\"],[0.3333333333333333,\"#9c179e\"],[0.4444444444444444,\"#bd3786\"],[0.5555555555555556,\"#d8576b\"],[0.6666666666666666,\"#ed7953\"],[0.7777777777777778,\"#fb9f3a\"],[0.8888888888888888,\"#fdca26\"],[1.0,\"#f0f921\"]]}],\"contourcarpet\":[{\"type\":\"contourcarpet\",\"colorbar\":{\"outlinewidth\":0,\"ticks\":\"\"}}],\"contour\":[{\"type\":\"contour\",\"colorbar\":{\"outlinewidth\":0,\"ticks\":\"\"},\"colorscale\":[[0.0,\"#0d0887\"],[0.1111111111111111,\"#46039f\"],[0.2222222222222222,\"#7201a8\"],[0.3333333333333333,\"#9c179e\"],[0.4444444444444444,\"#bd3786\"],[0.5555555555555556,\"#d8576b\"],[0.6666666666666666,\"#ed7953\"],[0.7777777777777778,\"#fb9f3a\"],[0.8888888888888888,\"#fdca26\"],[1.0,\"#f0f921\"]]}],\"surface\":[{\"type\":\"surface\",\"colorbar\":{\"outlinewidth\":0,\"ticks\":\"\"},\"colorscale\":[[0.0,\"#0d0887\"],[0.1111111111111111,\"#46039f\"],[0.2222222222222222,\"#7201a8\"],[0.3333333333333333,\"#9c179e\"],[0.4444444444444444,\"#bd3786\"],[0.5555555555555556,\"#d8576b\"],[0.6666666666666666,\"#ed7953\"],[0.7777777777777778,\"#fb9f3a\"],[0.8888888888888888,\"#fdca26\"],[1.0,\"#f0f921\"]]}],\"mesh3d\":[{\"type\":\"mesh3d\",\"colorbar\":{\"outlinewidth\":0,\"ticks\":\"\"}}],\"scatter\":[{\"fillpattern\":{\"fillmode\":\"overlay\",\"size\":10,\"solidity\":0.2},\"type\":\"scatter\"}],\"parcoords\":[{\"type\":\"parcoords\",\"line\":{\"colorbar\":{\"outlinewidth\":0,\"ticks\":\"\"}}}],\"scatterpolargl\":[{\"type\":\"scatterpolargl\",\"marker\":{\"colorbar\":{\"outlinewidth\":0,\"ticks\":\"\"}}}],\"bar\":[{\"error_x\":{\"color\":\"#2a3f5f\"},\"error_y\":{\"color\":\"#2a3f5f\"},\"marker\":{\"line\":{\"color\":\"#E5ECF6\",\"width\":0.5},\"pattern\":{\"fillmode\":\"overlay\",\"size\":10,\"solidity\":0.2}},\"type\":\"bar\"}],\"scattergeo\":[{\"type\":\"scattergeo\",\"marker\":{\"colorbar\":{\"outlinewidth\":0,\"ticks\":\"\"}}}],\"scatterpolar\":[{\"type\":\"scatterpolar\",\"marker\":{\"colorbar\":{\"outlinewidth\":0,\"ticks\":\"\"}}}],\"histogram\":[{\"marker\":{\"pattern\":{\"fillmode\":\"overlay\",\"size\":10,\"solidity\":0.2}},\"type\":\"histogram\"}],\"scattergl\":[{\"type\":\"scattergl\",\"marker\":{\"colorbar\":{\"outlinewidth\":0,\"ticks\":\"\"}}}],\"scatter3d\":[{\"type\":\"scatter3d\",\"line\":{\"colorbar\":{\"outlinewidth\":0,\"ticks\":\"\"}},\"marker\":{\"colorbar\":{\"outlinewidth\":0,\"ticks\":\"\"}}}],\"scattermapbox\":[{\"type\":\"scattermapbox\",\"marker\":{\"colorbar\":{\"outlinewidth\":0,\"ticks\":\"\"}}}],\"scatterternary\":[{\"type\":\"scatterternary\",\"marker\":{\"colorbar\":{\"outlinewidth\":0,\"ticks\":\"\"}}}],\"scattercarpet\":[{\"type\":\"scattercarpet\",\"marker\":{\"colorbar\":{\"outlinewidth\":0,\"ticks\":\"\"}}}],\"carpet\":[{\"aaxis\":{\"endlinecolor\":\"#2a3f5f\",\"gridcolor\":\"white\",\"linecolor\":\"white\",\"minorgridcolor\":\"white\",\"startlinecolor\":\"#2a3f5f\"},\"baxis\":{\"endlinecolor\":\"#2a3f5f\",\"gridcolor\":\"white\",\"linecolor\":\"white\",\"minorgridcolor\":\"white\",\"startlinecolor\":\"#2a3f5f\"},\"type\":\"carpet\"}],\"table\":[{\"cells\":{\"fill\":{\"color\":\"#EBF0F8\"},\"line\":{\"color\":\"white\"}},\"header\":{\"fill\":{\"color\":\"#C8D4E3\"},\"line\":{\"color\":\"white\"}},\"type\":\"table\"}],\"barpolar\":[{\"marker\":{\"line\":{\"color\":\"#E5ECF6\",\"width\":0.5},\"pattern\":{\"fillmode\":\"overlay\",\"size\":10,\"solidity\":0.2}},\"type\":\"barpolar\"}],\"pie\":[{\"automargin\":true,\"type\":\"pie\"}]},\"layout\":{\"autotypenumbers\":\"strict\",\"colorway\":[\"#636efa\",\"#EF553B\",\"#00cc96\",\"#ab63fa\",\"#FFA15A\",\"#19d3f3\",\"#FF6692\",\"#B6E880\",\"#FF97FF\",\"#FECB52\"],\"font\":{\"color\":\"#2a3f5f\"},\"hovermode\":\"closest\",\"hoverlabel\":{\"align\":\"left\"},\"paper_bgcolor\":\"white\",\"plot_bgcolor\":\"#E5ECF6\",\"polar\":{\"bgcolor\":\"#E5ECF6\",\"angularaxis\":{\"gridcolor\":\"white\",\"linecolor\":\"white\",\"ticks\":\"\"},\"radialaxis\":{\"gridcolor\":\"white\",\"linecolor\":\"white\",\"ticks\":\"\"}},\"ternary\":{\"bgcolor\":\"#E5ECF6\",\"aaxis\":{\"gridcolor\":\"white\",\"linecolor\":\"white\",\"ticks\":\"\"},\"baxis\":{\"gridcolor\":\"white\",\"linecolor\":\"white\",\"ticks\":\"\"},\"caxis\":{\"gridcolor\":\"white\",\"linecolor\":\"white\",\"ticks\":\"\"}},\"coloraxis\":{\"colorbar\":{\"outlinewidth\":0,\"ticks\":\"\"}},\"colorscale\":{\"sequential\":[[0.0,\"#0d0887\"],[0.1111111111111111,\"#46039f\"],[0.2222222222222222,\"#7201a8\"],[0.3333333333333333,\"#9c179e\"],[0.4444444444444444,\"#bd3786\"],[0.5555555555555556,\"#d8576b\"],[0.6666666666666666,\"#ed7953\"],[0.7777777777777778,\"#fb9f3a\"],[0.8888888888888888,\"#fdca26\"],[1.0,\"#f0f921\"]],\"sequentialminus\":[[0.0,\"#0d0887\"],[0.1111111111111111,\"#46039f\"],[0.2222222222222222,\"#7201a8\"],[0.3333333333333333,\"#9c179e\"],[0.4444444444444444,\"#bd3786\"],[0.5555555555555556,\"#d8576b\"],[0.6666666666666666,\"#ed7953\"],[0.7777777777777778,\"#fb9f3a\"],[0.8888888888888888,\"#fdca26\"],[1.0,\"#f0f921\"]],\"diverging\":[[0,\"#8e0152\"],[0.1,\"#c51b7d\"],[0.2,\"#de77ae\"],[0.3,\"#f1b6da\"],[0.4,\"#fde0ef\"],[0.5,\"#f7f7f7\"],[0.6,\"#e6f5d0\"],[0.7,\"#b8e186\"],[0.8,\"#7fbc41\"],[0.9,\"#4d9221\"],[1,\"#276419\"]]},\"xaxis\":{\"gridcolor\":\"white\",\"linecolor\":\"white\",\"ticks\":\"\",\"title\":{\"standoff\":15},\"zerolinecolor\":\"white\",\"automargin\":true,\"zerolinewidth\":2},\"yaxis\":{\"gridcolor\":\"white\",\"linecolor\":\"white\",\"ticks\":\"\",\"title\":{\"standoff\":15},\"zerolinecolor\":\"white\",\"automargin\":true,\"zerolinewidth\":2},\"scene\":{\"xaxis\":{\"backgroundcolor\":\"#E5ECF6\",\"gridcolor\":\"white\",\"linecolor\":\"white\",\"showbackground\":true,\"ticks\":\"\",\"zerolinecolor\":\"white\",\"gridwidth\":2},\"yaxis\":{\"backgroundcolor\":\"#E5ECF6\",\"gridcolor\":\"white\",\"linecolor\":\"white\",\"showbackground\":true,\"ticks\":\"\",\"zerolinecolor\":\"white\",\"gridwidth\":2},\"zaxis\":{\"backgroundcolor\":\"#E5ECF6\",\"gridcolor\":\"white\",\"linecolor\":\"white\",\"showbackground\":true,\"ticks\":\"\",\"zerolinecolor\":\"white\",\"gridwidth\":2}},\"shapedefaults\":{\"line\":{\"color\":\"#2a3f5f\"}},\"annotationdefaults\":{\"arrowcolor\":\"#2a3f5f\",\"arrowhead\":0,\"arrowwidth\":1},\"geo\":{\"bgcolor\":\"white\",\"landcolor\":\"#E5ECF6\",\"subunitcolor\":\"white\",\"showland\":true,\"showlakes\":true,\"lakecolor\":\"white\"},\"title\":{\"x\":0.05},\"mapbox\":{\"style\":\"light\"}}},\"legend\":{\"tracegroupgap\":0},\"title\":{\"text\":\"Gender Distribution in U.S. Clinical Trials from 2010 to 2016\"}},                        {\"responsive\": true}                    ).then(function(){\n",
              "                            \n",
              "var gd = document.getElementById('5baa5768-d4f1-4694-8cfc-9278ce6a45e3');\n",
              "var x = new MutationObserver(function (mutations, observer) {{\n",
              "        var display = window.getComputedStyle(gd).display;\n",
              "        if (!display || display === 'none') {{\n",
              "            console.log([gd, 'removed!']);\n",
              "            Plotly.purge(gd);\n",
              "            observer.disconnect();\n",
              "        }}\n",
              "}});\n",
              "\n",
              "// Listen for the removal of the full notebook cells\n",
              "var notebookContainer = gd.closest('#notebook-container');\n",
              "if (notebookContainer) {{\n",
              "    x.observe(notebookContainer, {childList: true});\n",
              "}}\n",
              "\n",
              "// Listen for the clearing of the current output cell\n",
              "var outputEl = gd.closest('.output');\n",
              "if (outputEl) {{\n",
              "    x.observe(outputEl, {childList: true});\n",
              "}}\n",
              "\n",
              "                        })                };                            </script>        </div>\n",
              "</body>\n",
              "</html>"
            ]
          },
          "metadata": {}
        }
      ]
    },
    {
      "cell_type": "markdown",
      "source": [
        "Exploring the data, a pie chart is made based on the raw data in the 'Gender' column. This chart suggests there seems to be more trials with female participants than male participants in all clinical trials. However, this chart can be confusing because the \"Both\" category includes both male and female participants, hiding information for individual gender. Furthermore, it hides information of each conditions by summarizing it in a single percentage."
      ],
      "metadata": {
        "id": "vszCYfO3qZtk"
      }
    },
    {
      "cell_type": "code",
      "source": [
        "# Create a copy\n",
        "separated_gender_df = conditions_exploded.copy()\n",
        "\n",
        "# Filter out trials where 'Gender' is 'Both'\n",
        "both_gender_trials_df = separated_gender_df[separated_gender_df['Gender'] == 'Both'].copy()\n",
        "\n",
        "# Create two copies of the 'Both' trials: one for Male and one for Female\n",
        "female_trials_df = both_gender_trials_df.copy()\n",
        "male_trials_df = both_gender_trials_df.copy()\n",
        "\n",
        "# Modify the 'Gender' column for each respective dataframe\n",
        "female_trials_df['Gender'] = 'Female'\n",
        "male_trials_df['Gender'] = 'Male'\n",
        "\n",
        "# Combine the male, female, and the rest of the dataset that is not 'Both'\n",
        "separated_gender_df = pd.concat([separated_gender_df[separated_gender_df['Gender'] != 'Both'], female_trials_df, male_trials_df], ignore_index=True)\n",
        "\n",
        "# show the new dataset\n",
        "print(separated_gender_df.head())\n",
        "print(separated_gender_df.info())\n",
        "\n",
        "# count the amount of female and male entries in the updated dataframe\n",
        "female_count = separated_gender_df[separated_gender_df['Gender'] == 'Female'].shape[0]\n",
        "male_count = separated_gender_df[separated_gender_df['Gender'] == 'Male'].shape[0]\n",
        "\n",
        "# Output the results\n",
        "print(f\"Number of Female entries: {female_count}\")\n",
        "print(f\"Number of Male entries: {male_count}\")"
      ],
      "metadata": {
        "id": "2D20XGT_w37R",
        "colab": {
          "base_uri": "https://localhost:8080/"
        },
        "outputId": "d443ed5f-f0c9-4fde-b8d3-4132d7b17722"
      },
      "execution_count": 29,
      "outputs": [
        {
          "output_type": "stream",
          "name": "stdout",
          "text": [
            "    NCT Number                 Conditions  Gender    Age Groups\n",
            "0  NCT01891344             Ovarian Cancer  Female  Adult|Senior\n",
            "1  NCT01891344  Epithelial Ovarian Cancer  Female  Adult|Senior\n",
            "2  NCT01891344      Fallopian Tube Cancer  Female  Adult|Senior\n",
            "3  NCT01891344          Peritoneal Cancer  Female  Adult|Senior\n",
            "4  NCT01968213             Ovarian Cancer  Female  Adult|Senior\n",
            "<class 'pandas.core.frame.DataFrame'>\n",
            "RangeIndex: 52492 entries, 0 to 52491\n",
            "Data columns (total 4 columns):\n",
            " #   Column      Non-Null Count  Dtype \n",
            "---  ------      --------------  ----- \n",
            " 0   NCT Number  52492 non-null  object\n",
            " 1   Conditions  52492 non-null  object\n",
            " 2   Gender      52491 non-null  object\n",
            " 3   Age Groups  52492 non-null  object\n",
            "dtypes: object(4)\n",
            "memory usage: 1.6+ MB\n",
            "None\n",
            "Number of Female entries: 27500\n",
            "Number of Male entries: 24991\n"
          ]
        }
      ]
    },
    {
      "cell_type": "code",
      "source": [
        "# Explode by Conditions\n",
        "separated_gender_df['Conditions'] = separated_gender_df['Conditions'].str.split('|')  # Split conditions by '|'\n",
        "exploded_df = separated_gender_df.explode('Conditions')  # Explode into separate rows for each condition\n",
        "\n",
        "# Filter top 10 conditions\n",
        "top_10_conditions = exploded_df['Conditions'].value_counts().nlargest(10).index\n",
        "\n",
        "# Filter dataset to include only top 10 conditions\n",
        "filtered_df = exploded_df[exploded_df['Conditions'].isin(top_10_conditions)]\n",
        "\n",
        "# Group by 'Conditions' and 'Gender' and count occurrences\n",
        "condition_gender_counts = filtered_df.groupby(['Conditions', 'Gender']).size().reset_index(name='Number of Trials')\n",
        "\n",
        "fig = px.bar(\n",
        "    condition_gender_counts,\n",
        "    x='Conditions',\n",
        "    y='Number of Trials',\n",
        "    color='Gender',\n",
        "    title='Gender Distribution in Top 10 Most Frequently Studied Cancer Conditions from 2010 to 2016',\n",
        "    labels={'Conditions': 'Cancer Conditions', 'Number of Trials': 'Number of Trials'},\n",
        "    text='Number of Trials'\n",
        ")\n",
        "\n",
        "fig.update_layout(barmode = 'group',xaxis={'categoryorder': 'total descending'})\n",
        "fig.show()\n"
      ],
      "metadata": {
        "colab": {
          "base_uri": "https://localhost:8080/",
          "height": 542
        },
        "id": "ZjjE6p2u4yLQ",
        "outputId": "07d3cef3-9806-453d-cd00-67e4241772ec"
      },
      "execution_count": 30,
      "outputs": [
        {
          "output_type": "display_data",
          "data": {
            "text/html": [
              "<html>\n",
              "<head><meta charset=\"utf-8\" /></head>\n",
              "<body>\n",
              "    <div>            <script src=\"https://cdnjs.cloudflare.com/ajax/libs/mathjax/2.7.5/MathJax.js?config=TeX-AMS-MML_SVG\"></script><script type=\"text/javascript\">if (window.MathJax && window.MathJax.Hub && window.MathJax.Hub.Config) {window.MathJax.Hub.Config({SVG: {font: \"STIX-Web\"}});}</script>                <script type=\"text/javascript\">window.PlotlyConfig = {MathJaxConfig: 'local'};</script>\n",
              "        <script charset=\"utf-8\" src=\"https://cdn.plot.ly/plotly-2.35.2.min.js\"></script>                <div id=\"4cdc13d1-5e58-4783-87a8-59a62cbde9c4\" class=\"plotly-graph-div\" style=\"height:525px; width:100%;\"></div>            <script type=\"text/javascript\">                                    window.PLOTLYENV=window.PLOTLYENV || {};                                    if (document.getElementById(\"4cdc13d1-5e58-4783-87a8-59a62cbde9c4\")) {                    Plotly.newPlot(                        \"4cdc13d1-5e58-4783-87a8-59a62cbde9c4\",                        [{\"alignmentgroup\":\"True\",\"hovertemplate\":\"Gender=Female\\u003cbr\\u003eCancer Conditions=%{x}\\u003cbr\\u003eNumber of Trials=%{text}\\u003cextra\\u003e\\u003c\\u002fextra\\u003e\",\"legendgroup\":\"Female\",\"marker\":{\"color\":\"#636efa\",\"pattern\":{\"shape\":\"\"}},\"name\":\"Female\",\"offsetgroup\":\"Female\",\"orientation\":\"v\",\"showlegend\":true,\"text\":[869.0,341.0,202.0,183.0,221.0,207.0,220.0,332.0,207.0,66.0],\"textposition\":\"auto\",\"x\":[\"Breast Cancer\",\"Cancer\",\"Colorectal Cancer\",\"Leukemia\",\"Lung Cancer\",\"Lymphoma\",\"Melanoma\",\"Multiple Myeloma\",\"Pancreatic Cancer\",\"Prostate Cancer\"],\"xaxis\":\"x\",\"y\":[869,341,202,183,221,207,220,332,207,66],\"yaxis\":\"y\",\"type\":\"bar\"},{\"alignmentgroup\":\"True\",\"hovertemplate\":\"Gender=Male\\u003cbr\\u003eCancer Conditions=%{x}\\u003cbr\\u003eNumber of Trials=%{text}\\u003cextra\\u003e\\u003c\\u002fextra\\u003e\",\"legendgroup\":\"Male\",\"marker\":{\"color\":\"#EF553B\",\"pattern\":{\"shape\":\"\"}},\"name\":\"Male\",\"offsetgroup\":\"Male\",\"orientation\":\"v\",\"showlegend\":true,\"text\":[293.0,327.0,202.0,182.0,221.0,207.0,220.0,331.0,207.0,498.0],\"textposition\":\"auto\",\"x\":[\"Breast Cancer\",\"Cancer\",\"Colorectal Cancer\",\"Leukemia\",\"Lung Cancer\",\"Lymphoma\",\"Melanoma\",\"Multiple Myeloma\",\"Pancreatic Cancer\",\"Prostate Cancer\"],\"xaxis\":\"x\",\"y\":[293,327,202,182,221,207,220,331,207,498],\"yaxis\":\"y\",\"type\":\"bar\"}],                        {\"template\":{\"data\":{\"histogram2dcontour\":[{\"type\":\"histogram2dcontour\",\"colorbar\":{\"outlinewidth\":0,\"ticks\":\"\"},\"colorscale\":[[0.0,\"#0d0887\"],[0.1111111111111111,\"#46039f\"],[0.2222222222222222,\"#7201a8\"],[0.3333333333333333,\"#9c179e\"],[0.4444444444444444,\"#bd3786\"],[0.5555555555555556,\"#d8576b\"],[0.6666666666666666,\"#ed7953\"],[0.7777777777777778,\"#fb9f3a\"],[0.8888888888888888,\"#fdca26\"],[1.0,\"#f0f921\"]]}],\"choropleth\":[{\"type\":\"choropleth\",\"colorbar\":{\"outlinewidth\":0,\"ticks\":\"\"}}],\"histogram2d\":[{\"type\":\"histogram2d\",\"colorbar\":{\"outlinewidth\":0,\"ticks\":\"\"},\"colorscale\":[[0.0,\"#0d0887\"],[0.1111111111111111,\"#46039f\"],[0.2222222222222222,\"#7201a8\"],[0.3333333333333333,\"#9c179e\"],[0.4444444444444444,\"#bd3786\"],[0.5555555555555556,\"#d8576b\"],[0.6666666666666666,\"#ed7953\"],[0.7777777777777778,\"#fb9f3a\"],[0.8888888888888888,\"#fdca26\"],[1.0,\"#f0f921\"]]}],\"heatmap\":[{\"type\":\"heatmap\",\"colorbar\":{\"outlinewidth\":0,\"ticks\":\"\"},\"colorscale\":[[0.0,\"#0d0887\"],[0.1111111111111111,\"#46039f\"],[0.2222222222222222,\"#7201a8\"],[0.3333333333333333,\"#9c179e\"],[0.4444444444444444,\"#bd3786\"],[0.5555555555555556,\"#d8576b\"],[0.6666666666666666,\"#ed7953\"],[0.7777777777777778,\"#fb9f3a\"],[0.8888888888888888,\"#fdca26\"],[1.0,\"#f0f921\"]]}],\"heatmapgl\":[{\"type\":\"heatmapgl\",\"colorbar\":{\"outlinewidth\":0,\"ticks\":\"\"},\"colorscale\":[[0.0,\"#0d0887\"],[0.1111111111111111,\"#46039f\"],[0.2222222222222222,\"#7201a8\"],[0.3333333333333333,\"#9c179e\"],[0.4444444444444444,\"#bd3786\"],[0.5555555555555556,\"#d8576b\"],[0.6666666666666666,\"#ed7953\"],[0.7777777777777778,\"#fb9f3a\"],[0.8888888888888888,\"#fdca26\"],[1.0,\"#f0f921\"]]}],\"contourcarpet\":[{\"type\":\"contourcarpet\",\"colorbar\":{\"outlinewidth\":0,\"ticks\":\"\"}}],\"contour\":[{\"type\":\"contour\",\"colorbar\":{\"outlinewidth\":0,\"ticks\":\"\"},\"colorscale\":[[0.0,\"#0d0887\"],[0.1111111111111111,\"#46039f\"],[0.2222222222222222,\"#7201a8\"],[0.3333333333333333,\"#9c179e\"],[0.4444444444444444,\"#bd3786\"],[0.5555555555555556,\"#d8576b\"],[0.6666666666666666,\"#ed7953\"],[0.7777777777777778,\"#fb9f3a\"],[0.8888888888888888,\"#fdca26\"],[1.0,\"#f0f921\"]]}],\"surface\":[{\"type\":\"surface\",\"colorbar\":{\"outlinewidth\":0,\"ticks\":\"\"},\"colorscale\":[[0.0,\"#0d0887\"],[0.1111111111111111,\"#46039f\"],[0.2222222222222222,\"#7201a8\"],[0.3333333333333333,\"#9c179e\"],[0.4444444444444444,\"#bd3786\"],[0.5555555555555556,\"#d8576b\"],[0.6666666666666666,\"#ed7953\"],[0.7777777777777778,\"#fb9f3a\"],[0.8888888888888888,\"#fdca26\"],[1.0,\"#f0f921\"]]}],\"mesh3d\":[{\"type\":\"mesh3d\",\"colorbar\":{\"outlinewidth\":0,\"ticks\":\"\"}}],\"scatter\":[{\"fillpattern\":{\"fillmode\":\"overlay\",\"size\":10,\"solidity\":0.2},\"type\":\"scatter\"}],\"parcoords\":[{\"type\":\"parcoords\",\"line\":{\"colorbar\":{\"outlinewidth\":0,\"ticks\":\"\"}}}],\"scatterpolargl\":[{\"type\":\"scatterpolargl\",\"marker\":{\"colorbar\":{\"outlinewidth\":0,\"ticks\":\"\"}}}],\"bar\":[{\"error_x\":{\"color\":\"#2a3f5f\"},\"error_y\":{\"color\":\"#2a3f5f\"},\"marker\":{\"line\":{\"color\":\"#E5ECF6\",\"width\":0.5},\"pattern\":{\"fillmode\":\"overlay\",\"size\":10,\"solidity\":0.2}},\"type\":\"bar\"}],\"scattergeo\":[{\"type\":\"scattergeo\",\"marker\":{\"colorbar\":{\"outlinewidth\":0,\"ticks\":\"\"}}}],\"scatterpolar\":[{\"type\":\"scatterpolar\",\"marker\":{\"colorbar\":{\"outlinewidth\":0,\"ticks\":\"\"}}}],\"histogram\":[{\"marker\":{\"pattern\":{\"fillmode\":\"overlay\",\"size\":10,\"solidity\":0.2}},\"type\":\"histogram\"}],\"scattergl\":[{\"type\":\"scattergl\",\"marker\":{\"colorbar\":{\"outlinewidth\":0,\"ticks\":\"\"}}}],\"scatter3d\":[{\"type\":\"scatter3d\",\"line\":{\"colorbar\":{\"outlinewidth\":0,\"ticks\":\"\"}},\"marker\":{\"colorbar\":{\"outlinewidth\":0,\"ticks\":\"\"}}}],\"scattermapbox\":[{\"type\":\"scattermapbox\",\"marker\":{\"colorbar\":{\"outlinewidth\":0,\"ticks\":\"\"}}}],\"scatterternary\":[{\"type\":\"scatterternary\",\"marker\":{\"colorbar\":{\"outlinewidth\":0,\"ticks\":\"\"}}}],\"scattercarpet\":[{\"type\":\"scattercarpet\",\"marker\":{\"colorbar\":{\"outlinewidth\":0,\"ticks\":\"\"}}}],\"carpet\":[{\"aaxis\":{\"endlinecolor\":\"#2a3f5f\",\"gridcolor\":\"white\",\"linecolor\":\"white\",\"minorgridcolor\":\"white\",\"startlinecolor\":\"#2a3f5f\"},\"baxis\":{\"endlinecolor\":\"#2a3f5f\",\"gridcolor\":\"white\",\"linecolor\":\"white\",\"minorgridcolor\":\"white\",\"startlinecolor\":\"#2a3f5f\"},\"type\":\"carpet\"}],\"table\":[{\"cells\":{\"fill\":{\"color\":\"#EBF0F8\"},\"line\":{\"color\":\"white\"}},\"header\":{\"fill\":{\"color\":\"#C8D4E3\"},\"line\":{\"color\":\"white\"}},\"type\":\"table\"}],\"barpolar\":[{\"marker\":{\"line\":{\"color\":\"#E5ECF6\",\"width\":0.5},\"pattern\":{\"fillmode\":\"overlay\",\"size\":10,\"solidity\":0.2}},\"type\":\"barpolar\"}],\"pie\":[{\"automargin\":true,\"type\":\"pie\"}]},\"layout\":{\"autotypenumbers\":\"strict\",\"colorway\":[\"#636efa\",\"#EF553B\",\"#00cc96\",\"#ab63fa\",\"#FFA15A\",\"#19d3f3\",\"#FF6692\",\"#B6E880\",\"#FF97FF\",\"#FECB52\"],\"font\":{\"color\":\"#2a3f5f\"},\"hovermode\":\"closest\",\"hoverlabel\":{\"align\":\"left\"},\"paper_bgcolor\":\"white\",\"plot_bgcolor\":\"#E5ECF6\",\"polar\":{\"bgcolor\":\"#E5ECF6\",\"angularaxis\":{\"gridcolor\":\"white\",\"linecolor\":\"white\",\"ticks\":\"\"},\"radialaxis\":{\"gridcolor\":\"white\",\"linecolor\":\"white\",\"ticks\":\"\"}},\"ternary\":{\"bgcolor\":\"#E5ECF6\",\"aaxis\":{\"gridcolor\":\"white\",\"linecolor\":\"white\",\"ticks\":\"\"},\"baxis\":{\"gridcolor\":\"white\",\"linecolor\":\"white\",\"ticks\":\"\"},\"caxis\":{\"gridcolor\":\"white\",\"linecolor\":\"white\",\"ticks\":\"\"}},\"coloraxis\":{\"colorbar\":{\"outlinewidth\":0,\"ticks\":\"\"}},\"colorscale\":{\"sequential\":[[0.0,\"#0d0887\"],[0.1111111111111111,\"#46039f\"],[0.2222222222222222,\"#7201a8\"],[0.3333333333333333,\"#9c179e\"],[0.4444444444444444,\"#bd3786\"],[0.5555555555555556,\"#d8576b\"],[0.6666666666666666,\"#ed7953\"],[0.7777777777777778,\"#fb9f3a\"],[0.8888888888888888,\"#fdca26\"],[1.0,\"#f0f921\"]],\"sequentialminus\":[[0.0,\"#0d0887\"],[0.1111111111111111,\"#46039f\"],[0.2222222222222222,\"#7201a8\"],[0.3333333333333333,\"#9c179e\"],[0.4444444444444444,\"#bd3786\"],[0.5555555555555556,\"#d8576b\"],[0.6666666666666666,\"#ed7953\"],[0.7777777777777778,\"#fb9f3a\"],[0.8888888888888888,\"#fdca26\"],[1.0,\"#f0f921\"]],\"diverging\":[[0,\"#8e0152\"],[0.1,\"#c51b7d\"],[0.2,\"#de77ae\"],[0.3,\"#f1b6da\"],[0.4,\"#fde0ef\"],[0.5,\"#f7f7f7\"],[0.6,\"#e6f5d0\"],[0.7,\"#b8e186\"],[0.8,\"#7fbc41\"],[0.9,\"#4d9221\"],[1,\"#276419\"]]},\"xaxis\":{\"gridcolor\":\"white\",\"linecolor\":\"white\",\"ticks\":\"\",\"title\":{\"standoff\":15},\"zerolinecolor\":\"white\",\"automargin\":true,\"zerolinewidth\":2},\"yaxis\":{\"gridcolor\":\"white\",\"linecolor\":\"white\",\"ticks\":\"\",\"title\":{\"standoff\":15},\"zerolinecolor\":\"white\",\"automargin\":true,\"zerolinewidth\":2},\"scene\":{\"xaxis\":{\"backgroundcolor\":\"#E5ECF6\",\"gridcolor\":\"white\",\"linecolor\":\"white\",\"showbackground\":true,\"ticks\":\"\",\"zerolinecolor\":\"white\",\"gridwidth\":2},\"yaxis\":{\"backgroundcolor\":\"#E5ECF6\",\"gridcolor\":\"white\",\"linecolor\":\"white\",\"showbackground\":true,\"ticks\":\"\",\"zerolinecolor\":\"white\",\"gridwidth\":2},\"zaxis\":{\"backgroundcolor\":\"#E5ECF6\",\"gridcolor\":\"white\",\"linecolor\":\"white\",\"showbackground\":true,\"ticks\":\"\",\"zerolinecolor\":\"white\",\"gridwidth\":2}},\"shapedefaults\":{\"line\":{\"color\":\"#2a3f5f\"}},\"annotationdefaults\":{\"arrowcolor\":\"#2a3f5f\",\"arrowhead\":0,\"arrowwidth\":1},\"geo\":{\"bgcolor\":\"white\",\"landcolor\":\"#E5ECF6\",\"subunitcolor\":\"white\",\"showland\":true,\"showlakes\":true,\"lakecolor\":\"white\"},\"title\":{\"x\":0.05},\"mapbox\":{\"style\":\"light\"}}},\"xaxis\":{\"anchor\":\"y\",\"domain\":[0.0,1.0],\"title\":{\"text\":\"Cancer Conditions\"},\"categoryorder\":\"total descending\"},\"yaxis\":{\"anchor\":\"x\",\"domain\":[0.0,1.0],\"title\":{\"text\":\"Number of Trials\"}},\"legend\":{\"title\":{\"text\":\"Gender\"},\"tracegroupgap\":0},\"title\":{\"text\":\"Gender Distribution in Top 10 Most Frequently Studied Cancer Conditions from 2010 to 2016\"},\"barmode\":\"group\"},                        {\"responsive\": true}                    ).then(function(){\n",
              "                            \n",
              "var gd = document.getElementById('4cdc13d1-5e58-4783-87a8-59a62cbde9c4');\n",
              "var x = new MutationObserver(function (mutations, observer) {{\n",
              "        var display = window.getComputedStyle(gd).display;\n",
              "        if (!display || display === 'none') {{\n",
              "            console.log([gd, 'removed!']);\n",
              "            Plotly.purge(gd);\n",
              "            observer.disconnect();\n",
              "        }}\n",
              "}});\n",
              "\n",
              "// Listen for the removal of the full notebook cells\n",
              "var notebookContainer = gd.closest('#notebook-container');\n",
              "if (notebookContainer) {{\n",
              "    x.observe(notebookContainer, {childList: true});\n",
              "}}\n",
              "\n",
              "// Listen for the clearing of the current output cell\n",
              "var outputEl = gd.closest('.output');\n",
              "if (outputEl) {{\n",
              "    x.observe(outputEl, {childList: true});\n",
              "}}\n",
              "\n",
              "                        })                };                            </script>        </div>\n",
              "</body>\n",
              "</html>"
            ]
          },
          "metadata": {}
        }
      ]
    },
    {
      "cell_type": "markdown",
      "source": [],
      "metadata": {
        "id": "bCKddfT5rQH_"
      }
    },
    {
      "cell_type": "markdown",
      "source": [
        "## Conclusion\n",
        "\n",
        "Breast Cancer is the most studied cancer, followed by Prostate Cancer.\n",
        "Cancer Trials are mostly conducted on adults and seniors. Adults are the most common subjects for cancer trials, followed by seniors, and children are last.\n",
        "Cancer Trials are relatively evenly distributed across genders, except for special cancer conditions such as breast cancer and prostate cancer, in which one sex are more likely to develop this condition.\n",
        "\n"
      ],
      "metadata": {
        "id": "FLoL8dG0w2QW"
      }
    }
  ]
}